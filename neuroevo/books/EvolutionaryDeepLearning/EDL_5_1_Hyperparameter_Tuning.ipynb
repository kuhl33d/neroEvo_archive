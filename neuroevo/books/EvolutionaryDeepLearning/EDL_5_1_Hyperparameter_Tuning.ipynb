{
  "nbformat": 4,
  "nbformat_minor": 0,
  "metadata": {
    "colab": {
      "name": "EDL_5_1_Hyperparameter_Tuning.ipynb",
      "provenance": [],
      "collapsed_sections": [],
      "authorship_tag": "ABX9TyN9fUFWEmEAyN9w5ZZKgtuw",
      "include_colab_link": true
    },
    "kernelspec": {
      "name": "python3",
      "display_name": "Python 3"
    }
  },
  "cells": [
    {
      "cell_type": "markdown",
      "metadata": {
        "id": "view-in-github",
        "colab_type": "text"
      },
      "source": [
        "<a href=\"https://colab.research.google.com/github/cxbxmxcx/EvolutionaryDeepLearning/blob/main/EDL_5_1_Hyperparameter_Tuning.ipynb\" target=\"_parent\"><img src=\"https://colab.research.google.com/assets/colab-badge.svg\" alt=\"Open In Colab\"/></a>"
      ]
    },
    {
      "cell_type": "markdown",
      "metadata": {
        "id": "7eo9h5KA5UPe"
      },
      "source": [
        "# Setup"
      ]
    },
    {
      "cell_type": "code",
      "metadata": {
        "id": "FslekLiVp_Il"
      },
      "source": [
        "#@title Defining Imports\n",
        "#numpy\n",
        "import numpy as np\n",
        "import math\n",
        "#PyTorch\n",
        "import torch\n",
        "import torch.nn as nn\n",
        "from torch.autograd import Variable\n",
        "import torch.nn.functional as F\n",
        "import torch.optim as optim\n",
        "from torch.utils.data import TensorDataset, DataLoader\n",
        "#plotting\n",
        "from matplotlib import pyplot as plt\n",
        "from IPython.display import clear_output\n",
        "#for performance timing\n",
        "import time"
      ],
      "execution_count": null,
      "outputs": []
    },
    {
      "cell_type": "code",
      "metadata": {
        "id": "gaFe1mDywxdu"
      },
      "source": [
        "results = []"
      ],
      "execution_count": null,
      "outputs": []
    },
    {
      "cell_type": "code",
      "metadata": {
        "id": "NpNRGhi8qShC"
      },
      "source": [
        "#@title Setting Hyperparameters\n",
        "hp_test = \"lr = 3.5e-01\" #@param {type:\"string\"}\n",
        "learning_rate = 3.5e-01\n",
        "epochs = 500\n",
        "middle_layer = 16\n",
        "batch_size = 25\n",
        "data_step = .5\n",
        "data_min = -5\n",
        "data_max = 5"
      ],
      "execution_count": null,
      "outputs": []
    },
    {
      "cell_type": "markdown",
      "metadata": {
        "id": "zCbrGhsr6IhK"
      },
      "source": [
        "# Creating Data"
      ]
    },
    {
      "cell_type": "code",
      "metadata": {
        "id": "s8Gzcwhhr670",
        "colab": {
          "base_uri": "https://localhost:8080/",
          "height": 286
        },
        "outputId": "e9756842-5cd2-42a5-8f71-3a35b8d53575"
      },
      "source": [
        "#@title Creating data from function and reshaping\n",
        "def function(x):\n",
        "  return (2*x + 3*x**2 + 4*x**3 + 5*x**4 + 6*x**5 + 10) \n",
        "\n",
        "Xi = np.reshape(np.arange(data_min,data_max, data_step), (-1, 1))\n",
        "yi = function(Xi)\n",
        "inputs = Xi.shape[1]\n",
        "yi = yi.reshape(-1, 1)\n",
        "plt.plot(Xi, yi, 'o', color='black')\n",
        "plt.plot(Xi,yi, color=\"red\")"
      ],
      "execution_count": null,
      "outputs": [
        {
          "output_type": "execute_result",
          "data": {
            "text/plain": [
              "[<matplotlib.lines.Line2D at 0x7f3c30f532d0>]"
            ]
          },
          "metadata": {},
          "execution_count": 13
        },
        {
          "output_type": "display_data",
          "data": {
            "image/png": "[encoded data removed]",
            "text/plain": [
              "<Figure size 432x288 with 1 Axes>"
            ]
          },
          "metadata": {
            "needs_background": "light"
          }
        }
      ]
    },
    {
      "cell_type": "code",
      "metadata": {
        "id": "Qo7YjMgMaD0P"
      },
      "source": [
        "tensor_x = torch.Tensor(Xi) # transform to torch tensor\n",
        "tensor_y = torch.Tensor(yi)\n",
        "\n",
        "dataset = TensorDataset(tensor_x,tensor_y) # create your datset\n",
        "dataloader = DataLoader(dataset, batch_size= batch_size, shuffle=True) # create your dataloader"
      ],
      "execution_count": null,
      "outputs": []
    },
    {
      "cell_type": "markdown",
      "metadata": {
        "id": "7hDSRLfe5wAe"
      },
      "source": [
        "# Building the Model"
      ]
    },
    {
      "cell_type": "code",
      "metadata": {
        "id": "eY30bijNqNBL"
      },
      "source": [
        "#@title Define the Model\n",
        "class Net(nn.Module):\n",
        "  def __init__(self, inputs, middle):\n",
        "    super().__init__()\n",
        "    self.fc1 = nn.Linear(inputs,middle)    \n",
        "    self.fc2 = nn.Linear(middle,middle)    \n",
        "    self.out = nn.Linear(middle,1)\n",
        "  def forward(self, x):\n",
        "    x = F.relu(self.fc1(x))     \n",
        "    x = F.relu(self.fc2(x))    \n",
        "    x = self.out(x)\n",
        "    return x"
      ],
      "execution_count": null,
      "outputs": []
    },
    {
      "cell_type": "code",
      "metadata": {
        "colab": {
          "base_uri": "https://localhost:8080/"
        },
        "id": "4j8hXCNS5Lo0",
        "outputId": "89a02304-28d6-4a0f-c46e-3d9a307d9786"
      },
      "source": [
        "#@title Create the model\n",
        "model = Net(inputs, middle_layer)\n",
        "print(model)"
      ],
      "execution_count": null,
      "outputs": [
        {
          "output_type": "stream",
          "name": "stdout",
          "text": [
            "Net(\n",
            "  (fc1): Linear(in_features=1, out_features=16, bias=True)\n",
            "  (fc2): Linear(in_features=16, out_features=16, bias=True)\n",
            "  (out): Linear(in_features=16, out_features=1, bias=True)\n",
            ")\n"
          ]
        }
      ]
    },
    {
      "cell_type": "code",
      "metadata": {
        "id": "SHKSYklV6Ag2"
      },
      "source": [
        "#@title Define loss function (criterion) and optimizer\n",
        "loss_fn = nn.MSELoss()\n",
        "optimizer = optim.Adam(model.parameters(), lr=learning_rate)"
      ],
      "execution_count": null,
      "outputs": []
    },
    {
      "cell_type": "code",
      "metadata": {
        "id": "ZpNxqDTNsyN3",
        "colab": {
          "base_uri": "https://localhost:8080/",
          "height": 541
        },
        "outputId": "86b1e73a-e5c4-4d30-eacd-a28b994224e8"
      },
      "source": [
        "#@title Training the Model\n",
        "epoch_report = 25\n",
        "history = []\n",
        "start = time.time()\n",
        "for i in range(epochs):        \n",
        "  for X, y in iter(dataloader):\n",
        "    # wrap the data in variables\n",
        "    x_batch = Variable(torch.Tensor(X))\n",
        "    y_batch = Variable(torch.Tensor(y))                   \n",
        "    # forward pass\n",
        "    y_pred = model(x_batch)        \n",
        "    # compute and print loss\n",
        "    loss = loss_fn(y_pred, y_batch)  \n",
        "    history.append(loss.data/batch_size)         \n",
        "    # reset gradients\n",
        "    optimizer.zero_grad()        \n",
        "    # backwards pass\n",
        "    loss.backward()        \n",
        "    # step the optimizer - update the weights\n",
        "    optimizer.step()  \n",
        "  if (i+1) % epoch_report == 0:\n",
        "    clear_output()\n",
        "    y_ = model(tensor_x)\n",
        "    plt.plot(Xi, yi, 'o', color='black')\n",
        "    plt.plot(Xi,y_.detach().numpy(), 'r')\n",
        "    plt.show()\n",
        "    print(f\"[{i}] Loss = {loss.data}\")\n",
        "    time.sleep(1)\n",
        "plt.plot(history)\n",
        "end = time.time() - start"
      ],
      "execution_count": null,
      "outputs": [
        {
          "output_type": "display_data",
          "data": {
            "image/png": "[encoded data removed]",
            "text/plain": [
              "<Figure size 432x288 with 1 Axes>"
            ]
          },
          "metadata": {
            "needs_background": "light"
          }
        },
        {
          "output_type": "stream",
          "name": "stdout",
          "text": [
            "[499] Loss = 1651014.25\n"
          ]
        },
        {
          "output_type": "display_data",
          "data": {
            "image/png": "[encoded data removed]",
            "text/plain": [
              "<Figure size 432x288 with 1 Axes>"
            ]
          },
          "metadata": {
            "needs_background": "light"
          }
        }
      ]
    },
    {
      "cell_type": "code",
      "metadata": {
        "id": "nXqg7ktFuUqv",
        "colab": {
          "base_uri": "https://localhost:8080/",
          "height": 265
        },
        "outputId": "90b58293-6970-4d34-8c2b-a83d82892831"
      },
      "source": [
        "X_a = torch.rand(100,1).clone() * 10 - 5\n",
        "y_a = model(X_a)\n",
        "y_a = y_a.detach().numpy()\n",
        "results.append([hp_test,end, X_a, y_a])\n",
        "\n",
        "fig = plt.figure()\n",
        "ax1 = fig.add_subplot(111)\n",
        "for test,t,x,y in results:\n",
        "  ax1.scatter(x, y, s=10, marker=\"s\", label=f\"{test} in {t:0.1f}s\")\n",
        "\n",
        "plt.legend(loc='upper left')\n",
        "plt.plot(Xi, yi, 'o', color='black')\n",
        "plt.show()"
      ],
      "execution_count": null,
      "outputs": [
        {
          "output_type": "display_data",
          "data": {
            "image/png": "[encoded data removed]",
            "text/plain": [
              "<Figure size 432x288 with 1 Axes>"
            ]
          },
          "metadata": {
            "needs_background": "light"
          }
        }
      ]
    }
  ]
}