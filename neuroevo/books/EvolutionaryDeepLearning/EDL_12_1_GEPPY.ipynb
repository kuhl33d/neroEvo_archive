{
  "nbformat": 4,
  "nbformat_minor": 0,
  "metadata": {
    "colab": {
      "name": "EDL_12_1_GEPPY.ipynb",
      "provenance": [],
      "authorship_tag": "ABX9TyNbOPeTHNuuEFy4qkeMMLec",
      "include_colab_link": true
    },
    "kernelspec": {
      "name": "python3",
      "display_name": "Python 3"
    }
  },
  "cells": [
    {
      "cell_type": "markdown",
      "metadata": {
        "id": "view-in-github",
        "colab_type": "text"
      },
      "source": [
        "<a href=\"https://colab.research.google.com/github/cxbxmxcx/EvolutionaryDeepLearning/blob/main/EDL_12_1_GEPPY.ipynb\" target=\"_parent\"><img src=\"https://colab.research.google.com/assets/colab-badge.svg\" alt=\"Open In Colab\"/></a>"
      ]
    },
    {
      "cell_type": "code",
      "metadata": {
        "id": "h3_QyYmu8fcS",
        "outputId": "be4d7495-91e5-4eca-8cb0-c4c95e38601c",
        "colab": {
          "base_uri": "https://localhost:8080/"
        }
      },
      "source": [
        ".!pip install geppy"
      ],
      "execution_count": null,
      "outputs": [
        {
          "output_type": "stream",
          "name": "stdout",
          "text": [
            "Looking in indexes: https://pypi.org/simple, https://us-python.pkg.dev/colab-wheels/public/simple/\n",
            "Collecting geppy\n",
            "  Downloading geppy-0.1.3.tar.gz (35 kB)\n",
            "Collecting deap\n",
            "  Downloading deap-1.3.1-cp37-cp37m-manylinux_2_5_x86_64.manylinux1_x86_64.manylinux_2_12_x86_64.manylinux2010_x86_64.whl (160 kB)\n",
            "\u001b[K     |████████████████████████████████| 160 kB 16.2 MB/s \n",
            "\u001b[?25hRequirement already satisfied: numpy in /usr/local/lib/python3.7/dist-packages (from deap->geppy) (1.21.6)\n",
            "Building wheels for collected packages: geppy\n",
            "  Building wheel for geppy (setup.py) ... \u001b[?25l\u001b[?25hdone\n",
            "  Created wheel for geppy: filename=geppy-0.1.3-py3-none-any.whl size=34980 sha256=61fa3e5fd9ce2837151ecd719eb1b90fe3bec2b763a98ac9ae5abfc119384dfb\n",
            "  Stored in directory: /root/.cache/pip/wheels/a7/48/3f/a58eb545ce7d05e9a5d25c041deb90ff65952f9943545bb912\n",
            "Successfully built geppy\n",
            "Installing collected packages: deap, geppy\n",
            "Successfully installed deap-1.3.1 geppy-0.1.3\n"
          ]
        }
      ]
    },
    {
      "cell_type": "code",
      "metadata": {
        "id": "PFEXb-Nb-j4l"
      },
      "source": [
        "import geppy as gep\n",
        "from deap import creator, base, tools\n",
        "import numpy as np\n",
        "import random\n",
        "\n",
        "# for reproduction\n",
        "s = 0\n",
        "random.seed(s)\n",
        "np.random.seed(s)"
      ],
      "execution_count": null,
      "outputs": []
    },
    {
      "cell_type": "code",
      "metadata": {
        "id": "G4KBwQCk-qv8"
      },
      "source": [
        "def f(x1):\n",
        "    \"\"\"Ground truth function\"\"\"\n",
        "    return 6 * x1 + 22"
      ],
      "execution_count": null,
      "outputs": []
    },
    {
      "cell_type": "code",
      "metadata": {
        "id": "MVk1rnOs-v7c"
      },
      "source": [
        "n_cases = 100\n",
        "X1 = np.random.uniform(-10, 10, size=n_cases)   # random numbers in range [-10, 10)\n",
        "Y = f(X1) + np.random.normal(size=n_cases)   "
      ],
      "execution_count": null,
      "outputs": []
    },
    {
      "cell_type": "code",
      "metadata": {
        "id": "jOTzbnM7-6BU"
      },
      "source": [
        "def protected_div(x1, x2):\n",
        "    if abs(x2) < 1e-6:\n",
        "        return 1\n",
        "    return x1 / x2"
      ],
      "execution_count": null,
      "outputs": []
    },
    {
      "cell_type": "code",
      "metadata": {
        "id": "U5fMx_pA-9L8"
      },
      "source": [
        "import operator \n",
        "\n",
        "pset = gep.PrimitiveSet('Main', input_names=['x1'])\n",
        "pset.add_function(operator.add, 2)\n",
        "pset.add_function(operator.sub, 2)\n",
        "pset.add_function(operator.mul, 2)\n",
        "pset.add_function(protected_div, 2)\n",
        "pset.add_ephemeral_terminal(name='enc', gen=lambda: random.randint(-10, 10)) # each ENC is a random integer within [-10, 10]"
      ],
      "execution_count": null,
      "outputs": []
    },
    {
      "cell_type": "code",
      "metadata": {
        "id": "fqCYCd8T_CNk",
        "colab": {
          "base_uri": "https://localhost:8080/"
        },
        "outputId": "7f4ae86b-a616-4f3a-d49b-4f7798fc1147"
      },
      "source": [
        "from deap import creator, base, tools\n",
        "\n",
        "creator.create(\"FitnessMin\", base.Fitness, weights=(-1,))  # to minimize the objective (fitness)\n",
        "creator.create(\"Individual\", gep.Chromosome, fitness=creator.FitnessMin)"
      ],
      "execution_count": null,
      "outputs": [
        {
          "output_type": "stream",
          "name": "stderr",
          "text": [
            "/usr/local/lib/python3.7/dist-packages/deap/creator.py:141: RuntimeWarning: A class named 'FitnessMin' has already been created and it will be overwritten. Consider deleting previous creation of that class or rename it.\n",
            "  RuntimeWarning)\n",
            "/usr/local/lib/python3.7/dist-packages/deap/creator.py:141: RuntimeWarning: A class named 'Individual' has already been created and it will be overwritten. Consider deleting previous creation of that class or rename it.\n",
            "  RuntimeWarning)\n"
          ]
        }
      ]
    },
    {
      "cell_type": "code",
      "metadata": {
        "id": "RutDOOsL_E3s"
      },
      "source": [
        "h = 7 # head length\n",
        "n_genes = 2   # number of genes in a chromosome"
      ],
      "execution_count": null,
      "outputs": []
    },
    {
      "cell_type": "code",
      "metadata": {
        "id": "Ya1PRxkx_HtE"
      },
      "source": [
        "toolbox = gep.Toolbox()\n",
        "toolbox.register('gene_gen', gep.Gene, pset=pset, head_length=h)\n",
        "toolbox.register('individual', creator.Individual, gene_gen=toolbox.gene_gen, n_genes=n_genes, linker=operator.add)\n",
        "toolbox.register(\"population\", tools.initRepeat, list, toolbox.individual)\n",
        "\n",
        "# compile utility: which translates an individual into an executable function (Lambda)\n",
        "toolbox.register('compile', gep.compile_, pset=pset)"
      ],
      "execution_count": null,
      "outputs": []
    },
    {
      "cell_type": "code",
      "metadata": {
        "id": "44x6LiQg_K10"
      },
      "source": [
        "def evaluate(individual):\n",
        "    \"\"\"Evalute the fitness of an individual: MAE (mean absolute error)\"\"\"\n",
        "    func = toolbox.compile(individual)\n",
        "    Yp = np.array(list(map(func, X1)))\n",
        "    return np.mean(np.abs(Y - Yp)),\n",
        "\n",
        "toolbox.register('evaluate', evaluate)"
      ],
      "execution_count": null,
      "outputs": []
    },
    {
      "cell_type": "code",
      "metadata": {
        "id": "q3asJCb7_mi9"
      },
      "source": [
        "toolbox.register('select', tools.selTournament, tournsize=3)\n",
        "# 1. general operators\n",
        "toolbox.register('mut_uniform', gep.mutate_uniform, pset=pset, ind_pb=0.05, pb=1)\n",
        "toolbox.register('mut_invert', gep.invert, pb=0.1)\n",
        "toolbox.register('mut_is_transpose', gep.is_transpose, pb=0.1)\n",
        "toolbox.register('mut_ris_transpose', gep.ris_transpose, pb=0.1)\n",
        "toolbox.register('mut_gene_transpose', gep.gene_transpose, pb=0.1)\n",
        "toolbox.register('cx_1p', gep.crossover_one_point, pb=0.4)\n",
        "toolbox.register('cx_2p', gep.crossover_two_point, pb=0.2)\n",
        "toolbox.register('cx_gene', gep.crossover_gene, pb=0.1)\n",
        "toolbox.register('mut_ephemeral', gep.mutate_uniform_ephemeral, ind_pb='1p')  # 1p: expected one point mutation in an individual\n",
        "toolbox.pbs['mut_ephemeral'] = 1  # we can also give the probability via the pbs property"
      ],
      "execution_count": null,
      "outputs": []
    },
    {
      "cell_type": "code",
      "metadata": {
        "id": "ztOYvQHk_qiN"
      },
      "source": [
        "stats = tools.Statistics(key=lambda ind: ind.fitness.values[0])\n",
        "stats.register(\"avg\", np.mean)\n",
        "stats.register(\"std\", np.std)\n",
        "stats.register(\"min\", np.min)\n",
        "stats.register(\"max\", np.max)"
      ],
      "execution_count": null,
      "outputs": []
    },
    {
      "cell_type": "code",
      "metadata": {
        "id": "QCqOB-v5_vXd",
        "outputId": "0700f3f7-fa18-48bc-f7b4-daa988eb7be3",
        "colab": {
          "base_uri": "https://localhost:8080/"
        }
      },
      "source": [
        "# size of population and number of generations\n",
        "n_pop = 100\n",
        "n_gen = 100\n",
        "\n",
        "pop = toolbox.population(n=n_pop)\n",
        "hof = tools.HallOfFame(3)   # only record the best three individuals ever found in all generations\n",
        "\n",
        "# start evolution\n",
        "pop, log = gep.gep_simple(pop, toolbox, n_generations=n_gen, n_elites=1,\n",
        "                          stats=stats, hall_of_fame=hof, verbose=True)"
      ],
      "execution_count": null,
      "outputs": [
        {
          "output_type": "stream",
          "name": "stdout",
          "text": [
            "gen\tnevals\tavg   \tstd    \tmin   \tmax   \n",
            "0  \t100   \t79.508\t182.509\t21.851\t1618.7\n",
            "1  \t99    \t35.3927\t23.9588\t20.3218\t256.369\n",
            "2  \t99    \t30.8422\t7.34617\t19.6921\t75.5732\n",
            "3  \t99    \t29.0236\t8.98522\t14.3142\t96.4777\n",
            "4  \t99    \t50.2893\t188.118\t6.72881\t1898.59\n",
            "5  \t99    \t30.629 \t28.69  \t6.72881\t280.448\n",
            "6  \t99    \t28.978 \t33.8236\t6.72881\t351.204\n",
            "7  \t99    \t28.9   \t33.7767\t6.72881\t320.698\n",
            "8  \t99    \t30.4022\t30.6196\t6.72881\t283.503\n",
            "9  \t99    \t26.2585\t20.9953\t6.19649\t199.308\n",
            "10 \t99    \t24.6556\t25.7486\t6.19649\t263.798\n",
            "11 \t99    \t26.3269\t25.0928\t6.19649\t225.353\n",
            "12 \t99    \t23.0573\t10.8261\t5.4406 \t64.0733\n",
            "13 \t99    \t28.8164\t33.8838\t2.23366\t287.502\n",
            "14 \t99    \t24.8104\t13.9405\t2.23366\t95.0199\n",
            "15 \t99    \t24.5155\t36.0145\t2.23366\t365.314\n",
            "16 \t99    \t23.5569\t31.2204\t2.23366\t247.452\n",
            "17 \t99    \t22.1811\t21.0677\t2.23366\t200.087\n",
            "18 \t99    \t20.111 \t15.1699\t2.23366\t114.395\n",
            "19 \t99    \t19.1431\t11.1079\t1.07121\t62.1307\n",
            "20 \t99    \t22.0577\t39.6602\t1.07121\t396.978\n",
            "21 \t99    \t17.9893\t10.7395\t1.07121\t81.1317\n",
            "22 \t99    \t21.732 \t29.7447\t1.07121\t244.845\n",
            "23 \t99    \t20.5621\t15.3782\t1.07121\t92.6812\n",
            "24 \t99    \t17.5641\t10.9933\t1.07121\t53.9355\n",
            "25 \t99    \t19.2724\t13.9148\t1.07121\t87.4839\n",
            "26 \t99    \t29.4039\t67.4492\t1.07121\t576.168\n",
            "27 \t99    \t16.9335\t9.7878 \t1.07121\t47.9375\n",
            "28 \t99    \t18.0609\t15.4658\t0.822845\t101.309\n",
            "29 \t99    \t16.92  \t11.2814\t0.822845\t65.0924\n",
            "30 \t99    \t19.3765\t22.3655\t0.822845\t193.602\n",
            "31 \t99    \t16.8741\t10.7246\t0.822845\t58.3088\n",
            "32 \t99    \t18.1046\t12.2456\t0.822845\t96.0671\n",
            "33 \t99    \t17.9433\t17.7119\t0.822845\t145.313\n",
            "34 \t99    \t19.9159\t17.8035\t0.822845\t134.639\n",
            "35 \t99    \t17.4436\t16.0518\t0.822845\t137.034\n",
            "36 \t99    \t18.5851\t17.7808\t0.822845\t101.077\n",
            "37 \t99    \t20.7779\t15.0296\t0.822845\t103.51 \n",
            "38 \t99    \t18.9194\t13.8323\t0.822845\t81.9355\n",
            "39 \t99    \t20.2263\t18.9013\t0.822845\t159.317\n",
            "40 \t99    \t15.898 \t9.01143\t0.822845\t42.851 \n",
            "41 \t99    \t22.0898\t28.7308\t0.822845\t206.013\n",
            "42 \t99    \t16.627 \t10.5541\t0.822845\t46.7055\n",
            "43 \t99    \t20.4967\t19.4153\t0.822845\t178.027\n",
            "44 \t99    \t19.3301\t15.4167\t0.822845\t89.4263\n",
            "45 \t99    \t17.4647\t11.806 \t0.822845\t91.5132\n",
            "46 \t99    \t23.5128\t55.8647\t0.822845\t560.958\n",
            "47 \t99    \t21.2744\t21.2538\t0.822845\t195.142\n",
            "48 \t99    \t20.6599\t25.8038\t0.822845\t231.024\n",
            "49 \t99    \t22.1988\t41.684 \t0.822845\t421.686\n",
            "50 \t99    \t17.2017\t9.95203\t0.822845\t60.9152\n",
            "51 \t99    \t17.5779\t14.2912\t0.822845\t105.147\n",
            "52 \t99    \t18.9402\t12.7362\t0.822845\t101.724\n",
            "53 \t99    \t19.5067\t16.5847\t0.822845\t99.7718\n",
            "54 \t99    \t17.7665\t13.3795\t0.822845\t108.851\n",
            "55 \t99    \t17.9032\t11.3966\t0.822845\t72.4804\n",
            "56 \t99    \t18.0613\t12.6713\t0.822845\t92.4037\n",
            "57 \t99    \t16.7355\t11.3841\t0.822845\t72.7141\n",
            "58 \t99    \t16.4111\t12.5768\t0.822845\t80.8117\n",
            "59 \t99    \t16.8185\t11.4786\t0.822845\t85.6006\n",
            "60 \t99    \t17.3207\t9.30015\t0.822845\t40.0442\n",
            "61 \t99    \t17.6141\t11.3219\t0.822845\t79.6428\n",
            "62 \t99    \t15.9866\t11.7304\t0.822845\t68.7666\n",
            "63 \t99    \t23.7416\t37.4417\t0.822845\t298.029\n",
            "64 \t99    \t20.7578\t15.647 \t0.822845\t112.109\n",
            "65 \t99    \t16.0255\t8.62144\t0.822845\t43.7992\n",
            "66 \t99    \t19.511 \t12.2213\t0.822845\t62.5058\n",
            "67 \t99    \t19.5478\t13.3788\t0.822845\t87.9294\n",
            "68 \t99    \t19.0611\t14.8901\t0.822845\t84.0382\n",
            "69 \t99    \t19.2347\t23.7899\t0.822845\t225.438\n",
            "70 \t99    \t21.9521\t26.156 \t0.822845\t165.355\n",
            "71 \t99    \t19.2983\t16.601 \t0.822845\t118.23 \n",
            "72 \t99    \t20.2231\t21.2046\t0.822845\t135.88 \n",
            "73 \t99    \t18.1894\t15.6814\t0.822845\t105.649\n",
            "74 \t99    \t21.0926\t29.4335\t0.822845\t288.254\n",
            "75 \t99    \t18.0461\t17.9768\t0.822845\t110.476\n",
            "76 \t99    \t21.9432\t30.7692\t0.822845\t272.075\n",
            "77 \t99    \t17.8521\t13.6964\t0.822845\t81.0136\n",
            "78 \t99    \t20.4771\t17.7102\t0.822845\t108.864\n",
            "79 \t99    \t19.918 \t27.7912\t0.822845\t237.793\n",
            "80 \t99    \t17.1688\t13.2967\t0.822845\t115.645\n",
            "81 \t99    \t15.3082\t9.23838\t0.822845\t41.9355\n",
            "82 \t99    \t16.8039\t15.5359\t0.822845\t114.555\n",
            "83 \t99    \t18.8584\t20.3451\t0.822845\t154.119\n",
            "84 \t99    \t17.3037\t18.8321\t0.822845\t162.413\n",
            "85 \t99    \t16.0965\t11.1268\t0.822845\t69.3394\n",
            "86 \t99    \t16.0705\t13.2171\t0.822845\t76.3641\n",
            "87 \t99    \t14.0612\t9.62448\t0.822845\t67.2334\n",
            "88 \t99    \t16.4093\t15.04  \t0.822845\t102.689\n",
            "89 \t99    \t21.8617\t36.6164\t0.822845\t255.941\n",
            "90 \t99    \t15.9202\t12.5213\t0.822845\t83.5141\n",
            "91 \t99    \t20.9705\t31.2778\t0.822845\t306.761\n",
            "92 \t99    \t18.4562\t13.9414\t0.822845\t100.155\n",
            "93 \t99    \t18.4164\t11.2353\t0.822845\t63.139 \n",
            "94 \t99    \t15.2957\t9.20519\t0.822845\t44.851 \n",
            "95 \t99    \t15.7419\t12.8995\t0.822845\t73.0022\n",
            "96 \t99    \t18.9236\t21.8586\t0.822845\t161.077\n",
            "97 \t99    \t16.3321\t13.1788\t0.822845\t60.3605\n",
            "98 \t99    \t17.0083\t20.0667\t0.822845\t122.349\n",
            "99 \t99    \t19.625 \t19.2169\t0.822845\t105.034\n",
            "100\t99    \t17.1066\t18.4532\t0.822845\t133.758\n"
          ]
        }
      ]
    },
    {
      "cell_type": "code",
      "metadata": {
        "id": "ldBNyJvP__50",
        "colab": {
          "base_uri": "https://localhost:8080/"
        },
        "outputId": "9985f32b-cf57-4dc6-eae0-d31519ae743a"
      },
      "source": [
        "print(hof[0])"
      ],
      "execution_count": null,
      "outputs": [
        {
          "output_type": "stream",
          "name": "stdout",
          "text": [
            "add(\n",
            "\tadd(x1, add(x1, add(add(0, x1), add(4, -1)))),\n",
            "\tadd(add(x1, add(6, 9)), add(x1, sub(x1, -4)))\n",
            ")\n"
          ]
        }
      ]
    },
    {
      "cell_type": "code",
      "metadata": {
        "id": "qS3W5O6oAFi0",
        "colab": {
          "base_uri": "https://localhost:8080/"
        },
        "outputId": "e746a55d-4a97-4052-e9a1-486fc38d5b1d"
      },
      "source": [
        "best_ind = hof[0]\n",
        "symplified_best = gep.simplify(best_ind)\n",
        "print('Symplified best individual: ')\n",
        "print(symplified_best)"
      ],
      "execution_count": null,
      "outputs": [
        {
          "output_type": "stream",
          "name": "stdout",
          "text": [
            "Symplified best individual: \n",
            "6*x1 + 22\n"
          ]
        }
      ]
    },
    {
      "cell_type": "code",
      "metadata": {
        "id": "DwwTBLlfALMd",
        "colab": {
          "base_uri": "https://localhost:8080/",
          "height": 556
        },
        "outputId": "c957aff6-cf91-45d0-ecc6-b17d2a5f56ef"
      },
      "source": [
        "# we want use symbol labels instead of words in the tree graph\n",
        "rename_labels = {'add': '+', 'sub': '-', 'mul': '*', 'protected_div': '/'}  \n",
        "gep.export_expression_tree(best_ind, rename_labels, 'data/numerical_expression_tree.png')\n",
        "\n",
        "# show the above image here for convenience\n",
        "from IPython.display import Image\n",
        "Image(filename='data/numerical_expression_tree.png')"
      ],
      "execution_count": null,
      "outputs": [
        {
          "output_type": "execute_result",
          "data": {
            "text/plain": [
              "<IPython.core.display.Image object>"
            ],
            "image/png": "[encoded data removed]"
          },
          "metadata": {},
          "execution_count": 75
        }
      ]
    }
  ]
}