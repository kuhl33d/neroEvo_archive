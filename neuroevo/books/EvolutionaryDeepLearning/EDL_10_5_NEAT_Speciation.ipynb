{
  "nbformat": 4,
  "nbformat_minor": 0,
  "metadata": {
    "colab": {
      "name": "EDL_10_5_NEAT_Speciation.ipynb",
      "provenance": [],
      "collapsed_sections": [],
      "authorship_tag": "ABX9TyNRhuysrrLGaWDVIu+LnflU",
      "include_colab_link": true
    },
    "kernelspec": {
      "name": "python3",
      "display_name": "Python 3"
    },
    "language_info": {
      "name": "python"
    }
  },
  "cells": [
    {
      "cell_type": "markdown",
      "metadata": {
        "id": "view-in-github",
        "colab_type": "text"
      },
      "source": [
        "<a href=\"https://colab.research.google.com/github/cxbxmxcx/EvolutionaryDeepLearning/blob/main/EDL_10_5_NEAT_Speciation.ipynb\" target=\"_parent\"><img src=\"https://colab.research.google.com/assets/colab-badge.svg\" alt=\"Open In Colab\"/></a>"
      ]
    },
    {
      "cell_type": "code",
      "source": [
        "#@title Install NEAT\n",
        "!pip install git+https://github.com/CodeReclaimers/neat-python.git"
      ],
      "metadata": {
        "colab": {
          "base_uri": "https://localhost:8080/"
        },
        "id": "8Z3Ayt-wXGOD",
        "outputId": "eda730e7-c427-41c2-8fbb-54300707963a",
        "cellView": "form"
      },
      "execution_count": null,
      "outputs": [
        {
          "output_type": "stream",
          "name": "stdout",
          "text": [
            "Collecting git+https://github.com/CodeReclaimers/neat-python.git\n",
            "  Cloning https://github.com/CodeReclaimers/neat-python.git to /tmp/pip-req-build-aon7o_qd\n",
            "  Running command git clone -q https://github.com/CodeReclaimers/neat-python.git /tmp/pip-req-build-aon7o_qd\n"
          ]
        }
      ]
    },
    {
      "cell_type": "code",
      "execution_count": null,
      "metadata": {
        "id": "gEpTXjwrHo-Q",
        "cellView": "form"
      },
      "outputs": [],
      "source": [
        "#@title Do the Imports\n",
        "import numpy as np\n",
        "import sklearn\n",
        "import sklearn.datasets\n",
        "import sklearn.linear_model\n",
        "import matplotlib.pyplot as plt\n",
        "from IPython.display import clear_output\n",
        "import time\n",
        "\n",
        "import neat"
      ]
    },
    {
      "cell_type": "code",
      "source": [
        "#@title Dataset Parameters  { run: \"auto\" }\n",
        "number_samples = 15 #@param {type:\"slider\", min:10, max:1000, step:5}\n",
        "difficulty = 1 #@param {type:\"slider\", min:1, max:5, step:1}\n",
        "problem = \"circles\" #@param [\"classification\", \"blobs\", \"gaussian quantiles\", \"moons\", \"circles\"]\n",
        "number_features = 2\n",
        "number_classes = 2 \n",
        "\n",
        "def load_data(problem):  \n",
        "  if problem == \"classification\":\n",
        "    clusters = 1 if difficulty < 3 else 2\n",
        "    informs = 1 if difficulty < 4 else 2\n",
        "    data = sklearn.datasets.make_classification(\n",
        "        n_samples = number_samples,\n",
        "        n_features=number_features, \n",
        "        n_redundant=0, \n",
        "        class_sep=1/difficulty,\n",
        "        n_informative=informs, \n",
        "        n_clusters_per_class=clusters)\n",
        "    \n",
        "  if problem == \"blobs\":\n",
        "    data = sklearn.datasets.make_blobs(\n",
        "        n_samples = number_samples,\n",
        "        n_features=number_features, \n",
        "        centers=number_classes,\n",
        "        cluster_std = difficulty)\n",
        "  \n",
        "  if problem == \"gaussian quantiles\":\n",
        "    data = sklearn.datasets.make_gaussian_quantiles(mean=None, \n",
        "                                                  cov=difficulty,\n",
        "                                                  n_samples=number_samples,\n",
        "                                                  n_features=number_features,\n",
        "                                                  n_classes=number_classes,\n",
        "                                                  shuffle=True,\n",
        "                                                  random_state=None)\n",
        "    \n",
        "  if problem == \"moons\":\n",
        "    data = sklearn.datasets.make_moons(\n",
        "        n_samples = number_samples)\n",
        "    \n",
        "  if problem == \"circles\":\n",
        "    data = sklearn.datasets.make_circles(\n",
        "        n_samples = number_samples)\n",
        "    \n",
        "  return data\n",
        "\n",
        "data = load_data(problem)\n",
        "X, Y = data\n",
        "\n",
        "\n",
        "# Input Data\n",
        "plt.figure(\"Input Data\")\n",
        "plt.scatter(X[:, 0], X[:, 1], c=Y, s=40, cmap=plt.cm.Spectral)"
      ],
      "metadata": {
        "id": "6S1csdi_Xdhb",
        "colab": {
          "base_uri": "https://localhost:8080/",
          "height": 282
        },
        "outputId": "b1aad074-5643-40a5-fe2c-16e8e913cbe7",
        "cellView": "form"
      },
      "execution_count": null,
      "outputs": [
        {
          "output_type": "execute_result",
          "data": {
            "text/plain": [
              "<matplotlib.collections.PathCollection at 0x7ff81a4c8550>"
            ]
          },
          "metadata": {},
          "execution_count": 17
        },
        {
          "output_type": "display_data",
          "data": {
            "text/plain": [
              "<Figure size 432x288 with 1 Axes>"
            ],
            "image/png": "[encoded data removed]"
          },
          "metadata": {
            "needs_background": "light"
          }
        }
      ]
    },
    {
      "cell_type": "code",
      "source": [
        "%%writefile config\n",
        "[NEAT]\n",
        "fitness_criterion     = max\n",
        "fitness_threshold     = .9\n",
        "pop_size              = 100\n",
        "reset_on_extinction   = 1\n",
        "\n",
        "[DefaultGenome]\n",
        "num_inputs              = 2\n",
        "num_hidden              = 25\n",
        "num_outputs             = 1\n",
        "initial_connection      = partial_direct 0.5\n",
        "feed_forward            = True\n",
        "compatibility_disjoint_coefficient    = 1.0\n",
        "compatibility_weight_coefficient      = 0.6\n",
        "conn_add_prob           = 0.02\n",
        "conn_delete_prob        = 0.02\n",
        "node_add_prob           = 0.02\n",
        "node_delete_prob        = 0.02\n",
        "activation_default      = sigmoid\n",
        "activation_options      = sigmoid\n",
        "activation_mutate_rate  = 0.0\n",
        "aggregation_default     = sum\n",
        "aggregation_options     = sum\n",
        "aggregation_mutate_rate = 0.0\n",
        "bias_init_mean          = 0.0\n",
        "bias_init_stdev         = 1.0\n",
        "bias_replace_rate       = 0.1\n",
        "bias_mutate_rate        = 0.7\n",
        "bias_mutate_power       = 0.5\n",
        "bias_max_value          = 30.0\n",
        "bias_min_value          = -30.0\n",
        "response_init_mean      = 1.0\n",
        "response_init_stdev     = 0.0\n",
        "response_replace_rate   = 0.0\n",
        "response_mutate_rate    = 0.0\n",
        "response_mutate_power   = 0.0\n",
        "response_max_value      = 30.0\n",
        "response_min_value      = -30.0\n",
        "\n",
        "weight_max_value        = 30\n",
        "weight_min_value        = -30\n",
        "weight_init_mean        = 0.0\n",
        "weight_init_stdev       = 1.0\n",
        "weight_mutate_rate      = 0.08\n",
        "weight_replace_rate     = 0.01\n",
        "weight_mutate_power     = 0.1\n",
        "enabled_default         = True\n",
        "enabled_mutate_rate     = 0.01\n",
        "\n",
        "[DefaultSpeciesSet]\n",
        "compatibility_threshold = 1.0\n",
        "\n",
        "[DefaultStagnation]\n",
        "species_fitness_func = max\n",
        "max_stagnation  = 25\n",
        "\n",
        "[DefaultReproduction]\n",
        "elitism            = 2\n",
        "survival_threshold = 0.2"
      ],
      "metadata": {
        "id": "hd9WgGFyX5aZ",
        "colab": {
          "base_uri": "https://localhost:8080/"
        },
        "outputId": "89e033ff-9fbe-4ae1-b4d0-a941ebb3f2d5"
      },
      "execution_count": null,
      "outputs": [
        {
          "output_type": "stream",
          "name": "stdout",
          "text": [
            "Overwriting config\n"
          ]
        }
      ]
    },
    {
      "cell_type": "code",
      "source": [
        "#@title Load Configuration.\n",
        "config = neat.Config(neat.DefaultGenome, neat.DefaultReproduction,\n",
        "                     neat.DefaultSpeciesSet, neat.DefaultStagnation,\n",
        "                     'config')\n",
        "\n",
        "print(config.genome_type, config.genome_config,config.pop_size)"
      ],
      "metadata": {
        "colab": {
          "base_uri": "https://localhost:8080/"
        },
        "id": "rWw1ctXr5FPM",
        "outputId": "6172c147-6260-4c5c-88d6-c8aad3272e61",
        "cellView": "form"
      },
      "execution_count": null,
      "outputs": [
        {
          "output_type": "stream",
          "name": "stdout",
          "text": [
            "<class 'neat.genome.DefaultGenome'> <neat.genome.DefaultGenomeConfig object at 0x7ff81a4c80d0> 100\n"
          ]
        }
      ]
    },
    {
      "cell_type": "code",
      "source": [
        "#@title Create 'fred' the Genome\n",
        "key = \"fred\"\n",
        "genome = config.genome_type(key)\n",
        "genome.configure_new(config.genome_config)\n",
        "\n",
        "net = neat.nn.FeedForwardNetwork.create(genome, config)"
      ],
      "metadata": {
        "id": "Pr22TQRl7nTc"
      },
      "execution_count": null,
      "outputs": []
    },
    {
      "cell_type": "code",
      "source": [
        "#@title Update the Evaluation Fitness Function\n",
        "\n",
        "results = []\n",
        "for x, y in zip(X,Y):   \n",
        "  yi = net.activate(x)[0] \n",
        "  if y < .5:\n",
        "    error = yi - y\n",
        "  else:\n",
        "    error = y - yi  \n",
        "  print(yi, error)\n",
        "  \n",
        "  results.append(error*error)\n",
        "fitness = 1 - np.mean(results)\n",
        "\n",
        "print(fitness)"
      ],
      "metadata": {
        "colab": {
          "base_uri": "https://localhost:8080/"
        },
        "id": "oZshMKDF85fm",
        "outputId": "c05bc707-8ad9-46ea-ad29-621ebfb1e128"
      },
      "execution_count": null,
      "outputs": [
        {
          "output_type": "stream",
          "name": "stdout",
          "text": [
            "0.0 0.0\n",
            "0.0 1.0\n",
            "0.0 1.0\n",
            "0.0 0.0\n",
            "0.0 0.0\n",
            "0.0 1.0\n",
            "0.0 0.0\n",
            "0.0 0.0\n",
            "0.0 1.0\n",
            "0.0 1.0\n",
            "0.0 1.0\n",
            "0.0 1.0\n",
            "0.0 0.0\n",
            "0.0 1.0\n",
            "0.0 0.0\n",
            "0.4666666666666667\n"
          ]
        }
      ]
    },
    {
      "cell_type": "code",
      "source": [
        "def eval_genomes(genomes, config):\n",
        "  for genome_id, genome in genomes:\n",
        "    genome.fitness = 4.0    \n",
        "    net = neat.nn.FeedForwardNetwork.create(genome, config)    \n",
        "    for x, y in zip(X,Y):            \n",
        "      output = net.activate(x)[0] \n",
        "      genome.fitness -= (output-y)**2        "
      ],
      "metadata": {
        "id": "xP2r1cae_NrH"
      },
      "execution_count": null,
      "outputs": []
    },
    {
      "cell_type": "code",
      "source": [
        "def eval_genomes(genomes, config):\n",
        "  for genome_id, genome in genomes:     \n",
        "    net = neat.nn.FeedForwardNetwork.create(genome, config)  \n",
        "    results = []  \n",
        "    for x, y in zip(X,Y):\n",
        "      yi = net.activate(x)[0]  \n",
        "      if y < .5:\n",
        "        error = yi - y\n",
        "      else:\n",
        "        error = y - yi                    \n",
        "      results.append(error*error)\n",
        "    genome.fitness = 1 - np.mean(results)"
      ],
      "metadata": {
        "id": "9INUscXzTVcd"
      },
      "execution_count": null,
      "outputs": []
    },
    {
      "cell_type": "code",
      "source": [
        "#@title Helper function to show prediction results\n",
        "def show_predictions(net, X, Y, name=\"\"):\n",
        "    \"\"\" display the labeled data X and a surface of prediction of model \"\"\"\n",
        "    x_min, x_max = X[:, 0].min() - 1, X[:, 0].max() + 1\n",
        "    y_min, y_max = X[:, 1].min() - 1, X[:, 1].max() + 1\n",
        "    xx, yy = np.meshgrid(np.arange(x_min, x_max, 0.01), np.arange(y_min, y_max, 0.01))\n",
        "    X_temp = np.c_[xx.flatten(), yy.flatten()]\n",
        "    Z = []    \n",
        "    for x in X_temp:\n",
        "      Z.append(net.activate(x))\n",
        "    Z = np.array(Z)\n",
        "    plt.figure(\"Predictions \" + name)\n",
        "    plt.contourf(xx, yy, Z.reshape(xx.shape), cmap=plt.cm.Spectral)\n",
        "    plt.ylabel('x2')\n",
        "    plt.xlabel('x1')\n",
        "    plt.scatter(X[:, 0], X[:, 1],c=Y, s=40, cmap=plt.cm.Spectral)\n",
        "    plt.show()\n",
        "\n",
        "#show_predictions(winner_net, X, Y)"
      ],
      "metadata": {
        "id": "EZdg6UAiDJxb"
      },
      "execution_count": null,
      "outputs": []
    },
    {
      "cell_type": "code",
      "source": [
        "#@title Draw Network from Genome\n",
        "import graphviz\n",
        "\n",
        "def draw_net(config, genome, view=False, filename=None, node_names=None, show_disabled=True, prune_unused=False,\n",
        "             node_colors=None, fmt='svg'):\n",
        "    \"\"\" Receives a genome and draws a neural network with arbitrary topology. \"\"\"\n",
        "    # Attributes for network nodes.\n",
        "    if graphviz is None:\n",
        "        print(\"This display is not available due to a missing optional dependency (graphviz)\")\n",
        "        return\n",
        "\n",
        "    # If requested, use a copy of the genome which omits all components that won't affect the output.\n",
        "    if prune_unused:\n",
        "        genome = genome.get_pruned_copy(config.genome_config)\n",
        "\n",
        "    if node_names is None:\n",
        "        node_names = {}\n",
        "\n",
        "    assert type(node_names) is dict\n",
        "\n",
        "    if node_colors is None:\n",
        "        node_colors = {}\n",
        "\n",
        "    assert type(node_colors) is dict\n",
        "\n",
        "    node_attrs = {\n",
        "        'shape': 'circle',\n",
        "        'fontsize': '9',\n",
        "        'height': '0.2',\n",
        "        'width': '0.2'}\n",
        "\n",
        "    dot = graphviz.Digraph(format=fmt, node_attr=node_attrs)\n",
        "\n",
        "    inputs = set()\n",
        "    for k in config.genome_config.input_keys:\n",
        "        inputs.add(k)\n",
        "        name = node_names.get(k, str(k))\n",
        "        input_attrs = {'style': 'filled', 'shape': 'box', 'fillcolor': node_colors.get(k, 'lightgray')}\n",
        "        dot.node(name, _attributes=input_attrs)\n",
        "\n",
        "    outputs = set()\n",
        "    for k in config.genome_config.output_keys:\n",
        "        outputs.add(k)\n",
        "        name = node_names.get(k, str(k))\n",
        "        node_attrs = {'style': 'filled', 'fillcolor': node_colors.get(k, 'lightblue')}\n",
        "\n",
        "        dot.node(name, _attributes=node_attrs)\n",
        "\n",
        "    used_nodes = set(genome.nodes.keys())\n",
        "    for n in used_nodes:\n",
        "        if n in inputs or n in outputs:\n",
        "            continue\n",
        "\n",
        "        attrs = {'style': 'filled',\n",
        "                 'fillcolor': node_colors.get(n, 'white')}\n",
        "        dot.node(str(n), _attributes=attrs)\n",
        "\n",
        "    for cg in genome.connections.values():\n",
        "        if cg.enabled or show_disabled:\n",
        "            # if cg.input not in used_nodes or cg.output not in used_nodes:\n",
        "            #    continue\n",
        "            input, output = cg.key\n",
        "            a = node_names.get(input, str(input))\n",
        "            b = node_names.get(output, str(output))\n",
        "            style = 'solid' if cg.enabled else 'dotted'\n",
        "            color = 'green' if cg.weight > 0 else 'red'\n",
        "            width = str(0.1 + abs(cg.weight / 5.0))\n",
        "            dot.edge(a, b, _attributes={'style': style, 'color': color, 'penwidth': width})\n",
        "\n",
        "    dot.render(filename, view=view)\n",
        "    dot.view()\n",
        "\n",
        "    return dot\n",
        "\n",
        "node_names = {-1: 'X1', -2: 'X2', 0: 'Classify'}\n",
        "draw_net(config, genome, True, node_names=node_names)"
      ],
      "metadata": {
        "colab": {
          "base_uri": "https://localhost:8080/",
          "height": 313
        },
        "id": "R23BCj8ss_Cd",
        "outputId": "3e059eb5-9232-4037-80c6-ddd9620ffeb5"
      },
      "execution_count": null,
      "outputs": [
        {
          "output_type": "execute_result",
          "data": {
            "text/plain": [
              "<graphviz.dot.Digraph at 0x7ff81aadbe50>"
            ],
            "image/svg+xml": "<?xml version=\"1.0\" encoding=\"UTF-8\" standalone=\"no\"?>\n<!DOCTYPE svg PUBLIC \"-//W3C//DTD SVG 1.1//EN\"\n \"http://www.w3.org/Graphics/SVG/1.1/DTD/svg11.dtd\">\n<!-- Generated by graphviz version 2.40.1 (20161225.0304)\n -->\n<!-- Title: %3 Pages: 1 -->\n<svg width=\"1094pt\" height=\"219pt\"\n viewBox=\"0.00 0.00 1094.48 218.59\" xmlns=\"http://www.w3.org/2000/svg\" xmlns:xlink=\"http://www.w3.org/1999/xlink\">\n<g id=\"graph0\" class=\"graph\" transform=\"scale(1 1) rotate(0) translate(4 214.5929)\">\n<title>%3</title>\n<polygon fill=\"#ffffff\" stroke=\"transparent\" points=\"-4,4 -4,-214.5929 1090.4764,-214.5929 1090.4764,4 -4,4\"/>\n<!-- X1 -->\n<g id=\"node1\" class=\"node\">\n<title>X1</title>\n<polygon fill=\"#d3d3d3\" stroke=\"#000000\" points=\"453.3848,-201.2082 425.3848,-201.2082 425.3848,-183.2082 453.3848,-183.2082 453.3848,-201.2082\"/>\n<text text-anchor=\"middle\" x=\"439.3848\" y=\"-190.0082\" font-family=\"Times,serif\" font-size=\"9.00\" fill=\"#000000\">X1</text>\n</g>\n<!-- 1 -->\n<g id=\"node4\" class=\"node\">\n<title>1</title>\n<ellipse fill=\"#ffffff\" stroke=\"#000000\" cx=\"172.3848\" cy=\"-119.4386\" rx=\"14.7\" ry=\"14.7\"/>\n<text text-anchor=\"middle\" x=\"172.3848\" y=\"-117.2386\" font-family=\"Times,serif\" font-size=\"9.00\" fill=\"#000000\">1</text>\n</g>\n<!-- X1&#45;&gt;1 -->\n<g id=\"edge2\" class=\"edge\">\n<title>X1&#45;&gt;1</title>\n<path fill=\"none\" stroke=\"#ff0000\" stroke-width=\".2051\" d=\"M425.2757,-191.1791C386.8289,-187.9365 277.6621,-175.7828 196.3848,-137.8234 194.8154,-137.0904 193.2519,-136.241 191.7187,-135.3172\"/>\n<polygon fill=\"#ff0000\" stroke=\"#ff0000\" stroke-width=\".2051\" points=\"193.6369,-132.3875 183.441,-129.5077 189.6156,-138.1172 193.6369,-132.3875\"/>\n</g>\n<!-- 2 -->\n<g id=\"node5\" class=\"node\">\n<title>2</title>\n<ellipse fill=\"#ffffff\" stroke=\"#000000\" cx=\"637.3848\" cy=\"-119.4386\" rx=\"14.7\" ry=\"14.7\"/>\n<text text-anchor=\"middle\" x=\"637.3848\" y=\"-117.2386\" font-family=\"Times,serif\" font-size=\"9.00\" fill=\"#000000\">2</text>\n</g>\n<!-- X1&#45;&gt;2 -->\n<g id=\"edge6\" class=\"edge\">\n<title>X1&#45;&gt;2</title>\n<path fill=\"none\" stroke=\"#00ff00\" stroke-width=\".1612\" d=\"M453.5652,-189.54C484.0882,-183.4265 557.7515,-166.6672 613.3848,-137.8234 614.9225,-137.0261 616.4625,-136.1289 617.9788,-135.1708\"/>\n<polygon fill=\"#00ff00\" stroke=\"#00ff00\" stroke-width=\".1612\" points=\"620.1144,-137.9467 626.2206,-129.2885 616.0478,-132.249 620.1144,-137.9467\"/>\n</g>\n<!-- 3 -->\n<g id=\"node6\" class=\"node\">\n<title>3</title>\n<ellipse fill=\"#ffffff\" stroke=\"#000000\" cx=\"733.3848\" cy=\"-119.4386\" rx=\"14.7\" ry=\"14.7\"/>\n<text text-anchor=\"middle\" x=\"733.3848\" y=\"-117.2386\" font-family=\"Times,serif\" font-size=\"9.00\" fill=\"#000000\">3</text>\n</g>\n<!-- X1&#45;&gt;3 -->\n<g id=\"edge1\" class=\"edge\">\n<title>X1&#45;&gt;3</title>\n<path fill=\"none\" stroke=\"#00ff00\" stroke-width=\".2763\" d=\"M453.5486,-191.5926C494.8404,-189.339 617.954,-179.3384 709.3848,-137.8234 710.9619,-137.1073 712.5312,-136.2703 714.0685,-135.3555\"/>\n<polygon fill=\"#00ff00\" stroke=\"#00ff00\" stroke-width=\".2763\" points=\"716.1628,-138.162 722.355,-129.5651 712.1532,-132.4241 716.1628,-138.162\"/>\n</g>\n<!-- 4 -->\n<g id=\"node7\" class=\"node\">\n<title>4</title>\n<ellipse fill=\"#ffffff\" stroke=\"#000000\" cx=\"439.3848\" cy=\"-119.4386\" rx=\"14.7\" ry=\"14.7\"/>\n<text text-anchor=\"middle\" x=\"439.3848\" y=\"-117.2386\" font-family=\"Times,serif\" font-size=\"9.00\" fill=\"#000000\">4</text>\n</g>\n<!-- X1&#45;&gt;4 -->\n<g id=\"edge12\" class=\"edge\">\n<title>X1&#45;&gt;4</title>\n<path fill=\"none\" stroke=\"#00ff00\" stroke-width=\".2289\" d=\"M439.3848,-182.9918C439.3848,-173.3351 439.3848,-157.7462 439.3848,-144.4249\"/>\n<polygon fill=\"#00ff00\" stroke=\"#00ff00\" stroke-width=\".2289\" points=\"442.8849,-144.3842 439.3848,-134.3842 435.8849,-144.3842 442.8849,-144.3842\"/>\n</g>\n<!-- 6 -->\n<g id=\"node9\" class=\"node\">\n<title>6</title>\n<ellipse fill=\"#ffffff\" stroke=\"#000000\" cx=\"124.3848\" cy=\"-119.4386\" rx=\"14.7\" ry=\"14.7\"/>\n<text text-anchor=\"middle\" x=\"124.3848\" y=\"-117.2386\" font-family=\"Times,serif\" font-size=\"9.00\" fill=\"#000000\">6</text>\n</g>\n<!-- X1&#45;&gt;6 -->\n<g id=\"edge23\" class=\"edge\">\n<title>X1&#45;&gt;6</title>\n<path fill=\"none\" stroke=\"#ff0000\" stroke-width=\".1833\" d=\"M425.3706,-191.8712C382.1612,-190.3658 247.9082,-182.1748 148.3848,-137.8234 146.8027,-137.1183 145.2297,-136.2896 143.6897,-135.3807\"/>\n<polygon fill=\"#ff0000\" stroke=\"#ff0000\" stroke-width=\".1833\" points=\"145.6032,-132.4481 135.3976,-129.6028 141.6013,-138.1914 145.6032,-132.4481\"/>\n</g>\n<!-- 7 -->\n<g id=\"node10\" class=\"node\">\n<title>7</title>\n<ellipse fill=\"#ffffff\" stroke=\"#000000\" cx=\"685.3848\" cy=\"-119.4386\" rx=\"14.7\" ry=\"14.7\"/>\n<text text-anchor=\"middle\" x=\"685.3848\" y=\"-117.2386\" font-family=\"Times,serif\" font-size=\"9.00\" fill=\"#000000\">7</text>\n</g>\n<!-- X1&#45;&gt;7 -->\n<g id=\"edge24\" class=\"edge\">\n<title>X1&#45;&gt;7</title>\n<path fill=\"none\" stroke=\"#ff0000\" stroke-width=\".2943\" d=\"M453.5725,-190.7792C489.7996,-186.7069 588.0293,-172.9839 661.3848,-137.8234 662.9467,-137.0747 664.5047,-136.2136 666.0339,-135.2814\"/>\n<polygon fill=\"#ff0000\" stroke=\"#ff0000\" stroke-width=\".2943\" points=\"668.1451,-138.0755 674.3032,-129.4541 664.1128,-132.3535 668.1451,-138.0755\"/>\n</g>\n<!-- 8 -->\n<g id=\"node11\" class=\"node\">\n<title>8</title>\n<ellipse fill=\"#ffffff\" stroke=\"#000000\" cx=\"487.3848\" cy=\"-119.4386\" rx=\"14.7\" ry=\"14.7\"/>\n<text text-anchor=\"middle\" x=\"487.3848\" y=\"-117.2386\" font-family=\"Times,serif\" font-size=\"9.00\" fill=\"#000000\">8</text>\n</g>\n<!-- X1&#45;&gt;8 -->\n<g id=\"edge27\" class=\"edge\">\n<title>X1&#45;&gt;8</title>\n<path fill=\"none\" stroke=\"#ff0000\" stroke-width=\".1022\" d=\"M445.464,-182.9918C452.4585,-172.3879 464.1712,-154.6312 473.4407,-140.5783\"/>\n<polygon fill=\"#ff0000\" stroke=\"#ff0000\" stroke-width=\".1022\" points=\"476.5205,-142.2656 479.1051,-131.9908 470.6772,-138.4112 476.5205,-142.2656\"/>\n</g>\n<!-- 9 -->\n<g id=\"node12\" class=\"node\">\n<title>9</title>\n<ellipse fill=\"#ffffff\" stroke=\"#000000\" cx=\"589.3848\" cy=\"-119.4386\" rx=\"14.7\" ry=\"14.7\"/>\n<text text-anchor=\"middle\" x=\"589.3848\" y=\"-117.2386\" font-family=\"Times,serif\" font-size=\"9.00\" fill=\"#000000\">9</text>\n</g>\n<!-- X1&#45;&gt;9 -->\n<g id=\"edge30\" class=\"edge\">\n<title>X1&#45;&gt;9</title>\n<path fill=\"none\" stroke=\"#ff0000\" stroke-width=\".1053\" d=\"M453.5359,-187.3989C477.4377,-178.9958 526.9562,-160.3691 565.3848,-137.8234 566.6863,-137.0598 567.9982,-136.2358 569.3017,-135.3747\"/>\n<polygon fill=\"#ff0000\" stroke=\"#ff0000\" stroke-width=\".1053\" points=\"571.5226,-138.0882 577.5836,-129.3983 567.4264,-132.4118 571.5226,-138.0882\"/>\n</g>\n<!-- 11 -->\n<g id=\"node14\" class=\"node\">\n<title>11</title>\n<ellipse fill=\"#ffffff\" stroke=\"#000000\" cx=\"223.3848\" cy=\"-119.4386\" rx=\"18.2703\" ry=\"18.2703\"/>\n<text text-anchor=\"middle\" x=\"223.3848\" y=\"-117.2386\" font-family=\"Times,serif\" font-size=\"9.00\" fill=\"#000000\">11</text>\n</g>\n<!-- X1&#45;&gt;11 -->\n<g id=\"edge9\" class=\"edge\">\n<title>X1&#45;&gt;11</title>\n<path fill=\"none\" stroke=\"#00ff00\" stroke-width=\".2324\" d=\"M425.1941,-189.6176C393.1383,-183.4458 313.1161,-166.2316 251.3848,-137.8234 249.998,-137.1852 248.6013,-136.4846 247.2112,-135.7411\"/>\n<polygon fill=\"#00ff00\" stroke=\"#00ff00\" stroke-width=\".2324\" points=\"248.6886,-132.5466 238.3097,-130.4186 245.0962,-138.5545 248.6886,-132.5466\"/>\n</g>\n<!-- 14 -->\n<g id=\"node17\" class=\"node\">\n<title>14</title>\n<ellipse fill=\"#ffffff\" stroke=\"#000000\" cx=\"278.3848\" cy=\"-119.4386\" rx=\"18.2703\" ry=\"18.2703\"/>\n<text text-anchor=\"middle\" x=\"278.3848\" y=\"-117.2386\" font-family=\"Times,serif\" font-size=\"9.00\" fill=\"#000000\">14</text>\n</g>\n<!-- X1&#45;&gt;14 -->\n<g id=\"edge36\" class=\"edge\">\n<title>X1&#45;&gt;14</title>\n<path fill=\"none\" stroke=\"#00ff00\" stroke-width=\".1923\" d=\"M425.0021,-187.3594C400.159,-178.7598 347.884,-159.6706 306.3848,-137.8234 305.034,-137.1123 303.6658,-136.3537 302.2981,-135.5648\"/>\n<polygon fill=\"#00ff00\" stroke=\"#00ff00\" stroke-width=\".1923\" points=\"303.8114,-132.3855 293.4655,-130.1025 300.1295,-138.339 303.8114,-132.3855\"/>\n</g>\n<!-- 15 -->\n<g id=\"node18\" class=\"node\">\n<title>15</title>\n<ellipse fill=\"#ffffff\" stroke=\"#000000\" cx=\"784.3848\" cy=\"-119.4386\" rx=\"18.2703\" ry=\"18.2703\"/>\n<text text-anchor=\"middle\" x=\"784.3848\" y=\"-117.2386\" font-family=\"Times,serif\" font-size=\"9.00\" fill=\"#000000\">15</text>\n</g>\n<!-- X1&#45;&gt;15 -->\n<g id=\"edge13\" class=\"edge\">\n<title>X1&#45;&gt;15</title>\n<path fill=\"none\" stroke=\"#ff0000\" stroke-width=\".444\" d=\"M453.5992,-191.9095C499.3871,-190.5093 646.4941,-182.5772 757.3848,-137.8234 758.5976,-137.3339 759.811,-136.7834 761.0151,-136.1869\"/>\n<polygon fill=\"#ff0000\" stroke=\"#ff0000\" stroke-width=\".444\" points=\"763.0532,-139.0486 769.8972,-130.9609 759.5035,-133.0154 763.0532,-139.0486\"/>\n</g>\n<!-- 18 -->\n<g id=\"node21\" class=\"node\">\n<title>18</title>\n<ellipse fill=\"#ffffff\" stroke=\"#000000\" cx=\"333.3848\" cy=\"-119.4386\" rx=\"18.2703\" ry=\"18.2703\"/>\n<text text-anchor=\"middle\" x=\"333.3848\" y=\"-117.2386\" font-family=\"Times,serif\" font-size=\"9.00\" fill=\"#000000\">18</text>\n</g>\n<!-- X1&#45;&gt;18 -->\n<g id=\"edge15\" class=\"edge\">\n<title>X1&#45;&gt;18</title>\n<path fill=\"none\" stroke=\"#00ff00\" stroke-width=\".2748\" d=\"M425.9598,-182.9918C408.7039,-171.1456 378.4444,-150.3722 357.2308,-135.809\"/>\n<polygon fill=\"#00ff00\" stroke=\"#00ff00\" stroke-width=\".2748\" points=\"358.9825,-132.7662 348.7574,-129.992 355.0207,-138.5372 358.9825,-132.7662\"/>\n</g>\n<!-- 19 -->\n<g id=\"node22\" class=\"node\">\n<title>19</title>\n<ellipse fill=\"#ffffff\" stroke=\"#000000\" cx=\"839.3848\" cy=\"-119.4386\" rx=\"18.2703\" ry=\"18.2703\"/>\n<text text-anchor=\"middle\" x=\"839.3848\" y=\"-117.2386\" font-family=\"Times,serif\" font-size=\"9.00\" fill=\"#000000\">19</text>\n</g>\n<!-- X1&#45;&gt;19 -->\n<g id=\"edge7\" class=\"edge\">\n<title>X1&#45;&gt;19</title>\n<path fill=\"none\" stroke=\"#00ff00\" stroke-width=\".3033\" d=\"M453.7432,-190.9467C513.6457,-185.5563 743.6585,-163.5545 811.3848,-137.8234 812.8118,-137.2812 814.2405,-136.6569 815.6557,-135.9731\"/>\n<polygon fill=\"#00ff00\" stroke=\"#00ff00\" stroke-width=\".3033\" points=\"817.6937,-138.8394 824.6344,-130.8346 814.2167,-132.764 817.6937,-138.8394\"/>\n</g>\n<!-- 22 -->\n<g id=\"node25\" class=\"node\">\n<title>22</title>\n<ellipse fill=\"#ffffff\" stroke=\"#000000\" cx=\"18.3848\" cy=\"-119.4386\" rx=\"18.2703\" ry=\"18.2703\"/>\n<text text-anchor=\"middle\" x=\"18.3848\" y=\"-117.2386\" font-family=\"Times,serif\" font-size=\"9.00\" fill=\"#000000\">22</text>\n</g>\n<!-- X1&#45;&gt;22 -->\n<g id=\"edge33\" class=\"edge\">\n<title>X1&#45;&gt;22</title>\n<path fill=\"none\" stroke=\"#ff0000\" stroke-width=\".2775\" d=\"M425.0613,-191.0761C363.1309,-186.0521 118.2822,-164.8247 46.3848,-137.8234 44.9557,-137.2867 43.5253,-136.6668 42.1089,-135.9863\"/>\n<polygon fill=\"#ff0000\" stroke=\"#ff0000\" stroke-width=\".2775\" points=\"43.5459,-132.7765 33.1262,-130.8583 40.0755,-138.8557 43.5459,-132.7765\"/>\n</g>\n<!-- 23 -->\n<g id=\"node26\" class=\"node\">\n<title>23</title>\n<ellipse fill=\"#ffffff\" stroke=\"#000000\" cx=\"73.3848\" cy=\"-119.4386\" rx=\"18.2703\" ry=\"18.2703\"/>\n<text text-anchor=\"middle\" x=\"73.3848\" y=\"-117.2386\" font-family=\"Times,serif\" font-size=\"9.00\" fill=\"#000000\">23</text>\n</g>\n<!-- X1&#45;&gt;23 -->\n<g id=\"edge4\" class=\"edge\">\n<title>X1&#45;&gt;23</title>\n<path fill=\"none\" stroke=\"#00ff00\" stroke-width=\".1793\" d=\"M425.1589,-190.7615C368.8206,-184.9046 161.4513,-162.1036 100.3848,-137.8234 99.1694,-137.3402 97.954,-136.7948 96.7482,-136.2024\"/>\n<polygon fill=\"#00ff00\" stroke=\"#00ff00\" stroke-width=\".1793\" points=\"98.257,-133.0298 87.86,-130.9918 94.7167,-139.0686 98.257,-133.0298\"/>\n</g>\n<!-- X2 -->\n<g id=\"node2\" class=\"node\">\n<title>X2</title>\n<polygon fill=\"#d3d3d3\" stroke=\"#000000\" points=\"798.3848,-201.2082 770.3848,-201.2082 770.3848,-183.2082 798.3848,-183.2082 798.3848,-201.2082\"/>\n<text text-anchor=\"middle\" x=\"784.3848\" y=\"-190.0082\" font-family=\"Times,serif\" font-size=\"9.00\" fill=\"#000000\">X2</text>\n</g>\n<!-- Classify -->\n<g id=\"node3\" class=\"node\">\n<title>Classify</title>\n<ellipse fill=\"#add8e6\" stroke=\"#000000\" cx=\"538.3848\" cy=\"-32.5269\" rx=\"32.5538\" ry=\"32.5538\"/>\n<text text-anchor=\"middle\" x=\"538.3848\" y=\"-30.3269\" font-family=\"Times,serif\" font-size=\"9.00\" fill=\"#000000\">Classify</text>\n</g>\n<!-- X2&#45;&gt;Classify -->\n<g id=\"edge11\" class=\"edge\">\n<title>X2&#45;&gt;Classify</title>\n<path fill=\"none\" stroke=\"#00ff00\" stroke-width=\".1609\" d=\"M793.4663,-183.0509C797.4196,-179.6002 802.3066,-175.9896 807.3848,-173.8234 863.2643,-149.9866 1038.3554,-183.522 1078.3848,-137.8234 1089.1526,-125.5305 1089.1885,-113.3152 1078.3848,-101.0538 1045.5656,-63.8067 702.8146,-41.5369 581.029,-34.7516\"/>\n<polygon fill=\"#00ff00\" stroke=\"#00ff00\" stroke-width=\".1609\" points=\"581.1337,-31.2521 570.9566,-34.1978 580.7494,-38.2416 581.1337,-31.2521\"/>\n</g>\n<!-- X2&#45;&gt;2 -->\n<g id=\"edge5\" class=\"edge\">\n<title>X2&#45;&gt;2</title>\n<path fill=\"none\" stroke=\"#00ff00\" stroke-width=\".2428\" d=\"M770.2047,-187.1995C746.7468,-178.6412 698.7446,-159.9646 661.3848,-137.8234 660.0866,-137.054 658.7774,-136.2256 657.4758,-135.3611\"/>\n<polygon fill=\"#00ff00\" stroke=\"#00ff00\" stroke-width=\".2428\" points=\"659.3534,-132.3996 649.1993,-129.3757 655.2514,-138.0718 659.3534,-132.3996\"/>\n</g>\n<!-- X2&#45;&gt;3 -->\n<g id=\"edge18\" class=\"edge\">\n<title>X2&#45;&gt;3</title>\n<path fill=\"none\" stroke=\"#ff0000\" stroke-width=\".3853\" d=\"M777.9256,-182.9918C770.3787,-172.2236 757.6623,-154.0791 747.7444,-139.9277\"/>\n<polygon fill=\"#ff0000\" stroke=\"#ff0000\" stroke-width=\".3853\" points=\"750.6075,-137.9144 742.002,-131.7341 744.8751,-141.9319 750.6075,-137.9144\"/>\n</g>\n<!-- X2&#45;&gt;4 -->\n<g id=\"edge37\" class=\"edge\">\n<title>X2&#45;&gt;4</title>\n<path fill=\"none\" stroke=\"#00ff00\" stroke-width=\".1471\" d=\"M770.1377,-190.7174C715.5931,-184.869 520.2591,-162.5939 463.3848,-137.8234 461.7968,-137.1318 460.2194,-136.313 458.6763,-135.4112\"/>\n<polygon fill=\"#00ff00\" stroke=\"#00ff00\" stroke-width=\".1471\" points=\"460.5876,-132.4774 450.3774,-129.6485 456.595,-138.2271 460.5876,-132.4774\"/>\n</g>\n<!-- 5 -->\n<g id=\"node8\" class=\"node\">\n<title>5</title>\n<ellipse fill=\"#ffffff\" stroke=\"#000000\" cx=\"890.3848\" cy=\"-119.4386\" rx=\"14.7\" ry=\"14.7\"/>\n<text text-anchor=\"middle\" x=\"890.3848\" y=\"-117.2386\" font-family=\"Times,serif\" font-size=\"9.00\" fill=\"#000000\">5</text>\n</g>\n<!-- X2&#45;&gt;5 -->\n<g id=\"edge34\" class=\"edge\">\n<title>X2&#45;&gt;5</title>\n<path fill=\"none\" stroke=\"#00ff00\" stroke-width=\".3305\" d=\"M795.3973,-182.9402C799.1263,-179.9284 803.3655,-176.6391 807.3848,-173.8234 832.5435,-156.1983 841.0454,-155.1878 866.3848,-137.8234 867.6295,-136.9704 868.8974,-136.0771 870.1675,-135.1633\"/>\n<polygon fill=\"#00ff00\" stroke=\"#00ff00\" stroke-width=\".3305\" points=\"872.4413,-137.8336 878.36,-129.0461 868.2532,-132.2247 872.4413,-137.8336\"/>\n</g>\n<!-- X2&#45;&gt;7 -->\n<g id=\"edge35\" class=\"edge\">\n<title>X2&#45;&gt;7</title>\n<path fill=\"none\" stroke=\"#00ff00\" stroke-width=\".3136\" d=\"M771.5706,-183.0718C756.579,-172.347 731.0494,-153.9718 709.3848,-137.8234 708.1749,-136.9216 706.9341,-135.9904 705.6845,-135.0479\"/>\n<polygon fill=\"#00ff00\" stroke=\"#00ff00\" stroke-width=\".3136\" points=\"707.624,-132.1257 697.5471,-128.8538 703.3842,-137.6956 707.624,-132.1257\"/>\n</g>\n<!-- X2&#45;&gt;8 -->\n<g id=\"edge32\" class=\"edge\">\n<title>X2&#45;&gt;8</title>\n<path fill=\"none\" stroke=\"#ff0000\" stroke-width=\".3032\" d=\"M770.3609,-191.6413C728.9077,-189.5094 604.0568,-179.7831 511.3848,-137.8234 509.8069,-137.109 508.237,-136.2732 506.6993,-135.3593\"/>\n<polygon fill=\"#ff0000\" stroke=\"#ff0000\" stroke-width=\".3032\" points=\"508.6143,-132.4277 498.4119,-129.5708 504.6059,-138.1664 508.6143,-132.4277\"/>\n</g>\n<!-- X2&#45;&gt;9 -->\n<g id=\"edge38\" class=\"edge\">\n<title>X2&#45;&gt;9</title>\n<path fill=\"none\" stroke=\"#00ff00\" stroke-width=\".1638\" d=\"M769.9935,-189.3964C739.7282,-183.1119 667.7977,-166.2069 613.3848,-137.8234 611.8491,-137.0223 610.3105,-136.1223 608.7953,-135.1621\"/>\n<polygon fill=\"#00ff00\" stroke=\"#00ff00\" stroke-width=\".1638\" points=\"610.7271,-132.2408 600.5557,-129.2754 606.6578,-137.9365 610.7271,-132.2408\"/>\n</g>\n<!-- 13 -->\n<g id=\"node16\" class=\"node\">\n<title>13</title>\n<ellipse fill=\"#ffffff\" stroke=\"#000000\" cx=\"996.3848\" cy=\"-119.4386\" rx=\"18.2703\" ry=\"18.2703\"/>\n<text text-anchor=\"middle\" x=\"996.3848\" y=\"-117.2386\" font-family=\"Times,serif\" font-size=\"9.00\" fill=\"#000000\">13</text>\n</g>\n<!-- X2&#45;&gt;13 -->\n<g id=\"edge29\" class=\"edge\">\n<title>X2&#45;&gt;13</title>\n<path fill=\"none\" stroke=\"#ff0000\" stroke-width=\".3057\" d=\"M794.0113,-182.892C797.8963,-179.5875 802.5911,-176.1222 807.3848,-173.8234 873.4982,-142.1182 900.8643,-166.4098 968.3848,-137.8234 969.7905,-137.2282 971.2023,-136.5618 972.6043,-135.8451\"/>\n<polygon fill=\"#ff0000\" stroke=\"#ff0000\" stroke-width=\".3057\" points=\"974.6856,-138.682 981.5422,-130.605 971.1453,-132.6433 974.6856,-138.682\"/>\n</g>\n<!-- X2&#45;&gt;15 -->\n<g id=\"edge20\" class=\"edge\">\n<title>X2&#45;&gt;15</title>\n<path fill=\"none\" stroke=\"#00ff00\" stroke-width=\".4539\" d=\"M784.3848,-182.9918C784.3848,-174.2075 784.3848,-160.5146 784.3848,-148.085\"/>\n<polygon fill=\"#00ff00\" stroke=\"#00ff00\" stroke-width=\".4539\" points=\"787.8849,-148.0767 784.3848,-138.0767 780.8849,-148.0767 787.8849,-148.0767\"/>\n</g>\n<!-- X2&#45;&gt;19 -->\n<g id=\"edge19\" class=\"edge\">\n<title>X2&#45;&gt;19</title>\n<path fill=\"none\" stroke=\"#00ff00\" stroke-width=\".39\" d=\"M791.3506,-182.9918C799.0585,-172.7937 811.7667,-155.9796 822.1761,-142.2071\"/>\n<polygon fill=\"#00ff00\" stroke=\"#00ff00\" stroke-width=\".39\" points=\"825.0576,-144.1993 828.295,-134.1112 819.4732,-139.9786 825.0576,-144.1993\"/>\n</g>\n<!-- 20 -->\n<g id=\"node23\" class=\"node\">\n<title>20</title>\n<ellipse fill=\"#ffffff\" stroke=\"#000000\" cx=\"1051.3848\" cy=\"-119.4386\" rx=\"18.2703\" ry=\"18.2703\"/>\n<text text-anchor=\"middle\" x=\"1051.3848\" y=\"-117.2386\" font-family=\"Times,serif\" font-size=\"9.00\" fill=\"#000000\">20</text>\n</g>\n<!-- X2&#45;&gt;20 -->\n<g id=\"edge3\" class=\"edge\">\n<title>X2&#45;&gt;20</title>\n<path fill=\"none\" stroke=\"#ff0000\" stroke-width=\".1008\" d=\"M793.503,-183.1348C797.4618,-179.6969 802.3431,-176.0733 807.3848,-173.8234 896.2606,-134.1613 932.7554,-173.2961 1023.3848,-137.8234 1024.8063,-137.267 1026.2307,-136.6314 1027.6424,-135.9387\"/>\n<polygon fill=\"#ff0000\" stroke=\"#ff0000\" stroke-width=\".1008\" points=\"1029.6923,-138.7971 1036.6106,-130.773 1026.1984,-132.7314 1029.6923,-138.7971\"/>\n</g>\n<!-- 25 -->\n<g id=\"node28\" class=\"node\">\n<title>25</title>\n<ellipse fill=\"#ffffff\" stroke=\"#000000\" cx=\"941.3848\" cy=\"-119.4386\" rx=\"18.2703\" ry=\"18.2703\"/>\n<text text-anchor=\"middle\" x=\"941.3848\" y=\"-117.2386\" font-family=\"Times,serif\" font-size=\"9.00\" fill=\"#000000\">25</text>\n</g>\n<!-- X2&#45;&gt;25 -->\n<g id=\"edge16\" class=\"edge\">\n<title>X2&#45;&gt;25</title>\n<path fill=\"none\" stroke=\"#ff0000\" stroke-width=\".3787\" d=\"M794.1453,-183.1537C798.0468,-179.8812 802.7178,-176.3696 807.3848,-173.8234 851.4308,-149.7927 869.4516,-160.1514 914.3848,-137.8234 915.556,-137.2414 916.7354,-136.615 917.9118,-135.957\"/>\n<polygon fill=\"#ff0000\" stroke=\"#ff0000\" stroke-width=\".3787\" points=\"920.0431,-138.7535 926.6923,-130.505 916.3505,-132.8067 920.0431,-138.7535\"/>\n</g>\n<!-- 5&#45;&gt;Classify -->\n<g id=\"edge31\" class=\"edge\">\n<title>5&#45;&gt;Classify</title>\n<path fill=\"none\" stroke=\"#ff0000\" stroke-width=\".3708\" d=\"M879.3462,-109.3315C875.4853,-106.2638 870.9652,-103.1535 866.3848,-101.0538 770.4553,-57.0792 645.7839,-41.0171 581.2711,-35.3902\"/>\n<polygon fill=\"#ff0000\" stroke=\"#ff0000\" stroke-width=\".3708\" points=\"581.3265,-31.8828 571.0714,-34.5444 580.7479,-38.8589 581.3265,-31.8828\"/>\n</g>\n<!-- 6&#45;&gt;Classify -->\n<g id=\"edge22\" class=\"edge\">\n<title>6&#45;&gt;Classify</title>\n<path fill=\"none\" stroke=\"#00ff00\" stroke-width=\".1941\" d=\"M135.3846,-109.2452C139.243,-106.1718 143.7713,-103.0799 148.3848,-101.0538 210.3814,-73.827 407.8963,-47.9253 495.6566,-37.4313\"/>\n<polygon fill=\"#00ff00\" stroke=\"#00ff00\" stroke-width=\".1941\" points=\"496.2802,-40.882 505.7985,-36.2289 495.4559,-33.9307 496.2802,-40.882\"/>\n</g>\n<!-- 7&#45;&gt;Classify -->\n<g id=\"edge25\" class=\"edge\">\n<title>7&#45;&gt;Classify</title>\n<path fill=\"none\" stroke=\"#ff0000\" stroke-width=\".2047\" d=\"M673.4255,-109.7335C669.6561,-106.8239 665.4213,-103.7041 661.3848,-101.0538 633.9345,-83.0304 601.4232,-65.0525 576.7214,-52.0355\"/>\n<polygon fill=\"#ff0000\" stroke=\"#ff0000\" stroke-width=\".2047\" points=\"578.147,-48.8314 567.6634,-47.2998 574.9037,-55.0347 578.147,-48.8314\"/>\n</g>\n<!-- 9&#45;&gt;Classify -->\n<g id=\"edge10\" class=\"edge\">\n<title>9&#45;&gt;Classify</title>\n<path fill=\"none\" stroke=\"#00ff00\" stroke-width=\".2547\" d=\"M581.8596,-106.6145C576.1413,-96.8697 567.9695,-82.9437 560.2511,-69.7904\"/>\n<polygon fill=\"#00ff00\" stroke=\"#00ff00\" stroke-width=\".2547\" points=\"563.0954,-67.7219 555.0157,-60.8685 557.0581,-71.2647 563.0954,-67.7219\"/>\n</g>\n<!-- 10 -->\n<g id=\"node13\" class=\"node\">\n<title>10</title>\n<ellipse fill=\"#ffffff\" stroke=\"#000000\" cx=\"388.3848\" cy=\"-119.4386\" rx=\"18.2703\" ry=\"18.2703\"/>\n<text text-anchor=\"middle\" x=\"388.3848\" y=\"-117.2386\" font-family=\"Times,serif\" font-size=\"9.00\" fill=\"#000000\">10</text>\n</g>\n<!-- 10&#45;&gt;Classify -->\n<g id=\"edge17\" class=\"edge\">\n<title>10&#45;&gt;Classify</title>\n<path fill=\"none\" stroke=\"#00ff00\" stroke-width=\".3883\" d=\"M403.6485,-108.6971C407.4399,-106.126 411.5243,-103.4369 415.3848,-101.0538 443.3278,-83.8042 475.8148,-65.7881 500.382,-52.5599\"/>\n<polygon fill=\"#00ff00\" stroke=\"#00ff00\" stroke-width=\".3883\" points=\"502.2228,-55.5444 509.3839,-47.7361 498.9165,-49.3744 502.2228,-55.5444\"/>\n</g>\n<!-- 11&#45;&gt;Classify -->\n<g id=\"edge21\" class=\"edge\">\n<title>11&#45;&gt;Classify</title>\n<path fill=\"none\" stroke=\"#ff0000\" stroke-width=\".1836\" d=\"M238.2461,-108.316C242.3441,-105.6358 246.9003,-102.9906 251.3848,-101.0538 333.9536,-65.3933 438.26,-46.4144 495.6502,-38.009\"/>\n<polygon fill=\"#ff0000\" stroke=\"#ff0000\" stroke-width=\".1836\" points=\"496.3988,-41.4377 505.8045,-36.5609 495.4105,-34.5078 496.3988,-41.4377\"/>\n</g>\n<!-- 12 -->\n<g id=\"node15\" class=\"node\">\n<title>12</title>\n<ellipse fill=\"#ffffff\" stroke=\"#000000\" cx=\"834.3848\" cy=\"-192.2082\" rx=\"18.2703\" ry=\"18.2703\"/>\n<text text-anchor=\"middle\" x=\"834.3848\" y=\"-190.0082\" font-family=\"Times,serif\" font-size=\"9.00\" fill=\"#000000\">12</text>\n</g>\n<!-- 14&#45;&gt;Classify -->\n<g id=\"edge14\" class=\"edge\">\n<title>14&#45;&gt;Classify</title>\n<path fill=\"none\" stroke=\"#00ff00\" stroke-width=\".4479\" d=\"M293.3175,-108.4755C297.4149,-105.7941 301.953,-103.1084 306.3848,-101.0538 369.7486,-71.6785 448.6897,-51.5505 496.2317,-41.0516\"/>\n<polygon fill=\"#00ff00\" stroke=\"#00ff00\" stroke-width=\".4479\" points=\"497.1402,-44.4361 506.1712,-38.8962 495.6566,-37.5951 497.1402,-44.4361\"/>\n</g>\n<!-- 16 -->\n<g id=\"node19\" class=\"node\">\n<title>16</title>\n<ellipse fill=\"#ffffff\" stroke=\"#000000\" cx=\"889.3848\" cy=\"-192.2082\" rx=\"18.2703\" ry=\"18.2703\"/>\n<text text-anchor=\"middle\" x=\"889.3848\" y=\"-190.0082\" font-family=\"Times,serif\" font-size=\"9.00\" fill=\"#000000\">16</text>\n</g>\n<!-- 17 -->\n<g id=\"node20\" class=\"node\">\n<title>17</title>\n<ellipse fill=\"#ffffff\" stroke=\"#000000\" cx=\"538.3848\" cy=\"-119.4386\" rx=\"18.2703\" ry=\"18.2703\"/>\n<text text-anchor=\"middle\" x=\"538.3848\" y=\"-117.2386\" font-family=\"Times,serif\" font-size=\"9.00\" fill=\"#000000\">17</text>\n</g>\n<!-- 17&#45;&gt;Classify -->\n<g id=\"edge26\" class=\"edge\">\n<title>17&#45;&gt;Classify</title>\n<path fill=\"none\" stroke=\"#ff0000\" stroke-width=\".5159\" d=\"M538.3848,-101.0069C538.3848,-93.4765 538.3848,-84.4254 538.3848,-75.4074\"/>\n<polygon fill=\"#ff0000\" stroke=\"#ff0000\" stroke-width=\".5159\" points=\"541.8849,-75.3225 538.3848,-65.3226 534.8849,-75.3226 541.8849,-75.3225\"/>\n</g>\n<!-- 18&#45;&gt;Classify -->\n<g id=\"edge8\" class=\"edge\">\n<title>18&#45;&gt;Classify</title>\n<path fill=\"none\" stroke=\"#00ff00\" stroke-width=\".3341\" d=\"M348.4368,-108.7197C352.5333,-106.0364 357.0411,-103.2887 361.3848,-101.0538 406.246,-77.972 460.7575,-57.9881 497.3299,-45.6526\"/>\n<polygon fill=\"#00ff00\" stroke=\"#00ff00\" stroke-width=\".3341\" points=\"498.7668,-48.863 507.1466,-42.38 496.5529,-42.2223 498.7668,-48.863\"/>\n</g>\n<!-- 21 -->\n<g id=\"node24\" class=\"node\">\n<title>21</title>\n<ellipse fill=\"#ffffff\" stroke=\"#000000\" cx=\"944.3848\" cy=\"-192.2082\" rx=\"18.2703\" ry=\"18.2703\"/>\n<text text-anchor=\"middle\" x=\"944.3848\" y=\"-190.0082\" font-family=\"Times,serif\" font-size=\"9.00\" fill=\"#000000\">21</text>\n</g>\n<!-- 24 -->\n<g id=\"node27\" class=\"node\">\n<title>24</title>\n<ellipse fill=\"#ffffff\" stroke=\"#000000\" cx=\"999.3848\" cy=\"-192.2082\" rx=\"18.2703\" ry=\"18.2703\"/>\n<text text-anchor=\"middle\" x=\"999.3848\" y=\"-190.0082\" font-family=\"Times,serif\" font-size=\"9.00\" fill=\"#000000\">24</text>\n</g>\n<!-- 25&#45;&gt;Classify -->\n<g id=\"edge28\" class=\"edge\">\n<title>25&#45;&gt;Classify</title>\n<path fill=\"none\" stroke=\"#ff0000\" stroke-width=\".433\" d=\"M926.884,-107.9488C923.004,-105.3378 918.6875,-102.8176 914.3848,-101.0538 799.838,-54.0975 652.5406,-39.1866 581.0727,-34.5526\"/>\n<polygon fill=\"#ff0000\" stroke=\"#ff0000\" stroke-width=\".433\" points=\"581.2868,-31.0593 571.0914,-33.9409 580.8585,-38.0462 581.2868,-31.0593\"/>\n</g>\n</g>\n</svg>\n"
          },
          "metadata": {},
          "execution_count": 25
        }
      ]
    },
    {
      "cell_type": "code",
      "source": [
        "#@title Reporter Class\n",
        "from neat.math_util import mean, stdev\n",
        "\n",
        "class CustomReporter(neat.reporting.BaseReporter):\n",
        "  \"\"\"Uses `print` to output information about the run; an example reporter class.\"\"\"\n",
        "\n",
        "  def __init__(self, show_species_detail, gen_display=100):\n",
        "      self.show_species_detail = show_species_detail\n",
        "      self.generation = None\n",
        "      self.generation_start_time = None\n",
        "      self.generation_times = []\n",
        "      self.num_extinctions = 0   \n",
        "      self.gen_display = gen_display        \n",
        "      \n",
        "  def start_generation(self, generation):\n",
        "      clear_output()\n",
        "      self.generation = generation\n",
        "      print('\\n ****** Running generation {0} ****** \\n'.format(generation))\n",
        "      self.generation_start_time = time.time()\n",
        "\n",
        "  def end_generation(self, config, population, species_set):\n",
        "      ng = len(population)\n",
        "      ns = len(species_set.species)      \n",
        "      if self.show_species_detail:\n",
        "          print('Population of {0:d} members in {1:d} species:'.format(ng, ns))\n",
        "          print(\"   ID   age  size   fitness   adj fit  stag\")\n",
        "          print(\"  ====  ===  ====  =========  =======  ====\")\n",
        "          for sid in sorted(species_set.species):\n",
        "              s = species_set.species[sid]\n",
        "              a = self.generation - s.created\n",
        "              n = len(s.members)\n",
        "              f = \"--\" if s.fitness is None else f\"{s.fitness:.3f}\"\n",
        "              af = \"--\" if s.adjusted_fitness is None else f\"{s.adjusted_fitness:.3f}\"\n",
        "              st = self.generation - s.last_improved\n",
        "              print(f\"  {sid:>4}  {a:>3}  {n:>4}  {f:>9}  {af:>7}  {st:>4}\")\n",
        "      else:\n",
        "          print('Population of {0:d} members in {1:d} species'.format(ng, ns))\n",
        "\n",
        "      elapsed = time.time() - self.generation_start_time\n",
        "      self.generation_times.append(elapsed)\n",
        "      self.generation_times = self.generation_times[-10:]\n",
        "      average = sum(self.generation_times) / len(self.generation_times)\n",
        "      print('Total extinctions: {0:d}'.format(self.num_extinctions))\n",
        "      if len(self.generation_times) > 1:\n",
        "          print(\"Generation time: {0:.3f} sec ({1:.3f} average)\".format(elapsed, average))\n",
        "      else:\n",
        "          print(\"Generation time: {0:.3f} sec\".format(elapsed))\n",
        "\n",
        "  def post_evaluate(self, config, population, species, best_genome):\n",
        "      # pylint: disable=no-self-use\n",
        "      fitnesses = [c.fitness for c in population.values()]\n",
        "      fit_mean = mean(fitnesses)\n",
        "      fit_std = stdev(fitnesses)\n",
        "      best_species_id = species.get_species_id(best_genome.key)\n",
        "      print('Population\\'s average fitness: {0:3.5f} stdev: {1:3.5f}'.format(fit_mean, fit_std))\n",
        "      print(\n",
        "          'Best fitness: {0:3.5f} - size: {1!r} - species {2} - id {3}'.format(best_genome.fitness,\n",
        "                                                                                best_genome.size(),\n",
        "                                                                                best_species_id,\n",
        "                                                                                best_genome.key))\n",
        "      \n",
        "      if (self.generation) % self.gen_display == 0 : \n",
        "        members = [len(s.members) for s in species.species.values()]      \n",
        "        num_generations = len(members)\n",
        "        curves = np.array(members).T\n",
        "\n",
        "        fig, ax = plt.subplots()\n",
        "        ax.stackplot(range(num_generations), *curves)\n",
        "\n",
        "        plt.title(\"Speciation\")\n",
        "        plt.ylabel(\"Size per Species\")\n",
        "        plt.xlabel(\"Generations\")\n",
        "        plt.show()\n",
        "              \n",
        "        self.best_fit = best_genome.fitness\n",
        "        net = neat.nn.FeedForwardNetwork.create(best_genome, config)      \n",
        "        show_predictions(net, X, Y)     \n",
        "        time.sleep(5) \n",
        "      \n",
        "  def complete_extinction(self):\n",
        "      self.num_extinctions += 1\n",
        "      print('All species extinct.')\n",
        "\n",
        "  def found_solution(self, config, generation, best):\n",
        "      print('\\nBest individual in generation {0} meets fitness threshold - complexity: {1!r}'.format(\n",
        "          self.generation, best.size()))\n",
        "\n",
        "  def species_stagnant(self, sid, species):\n",
        "      if self.show_species_detail:\n",
        "          print(\"\\nSpecies {0} with {1} members is stagnated: removing it\".format(sid, len(species.members)))\n",
        "\n",
        "  def info(self, msg):\n",
        "      print(msg)"
      ],
      "metadata": {
        "id": "03p8sG4bRYbJ"
      },
      "execution_count": null,
      "outputs": []
    },
    {
      "cell_type": "code",
      "source": [
        "# Create the population, which is the top-level object for a NEAT run.\n",
        "p = neat.Population(config)\n",
        "\n",
        "# Add a stdout reporter to show progress in the terminal.\n",
        "p.add_reporter(CustomReporter(True, gen_display=10))\n",
        "\n",
        "# Run until a solution is found.\n",
        "winner = p.run(eval_genomes)\n",
        "\n",
        "# Display the winning genome.\n",
        "print('\\nBest genome:\\n{!s}'.format(winner))\n",
        "\n",
        "# Show output of the most fit genome against training data.\n",
        "print('\\nOutput:')\n",
        "winner_net = neat.nn.FeedForwardNetwork.create(winner, config)\n",
        "show_predictions(winner_net, X, Y)\n",
        "draw_net(config, winner, True, node_names=node_names)\n",
        "for x, y in zip(X, Y):\n",
        "    output = winner_net.activate(x)\n",
        "    print(\"  input {!r}, expected output {!r}, got {!r}\".format(x, y, output))"
      ],
      "metadata": {
        "id": "pYYZ4cXVX1Gu"
      },
      "execution_count": null,
      "outputs": []
    },
    {
      "cell_type": "code",
      "source": [
        "draw_net(config, winner, True)"
      ],
      "metadata": {
        "id": "j_xN08JIuisb"
      },
      "execution_count": null,
      "outputs": []
    }
  ]
}