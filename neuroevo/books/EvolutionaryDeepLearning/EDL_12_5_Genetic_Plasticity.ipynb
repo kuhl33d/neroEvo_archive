{
  "nbformat": 4,
  "nbformat_minor": 0,
  "metadata": {
    "colab": {
      "name": "EDL_12_5_Genetic_Plasticity.ipynb",
      "provenance": [],
      "collapsed_sections": [],
      "authorship_tag": "ABX9TyOhK7IoBXb+l1ZU92DW6aOz",
      "include_colab_link": true
    },
    "kernelspec": {
      "name": "python3",
      "display_name": "Python 3"
    },
    "language_info": {
      "name": "python"
    },
    "accelerator": "GPU"
  },
  "cells": [
    {
      "cell_type": "markdown",
      "metadata": {
        "id": "view-in-github",
        "colab_type": "text"
      },
      "source": [
        "<a href=\"https://colab.research.google.com/github/cxbxmxcx/EvolutionaryDeepLearning/blob/main/EDL_12_5_Genetic_Plasticity.ipynb\" target=\"_parent\"><img src=\"https://colab.research.google.com/assets/colab-badge.svg\" alt=\"Open In Colab\"/></a>"
      ]
    },
    {
      "cell_type": "code",
      "metadata": {
        "id": "4WvPKxQatmSn",
        "cellView": "form"
      },
      "source": [
        "#@title Scenario Imports\n",
        "import numpy as np\n",
        "import random\n",
        "import matplotlib.pyplot as plt\n",
        "\n",
        "import os\n",
        "import time\n",
        "import cv2\n",
        "import urllib.request\n",
        "from IPython.display import clear_output"
      ],
      "execution_count": null,
      "outputs": []
    },
    {
      "cell_type": "code",
      "metadata": {
        "cellView": "form",
        "id": "1ujS-2dLNZce"
      },
      "source": [
        "#@title Image Helpers\n",
        "def load_target_icon(icon_url, size):\n",
        "  icon_path = \"target_icon\"    \n",
        "  urllib.request.urlretrieve(icon_url,icon_path)\n",
        "  target = cv2.imread(icon_path, cv2.IMREAD_GRAYSCALE) \n",
        "  return cv2.resize(src=target, dsize=size, interpolation=cv2.INTER_AREA)\n",
        "\n",
        "def show_icon(icon_arr):    \n",
        "    plt.figure(figsize=(5,5))\n",
        "    plt.axis(\"off\")\n",
        "    plt.imshow(255-icon_arr, cmap='Greys')\n",
        "    plt.show()"
      ],
      "execution_count": null,
      "outputs": []
    },
    {
      "cell_type": "code",
      "metadata": {
        "colab": {
          "base_uri": "https://localhost:8080/",
          "height": 320
        },
        "id": "WdQqaeWJNtZD",
        "cellView": "form",
        "outputId": "c77b31d8-d520-4a33-bf0d-8954e4bb5a5f"
      },
      "source": [
        "#@title Select the Target Image/Icon { run: \"auto\" }\n",
        "target_icon = \"Mona Lisa\" #@param [\"Mona Lisa\", \"Wolf\", \"Trash\", \"Happy\"]\n",
        "size = 64 #@param {type:\"slider\", min:16, max:64, step:1}\n",
        "\n",
        "target_urls = { \n",
        "    \"Mona Lisa\" : \"https://encrypted-tbn0.gstatic.com/images?q=tbn:ANd9GcRZgVzl5ashVmS9cFLqcoAJT6SxCMxWlgbJOw&usqp=CAU\",\n",
        "    \"Wolf\" : 'https://www.clipartmax.com/png/middle/235-2350420_other-wolf-icon-16x16-images-loup-icon.png',\n",
        "    \"Trash\" : 'data:image/png;base64,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',\n",
        "    \"Happy\" : 'data:image/png;base64,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'  \n",
        "    }\n",
        "\n",
        "target_icon_url = target_urls[target_icon]\n",
        "target = load_target_icon(target_icon_url, (size, size))\n",
        "show_icon(target)\n",
        "print(target.shape)"
      ],
      "execution_count": null,
      "outputs": [
        {
          "output_type": "display_data",
          "data": {
            "text/plain": [
              "<Figure size 360x360 with 1 Axes>"
            ],
            "image/png": "[encoded data removed]"
          },
          "metadata": {
            "needs_background": "light"
          }
        },
        {
          "output_type": "stream",
          "name": "stdout",
          "text": [
            "(64, 64)\n"
          ]
        }
      ]
    },
    {
      "cell_type": "code",
      "metadata": {
        "colab": {
          "base_uri": "https://localhost:8080/"
        },
        "id": "qADmbyzLtXTM",
        "outputId": "ff185faf-6028-4116-bce4-0a20722d05d4"
      },
      "source": [
        "#initial population\n",
        "population = 300\n",
        "genes = size*size\n",
        "generations = 10000\n",
        "\n",
        "pop = np.random.uniform(0,1, size=(population,genes))\n",
        "print(pop)"
      ],
      "execution_count": null,
      "outputs": [
        {
          "output_type": "stream",
          "name": "stdout",
          "text": [
            "[[0.54853855 0.36050232 0.91620458 ... 0.28044466 0.19880014 0.79889185]\n",
            " [0.72677849 0.23323529 0.0245627  ... 0.77331516 0.77028589 0.48616122]\n",
            " [0.18998844 0.59326996 0.65364363 ... 0.71253222 0.03061934 0.6689522 ]\n",
            " ...\n",
            " [0.46190685 0.51580344 0.55379753 ... 0.53566433 0.73421052 0.87314137]\n",
            " [0.45164026 0.62047723 0.70110461 ... 0.01015341 0.36619834 0.1834855 ]\n",
            " [0.54971437 0.33238306 0.72919939 ... 0.19878361 0.50419132 0.85250932]]\n"
          ]
        }
      ]
    },
    {
      "cell_type": "code",
      "metadata": {
        "id": "0gKEtXtDTmtK"
      },
      "source": [
        "def render(individual):\n",
        "  return np.reshape(individual, (-1, size))\n",
        "\n",
        "def fitness(individual):\n",
        "  \"\"\"Calculates Mean Square Error Fitness for a render\"\"\"   \n",
        "  fitness = (np.square(render(individual) - target)).mean(axis=None)\n",
        "  return 1/fitness"
      ],
      "execution_count": null,
      "outputs": []
    },
    {
      "cell_type": "code",
      "metadata": {
        "colab": {
          "base_uri": "https://localhost:8080/",
          "height": 564
        },
        "id": "kMVtvpxaUbrI",
        "outputId": "3447a5c9-f769-4f3e-95bb-4fc65064770b"
      },
      "source": [
        "def evaluate(pop):\n",
        "  return np.array([fitness(ind) for ind in pop])\n",
        "\n",
        "plt.hist(evaluate(pop))\n",
        "show_icon(render(pop[0]))"
      ],
      "execution_count": null,
      "outputs": [
        {
          "output_type": "display_data",
          "data": {
            "text/plain": [
              "<Figure size 432x288 with 1 Axes>"
            ],
            "image/png": "[encoded data removed]"
          },
          "metadata": {
            "needs_background": "light"
          }
        },
        {
          "output_type": "display_data",
          "data": {
            "text/plain": [
              "<Figure size 360x360 with 1 Axes>"
            ],
            "image/png": "[encoded data removed]"
          },
          "metadata": {
            "needs_background": "light"
          }
        }
      ]
    },
    {
      "cell_type": "code",
      "metadata": {
        "colab": {
          "base_uri": "https://localhost:8080/"
        },
        "id": "a3tP3fEhtQ_Z",
        "outputId": "7f23d542-1097-494d-ff53-c199f85c0bde"
      },
      "source": [
        "def elite_selection(fitness):\n",
        "  return fitness.argsort()[:-2][::-1] \n",
        "\n",
        "parents = elite_selection(evaluate(pop))\n",
        "print(parents)"
      ],
      "execution_count": null,
      "outputs": [
        {
          "output_type": "stream",
          "name": "stdout",
          "text": [
            "[136 227 184 126  15  89  83 235 246 123 202 101  33  39  49 216 100 163\n",
            " 177 241 128 111  64 263  58 230 280 143  84 289 195  32   3 223 288  71\n",
            " 293 265  77  59 204  60 115 218 182 298 122  56 264 124 272  14 181 192\n",
            "  74  48   1 119 256 125 274 170 129  36 113 214 152 211  18  55 131 257\n",
            "  35  40   5 282 213 197 151  95 279  21   9  76 240  96 180  19 196  24\n",
            " 108 249 273 166  37 106 297 248 237  41  65 171 148 225 221 168 291  66\n",
            " 146  26 243  91  61 169 259 189  57 141 160 285 103 296  68 135 209 277\n",
            "  53  90  16 200 299 114  73 239 242 215 271 164 137  38  78 286 144 105\n",
            " 287 236  46  99 175  54 198 226 173  23 205 174 121 276 107  80 231 116\n",
            " 210 109 199 251 281 153  63  69   6  22  50 186  86  44 252 140 208  30\n",
            " 222 104 228 120  85 234 260  88 295 283   4 255 220 172 139 250 207 134\n",
            " 132 110  42 138 284 158 292  62  79  98 133 193 162   8 203 102 149   7\n",
            " 278 261 176 194 217 290 190 147 244  75 269  70 154  87 267  11 254 270\n",
            "  27  82 247 275 238  51   0 262 294 229  17  72 127 212 142 117  43  94\n",
            " 268 159 233  34 112  25  52  28 165 118 150 191 245 183 187 253  12 155\n",
            " 224 266 206 201  81  10  97 188  31 219  47 157 161 232 258  67  92 178\n",
            " 167   2  45 156  29 179 145  13 130 185]\n"
          ]
        }
      ]
    },
    {
      "cell_type": "code",
      "metadata": {
        "colab": {
          "base_uri": "https://localhost:8080/"
        },
        "id": "L4QSmgaxu86U",
        "outputId": "b7d356f5-f9ed-4095-cda9-f55a588eb753"
      },
      "source": [
        "def crossover(parent1, parent2, crossover_rate):\n",
        "  # children are copies of parents by default\n",
        "  child1, child2 = parent1.copy(), parent2.copy()  \n",
        "  # check for recombination\n",
        "  if random.random() < crossover_rate:\n",
        "    # select crossover point that is not on the end of the string\n",
        "    pt = random.randint(1, len(parent1)-2)\n",
        "    # perform crossover    \n",
        "    child1 = np.concatenate((parent1[:pt], parent2[pt:]))\n",
        "    child2 = np.concatenate((parent2[:pt], parent1[pt:]))\n",
        "  return [child1, child2]\n",
        "\n",
        "crossover(parents[0],parents[1], .15)"
      ],
      "execution_count": null,
      "outputs": [
        {
          "output_type": "execute_result",
          "data": {
            "text/plain": [
              "[136, 227]"
            ]
          },
          "metadata": {},
          "execution_count": 8
        }
      ]
    },
    {
      "cell_type": "code",
      "metadata": {
        "colab": {
          "base_uri": "https://localhost:8080/"
        },
        "id": "XmZi7iYJywBo",
        "outputId": "52c50135-18cf-48ab-f8da-cb1280d0f7db"
      },
      "source": [
        "def mutation(individual, mutation_rate):\n",
        "  for i in range(len(individual)):\n",
        "\t  # check for a mutation\n",
        "    if random.random() < mutation_rate:      \n",
        "      individual[i] = individual[i] + random.uniform(-.1,.1)\n",
        "  return individual\n",
        "\n",
        "mutation(pop[parents[0]], .5)"
      ],
      "execution_count": null,
      "outputs": [
        {
          "output_type": "execute_result",
          "data": {
            "text/plain": [
              "array([0.77836349, 0.45576452, 0.64377903, ..., 0.08807663, 0.57325956,\n",
              "       0.19620773])"
            ]
          },
          "metadata": {},
          "execution_count": 9
        }
      ]
    },
    {
      "cell_type": "code",
      "source": [
        "def plasticity(individual):\n",
        "  original = individual.copy()\n",
        "  f1 = fitness(individual)\n",
        "  indvidual = mutation(individual, 1.0)\n",
        "  f2 = fitness(individual)\n",
        "  if f1 < f2:\n",
        "    return individual\n",
        "  else:\n",
        "    return original\n",
        "\n",
        "plasticity(pop[parents[0]])"
      ],
      "metadata": {
        "colab": {
          "base_uri": "https://localhost:8080/"
        },
        "id": "nx-R6Ze1B_fg",
        "outputId": "d74852a9-e9a4-4c78-eb9e-1b2402bf51b3"
      },
      "execution_count": null,
      "outputs": [
        {
          "output_type": "execute_result",
          "data": {
            "text/plain": [
              "array([0.78884338, 0.38132252, 0.65878433, ..., 0.07478428, 0.63420725,\n",
              "       0.19891541])"
            ]
          },
          "metadata": {},
          "execution_count": 12
        }
      ]
    },
    {
      "cell_type": "code",
      "metadata": {
        "id": "gWdlxwFDz9H-"
      },
      "source": [
        "def simple_GA(pop, crossover_rate=.5, mutation_rate=.05):   \n",
        "  parents = elite_selection(evaluate(pop))\n",
        "  children = np.zeros((population,genes))  \n",
        "  for i in range(population):\n",
        "    offspring = crossover(pop[parents[0]],pop[parents[1]], crossover_rate)\n",
        "    children[i] = mutation(offspring[0],mutation_rate)  \n",
        "    children[i] = plasticity(children[i])\n",
        "  return children\n",
        "\n",
        "pop = simple_GA(pop)\n",
        "pop = simple_GA(pop)"
      ],
      "execution_count": null,
      "outputs": []
    },
    {
      "cell_type": "code",
      "metadata": {
        "colab": {
          "base_uri": "https://localhost:8080/",
          "height": 651
        },
        "id": "8palCtnsAhhH",
        "outputId": "9a0f5f38-d1a2-4d50-d166-e0705ba22b53"
      },
      "source": [
        "#initial population\n",
        "pop = np.random.uniform(0,1, size=(population,genes))\n",
        "render_gen = 100\n",
        "\n",
        "for i in range(generations):\n",
        "  pop = simple_GA(pop)\n",
        "  if i % render_gen == 0:  \n",
        "    clear_output()\n",
        "    fit = evaluate(pop) \n",
        "    parents = elite_selection(fit) \n",
        "    plt.hist(fit)\n",
        "    plt.show()\n",
        "    print(f\"Generation {i+1}\")\n",
        "    print(f\"    Max fitness {np.max(fit)}\")\n",
        "    print(f\"    Min fitness {np.min(fit)}\")\n",
        "    print(f\"    Mean fitness {np.mean(fit)}\")\n",
        "    print(f\"    Std fitness {np.std(fit)}\")\n",
        "    show_icon(render(pop[parents[0]]))\n",
        "    time.sleep(1)"
      ],
      "execution_count": null,
      "outputs": [
        {
          "output_type": "display_data",
          "data": {
            "text/plain": [
              "<Figure size 432x288 with 1 Axes>"
            ],
            "image/png": "[encoded data removed]"
          },
          "metadata": {
            "needs_background": "light"
          }
        },
        {
          "output_type": "stream",
          "name": "stdout",
          "text": [
            "Generation 9901\n",
            "    Max fitness 7.331313160769754e-05\n",
            "    Min fitness 7.330826774340672e-05\n",
            "    Mean fitness 7.331030854373338e-05\n",
            "    Std fitness 9.706239340739723e-10\n"
          ]
        },
        {
          "output_type": "display_data",
          "data": {
            "text/plain": [
              "<Figure size 360x360 with 1 Axes>"
            ],
            "image/png": "[encoded data removed]"
          },
          "metadata": {
            "needs_background": "light"
          }
        }
      ]
    }
  ]
}