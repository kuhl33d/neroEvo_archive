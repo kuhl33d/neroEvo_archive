{
  "nbformat": 4,
  "nbformat_minor": 0,
  "metadata": {
    "colab": {
      "name": "EDL_4_4_ES.ipynb",
      "provenance": [],
      "collapsed_sections": [],
      "authorship_tag": "ABX9TyOY/2IudNAStVf/sRxrelNg",
      "include_colab_link": true
    },
    "kernelspec": {
      "name": "python3",
      "display_name": "Python 3"
    },
    "accelerator": "GPU"
  },
  "cells": [
    {
      "cell_type": "markdown",
      "metadata": {
        "id": "view-in-github",
        "colab_type": "text"
      },
      "source": [
        "<a href=\"https://colab.research.google.com/github/cxbxmxcx/EvolutionaryDeepLearning/blob/main/EDL_4_4_ES.ipynb\" target=\"_parent\"><img src=\"https://colab.research.google.com/assets/colab-badge.svg\" alt=\"Open In Colab\"/></a>"
      ]
    },
    {
      "cell_type": "markdown",
      "metadata": {
        "id": "ZWk8QVItlplD"
      },
      "source": [
        "Original Source: https://github.com/DEAP/deap/blob/master/examples/ga/onemax_numpy.py\n",
        "\n",
        "DEAP is free software: you can redistribute it and/or modify\n",
        "   it under the terms of the GNU Lesser General Public License as\n",
        "   published by the Free Software Foundation, either version 3 of\n",
        "   the License, or (at your option) any later version.\n",
        "\n",
        "   DEAP is distributed in the hope that it will be useful,\n",
        "   but WITHOUT ANY WARRANTY; without even the implied warranty of\n",
        "   MERCHANTABILITY or FITNESS FOR A PARTICULAR PURPOSE. See the\n",
        "   GNU Lesser General Public License for more details.\n",
        "   You should have received a copy of the GNU Lesser General Public\n",
        "   License along with DEAP. If not, see <http://www.gnu.org/licenses/>."
      ]
    },
    {
      "cell_type": "code",
      "metadata": {
        "id": "ct-pwA_aHMMa",
        "colab": {
          "base_uri": "https://localhost:8080/"
        },
        "outputId": "9bd99138-449c-4843-ce99-bb6b0b1bf210"
      },
      "source": [
        "#@title Install DEAP\n",
        "!pip install deap --quiet"
      ],
      "execution_count": 1,
      "outputs": [
        {
          "output_type": "stream",
          "name": "stdout",
          "text": [
            "\u001b[?25l\r\u001b[K     |██                              | 10 kB 36.0 MB/s eta 0:00:01\r\u001b[K     |████                            | 20 kB 26.6 MB/s eta 0:00:01\r\u001b[K     |██████                          | 30 kB 19.0 MB/s eta 0:00:01\r\u001b[K     |████████▏                       | 40 kB 16.0 MB/s eta 0:00:01\r\u001b[K     |██████████▏                     | 51 kB 9.2 MB/s eta 0:00:01\r\u001b[K     |████████████▏                   | 61 kB 9.6 MB/s eta 0:00:01\r\u001b[K     |██████████████▎                 | 71 kB 9.2 MB/s eta 0:00:01\r\u001b[K     |████████████████▎               | 81 kB 10.2 MB/s eta 0:00:01\r\u001b[K     |██████████████████▎             | 92 kB 8.0 MB/s eta 0:00:01\r\u001b[K     |████████████████████▍           | 102 kB 8.7 MB/s eta 0:00:01\r\u001b[K     |██████████████████████▍         | 112 kB 8.7 MB/s eta 0:00:01\r\u001b[K     |████████████████████████▍       | 122 kB 8.7 MB/s eta 0:00:01\r\u001b[K     |██████████████████████████▌     | 133 kB 8.7 MB/s eta 0:00:01\r\u001b[K     |████████████████████████████▌   | 143 kB 8.7 MB/s eta 0:00:01\r\u001b[K     |██████████████████████████████▌ | 153 kB 8.7 MB/s eta 0:00:01\r\u001b[K     |████████████████████████████████| 160 kB 8.7 MB/s \n",
            "\u001b[?25h"
          ]
        }
      ]
    },
    {
      "cell_type": "code",
      "metadata": {
        "id": "epVL5qPDHCPW"
      },
      "source": [
        "#@title Imports\n",
        "import array\n",
        "import random\n",
        "import time\n",
        "\n",
        "import numpy as np\n",
        "\n",
        "from deap import algorithms\n",
        "from deap import base\n",
        "from deap import benchmarks\n",
        "from deap import creator\n",
        "from deap import tools\n",
        "\n",
        "%matplotlib inline\n",
        "import matplotlib.pyplot as plt\n",
        "from IPython.display import clear_output"
      ],
      "execution_count": 2,
      "outputs": []
    },
    {
      "cell_type": "code",
      "metadata": {
        "id": "WPvkex5Fltin"
      },
      "source": [
        "#@title ES Bounding Hyperparameters\n",
        "IND_SIZE = 6\n",
        "NGEN = 1000\n",
        "MIN_VALUE = 4\n",
        "MAX_VALUE = 5\n",
        "MIN_STRATEGY = 0.5\n",
        "MAX_STRATEGY = 3\n",
        "\n",
        "CXPB = .6\n",
        "MUTPB = .3\n",
        "GEN_OUTPUT = 25\n",
        "MAX_TIME = 5"
      ],
      "execution_count": 3,
      "outputs": []
    },
    {
      "cell_type": "code",
      "metadata": {
        "colab": {
          "base_uri": "https://localhost:8080/",
          "height": 286
        },
        "id": "KjINavFm1_Z1",
        "outputId": "1e123e8d-670c-4306-c7a7-3c8051600e63"
      },
      "source": [
        "#@title Generate regression data\n",
        "equation_form = \"polynomial\" #@param [\"polynomial\", \"abs\", \"step\"]\n",
        "\n",
        "X_START = -5\n",
        "X_END = 5\n",
        "X_STEP = 0.5\n",
        "\n",
        "def equation(x):\n",
        "  if equation_form == \"polynomial\":\n",
        "    return (2*x + 3*x**2 + 4*x**3 + 5*x**4 + 6*x**5 + 10) \n",
        "  elif equation_form == \"abs\":    \n",
        "    return abs(x)\n",
        "  else:    \n",
        "    return np.where(x>1, 1, 0)     \n",
        "\n",
        "X = np.array([x for x in np.arange(X_START, X_END, X_STEP)])\n",
        "Y = equation(X)\n",
        "data = list(zip(X, Y))\n",
        "\n",
        "plt.plot(X,Y)"
      ],
      "execution_count": 4,
      "outputs": [
        {
          "output_type": "execute_result",
          "data": {
            "text/plain": [
              "[<matplotlib.lines.Line2D at 0x7f20fc3dd150>]"
            ]
          },
          "metadata": {},
          "execution_count": 4
        },
        {
          "output_type": "display_data",
          "data": {
            "image/png": "[encoded data removed]",
            "text/plain": [
              "<Figure size 432x288 with 1 Axes>"
            ]
          },
          "metadata": {
            "needs_background": "light"
          }
        }
      ]
    },
    {
      "cell_type": "code",
      "metadata": {
        "id": "s3r8TiOjHYyy"
      },
      "source": [
        "#@title Create the Creator\n",
        "creator.create(\"FitnessMin\", base.Fitness, weights=(-1.0,))\n",
        "creator.create(\"Individual\", array.array, typecode=\"d\", fitness=creator.FitnessMin, strategy=None)\n",
        "creator.create(\"Strategy\", array.array, typecode=\"d\")"
      ],
      "execution_count": 5,
      "outputs": []
    },
    {
      "cell_type": "code",
      "metadata": {
        "id": "QPQmqP6il-o1"
      },
      "source": [
        "#@title Individual generator and decorate functions\n",
        "def generateES(icls, scls, size, imin, imax, smin, smax):  \n",
        "  ind = icls(random.uniform(imin, imax) for _ in range(size))  \n",
        "  ind.strategy = scls(random.uniform(smin, smax) for _ in range(size))  \n",
        "  return ind\n",
        "\n",
        "def checkStrategy(minstrategy):\n",
        "  def decorator(func):\n",
        "    def wrappper(*args, **kargs):\n",
        "      children = func(*args, **kargs)\n",
        "      for child in children:\n",
        "        for i, s in enumerate(child.strategy):\n",
        "          if s < minstrategy:\n",
        "            child.strategy[i] = minstrategy\n",
        "      return children\n",
        "    return wrappper\n",
        "  return decorator"
      ],
      "execution_count": 6,
      "outputs": []
    },
    {
      "cell_type": "code",
      "metadata": {
        "id": "zz0FP3ibmCQi",
        "colab": {
          "base_uri": "https://localhost:8080/"
        },
        "outputId": "2ac9a623-9d73-462f-9c07-715ab8549e41"
      },
      "source": [
        "#@title Setup the Toolbox\n",
        "print(checkStrategy(MIN_STRATEGY))\n",
        "toolbox = base.Toolbox()\n",
        "toolbox.register(\"individual\", generateES, creator.Individual, creator.Strategy,\n",
        "    IND_SIZE, MIN_VALUE, MAX_VALUE, MIN_STRATEGY, MAX_STRATEGY)\n",
        "toolbox.register(\"population\", tools.initRepeat, list, toolbox.individual)\n",
        "toolbox.register(\"mate\", tools.cxESBlend, alpha=0.1)\n",
        "toolbox.register(\"mutate\", tools.mutESLogNormal, c=1.0, indpb=0.03)\n",
        "toolbox.register(\"select\", tools.selTournament, tournsize=3)\n",
        "\n",
        "toolbox.decorate(\"mate\", checkStrategy(MIN_STRATEGY))\n",
        "toolbox.decorate(\"mutate\", checkStrategy(MIN_STRATEGY))"
      ],
      "execution_count": 7,
      "outputs": [
        {
          "output_type": "stream",
          "name": "stdout",
          "text": [
            "<function checkStrategy.<locals>.decorator at 0x7f20fbf11d40>\n"
          ]
        }
      ]
    },
    {
      "cell_type": "code",
      "metadata": {
        "id": "zYiDae474ggD"
      },
      "source": [
        "#@title Evaluation of fitness\n",
        "def pred(ind, x):    \n",
        "  y_ = 0.0    \n",
        "  for i in range(1,IND_SIZE):\n",
        "    y_ += ind[i-1]*x**i    \n",
        "  y_ += ind[IND_SIZE-1]       \n",
        "  return y_\n",
        "\n",
        "def fitness(ind, data):    \n",
        "  mse = 0.0    \n",
        "  for x, y in data:        \n",
        "    y_ = pred(ind, x)\n",
        "    mse += (y - y_)**2        \n",
        "  return mse/len(data),\n",
        "\n",
        "# fitness eval\n",
        "toolbox.register(\"evaluate\", fitness, data=data)"
      ],
      "execution_count": 8,
      "outputs": []
    },
    {
      "cell_type": "code",
      "metadata": {
        "id": "WJ2qluCC7oSS"
      },
      "source": [
        "#@title Plot Fitness\n",
        "def plot_fitness(g, best, pop, logbook):\n",
        "  Y_ = np.array([pred(best, x) for x in X])\n",
        "  clear_output()\n",
        "  best = [round(b,1) for b in best]\n",
        "  print(f\"Generation {g}, Best {best}\")\n",
        "  print(logbook.stream) \n",
        "  fits = [f.fitness.values[0] for f in pop]  \n",
        "  plt.hist(fits)\n",
        "  plt.show()\n",
        "  plt.scatter(X,Y)\n",
        "  plt.plot(X,Y_, 'r')\n",
        "  plt.show()  "
      ],
      "execution_count": 9,
      "outputs": []
    },
    {
      "cell_type": "code",
      "metadata": {
        "id": "FC0-B2wAID9Z",
        "colab": {
          "base_uri": "https://localhost:8080/",
          "height": 602
        },
        "outputId": "a54f2ae7-c3b0-4928-fc89-db9b3f7138de"
      },
      "source": [
        "#@title Run the Evolution\n",
        "random.seed(64)\n",
        "    \n",
        "MU, LAMBDA = 250, 1000\n",
        "pop = toolbox.population(n=MU)\n",
        "hof = tools.HallOfFame(1)\n",
        "stats = tools.Statistics(lambda ind: ind.fitness.values)\n",
        "stats.register(\"avg\", np.mean)\n",
        "stats.register(\"std\", np.std)\n",
        "stats.register(\"min\", np.min)\n",
        "stats.register(\"max\", np.max)\n",
        "\n",
        "start = time.time()\n",
        "for g in range(NGEN):\n",
        "  pop, logbook = algorithms.eaMuCommaLambda(pop, toolbox, mu=MU, lambda_=LAMBDA, \n",
        "            cxpb=CXPB, mutpb=MUTPB, ngen=1, stats=stats, halloffame=hof, verbose=False)\n",
        "  if (g+1) % GEN_OUTPUT == 0:\n",
        "    plot_fitness(g, hof[0], pop, logbook) \n",
        "    end = time.time()\n",
        "    if end-start > MAX_TIME:\n",
        "      break\n",
        "\n",
        "best = [round(i,1) for i in hof[0]]\n",
        "print(\"Best individual is \", best, round(hof[0].fitness.values[0],2))"
      ],
      "execution_count": 10,
      "outputs": [
        {
          "output_type": "stream",
          "name": "stdout",
          "text": [
            "Generation 49, Best [2.9, 4.3, 4.1, 4.9, 6.0, 6.5]\n",
            "gen\tnevals\tavg    \tstd      \tmin    \tmax    \n",
            "0  \t0     \t9.60284\t0.0577183\t9.44144\t9.72269\n",
            "1  \t899   \t9.55136\t0.0480563\t9.35245\t9.67632\n"
          ]
        },
        {
          "output_type": "display_data",
          "data": {
            "image/png": "[encoded data removed]",
            "text/plain": [
              "<Figure size 432x288 with 1 Axes>"
            ]
          },
          "metadata": {
            "needs_background": "light"
          }
        },
        {
          "output_type": "display_data",
          "data": {
            "image/png": "[encoded data removed]",
            "text/plain": [
              "<Figure size 432x288 with 1 Axes>"
            ]
          },
          "metadata": {
            "needs_background": "light"
          }
        },
        {
          "output_type": "stream",
          "name": "stdout",
          "text": [
            "Best individual is  [2.9, 4.3, 4.1, 4.9, 6.0, 6.5] 9.35\n"
          ]
        }
      ]
    }
  ]
}