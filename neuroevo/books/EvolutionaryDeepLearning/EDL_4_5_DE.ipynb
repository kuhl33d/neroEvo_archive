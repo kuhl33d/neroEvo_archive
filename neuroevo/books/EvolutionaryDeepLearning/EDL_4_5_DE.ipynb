{
  "nbformat": 4,
  "nbformat_minor": 0,
  "metadata": {
    "colab": {
      "name": "EDL_4_5_DE.ipynb",
      "provenance": [],
      "collapsed_sections": [],
      "authorship_tag": "ABX9TyP9q7sBp+RujdCQEqX+RaFG",
      "include_colab_link": true
    },
    "kernelspec": {
      "name": "python3",
      "display_name": "Python 3"
    }
  },
  "cells": [
    {
      "cell_type": "markdown",
      "metadata": {
        "id": "view-in-github",
        "colab_type": "text"
      },
      "source": [
        "<a href=\"https://colab.research.google.com/github/cxbxmxcx/EvolutionaryDeepLearning/blob/main/EDL_4_5_DE.ipynb\" target=\"_parent\"><img src=\"https://colab.research.google.com/assets/colab-badge.svg\" alt=\"Open In Colab\"/></a>"
      ]
    },
    {
      "cell_type": "markdown",
      "metadata": {
        "id": "ZWk8QVItlplD"
      },
      "source": [
        "Original Source: https://github.com/DEAP/deap/blob/master/examples/ga/onemax_numpy.py\n",
        "\n",
        "DEAP is free software: you can redistribute it and/or modify\n",
        "   it under the terms of the GNU Lesser General Public License as\n",
        "   published by the Free Software Foundation, either version 3 of\n",
        "   the License, or (at your option) any later version.\n",
        "\n",
        "   DEAP is distributed in the hope that it will be useful,\n",
        "   but WITHOUT ANY WARRANTY; without even the implied warranty of\n",
        "   MERCHANTABILITY or FITNESS FOR A PARTICULAR PURPOSE. See the\n",
        "   GNU Lesser General Public License for more details.\n",
        "   You should have received a copy of the GNU Lesser General Public\n",
        "   License along with DEAP. If not, see <http://www.gnu.org/licenses/>."
      ]
    },
    {
      "cell_type": "code",
      "metadata": {
        "id": "ct-pwA_aHMMa"
      },
      "source": [
        "#@title Install DEAP\n",
        "!pip install deap --quiet"
      ],
      "execution_count": null,
      "outputs": []
    },
    {
      "cell_type": "code",
      "metadata": {
        "id": "epVL5qPDHCPW"
      },
      "source": [
        "#@title Imports\n",
        "import random\n",
        "import array\n",
        "import time\n",
        "\n",
        "import numpy as np\n",
        "\n",
        "from deap import base\n",
        "from deap import benchmarks\n",
        "from deap import creator\n",
        "from deap import tools\n",
        "\n",
        "%matplotlib inline\n",
        "import matplotlib.pyplot as plt\n",
        "from IPython.display import clear_output"
      ],
      "execution_count": null,
      "outputs": []
    },
    {
      "cell_type": "code",
      "metadata": {
        "id": "m9M4DgcgK3Tr"
      },
      "source": [
        "#@title Hyperparameters\n",
        "NDIM = 6\n",
        "CR = 0.25\n",
        "F = 1  \n",
        "MU = 300\n",
        "NGEN = 1000  \n",
        "GEN_OUTPUT = 25\n",
        "MAX_TIME = 5"
      ],
      "execution_count": null,
      "outputs": []
    },
    {
      "cell_type": "code",
      "metadata": {
        "id": "s3r8TiOjHYyy",
        "colab": {
          "base_uri": "https://localhost:8080/"
        },
        "outputId": "34a5aae1-67a6-4c1c-fa5b-56cc8dd6fe6f"
      },
      "source": [
        "#@title Setup Fitness Criteria\n",
        "creator.create(\"FitnessMin\", base.Fitness, weights=(-1.0,))\n",
        "creator.create(\"Individual\", array.array, typecode='d', fitness=creator.FitnessMin)"
      ],
      "execution_count": null,
      "outputs": [
        {
          "output_type": "stream",
          "name": "stderr",
          "text": [
            "/usr/local/lib/python3.7/dist-packages/deap/creator.py:141: RuntimeWarning: A class named 'FitnessMin' has already been created and it will be overwritten. Consider deleting previous creation of that class or rename it.\n",
            "  RuntimeWarning)\n",
            "/usr/local/lib/python3.7/dist-packages/deap/creator.py:141: RuntimeWarning: A class named 'Individual' has already been created and it will be overwritten. Consider deleting previous creation of that class or rename it.\n",
            "  RuntimeWarning)\n"
          ]
        }
      ]
    },
    {
      "cell_type": "code",
      "metadata": {
        "id": "DP0BRxxAH1uh"
      },
      "source": [
        "#@title Add Genetic Operators to Toolbox\n",
        "toolbox = base.Toolbox()\n",
        "toolbox.register(\"attr_float\", random.uniform, -3, 3)\n",
        "toolbox.register(\"individual\", tools.initRepeat, creator.Individual, toolbox.attr_float, NDIM)\n",
        "toolbox.register(\"population\", tools.initRepeat, list, toolbox.individual)\n",
        "toolbox.register(\"select\", tools.selRandom, k=3)"
      ],
      "execution_count": null,
      "outputs": []
    },
    {
      "cell_type": "code",
      "metadata": {
        "colab": {
          "base_uri": "https://localhost:8080/",
          "height": 286
        },
        "id": "OWfZMKx3MAcX",
        "outputId": "2b065362-246d-4347-e6cf-2e23ebdc2234"
      },
      "source": [
        "#@title Generate regression data\n",
        "equation_form = \"polynomial\" #@param [\"polynomial\", \"abs\", \"step\"]\n",
        "\n",
        "X_START = -5\n",
        "X_END = 5\n",
        "X_STEP = 0.5\n",
        "\n",
        "def equation(x):\n",
        "  if equation_form == \"polynomial\":\n",
        "    return (2*x + 3*x**2 + 4*x**3 + 5*x**4 + 6*x**5 + 10) \n",
        "  elif equation_form == \"abs\":    \n",
        "    return abs(x)\n",
        "  else:    \n",
        "    return np.where(x>1, 1, 0)     \n",
        "\n",
        "X = np.array([x for x in np.arange(X_START, X_END, X_STEP)])\n",
        "Y = equation(X)\n",
        "data = list(zip(X, Y))\n",
        "\n",
        "plt.scatter(X,Y)"
      ],
      "execution_count": null,
      "outputs": [
        {
          "output_type": "execute_result",
          "data": {
            "text/plain": [
              "<matplotlib.collections.PathCollection at 0x7f61fea97e90>"
            ]
          },
          "metadata": {},
          "execution_count": 16
        },
        {
          "output_type": "display_data",
          "data": {
            "image/png": "[encoded data removed]",
            "text/plain": [
              "<Figure size 432x288 with 1 Axes>"
            ]
          },
          "metadata": {
            "needs_background": "light"
          }
        }
      ]
    },
    {
      "cell_type": "code",
      "metadata": {
        "id": "-RS30hHBKe9L"
      },
      "source": [
        "import csv\n",
        "with open('data.csv', 'w') as f:      \n",
        "    # using csv.writer method from CSV package\n",
        "    write = csv.writer(f)      \n",
        "    write.writerows(data)"
      ],
      "execution_count": null,
      "outputs": []
    },
    {
      "cell_type": "code",
      "metadata": {
        "id": "UM87TusHv8ab"
      },
      "source": [
        "#@title Evaluation of fitness\n",
        "def pred(ind, x):    \n",
        "  y_ = 0.0    \n",
        "  for i in range(1,NDIM):\n",
        "    y_ += ind[i-1]*x**i    \n",
        "  y_ += ind[NDIM-1]       \n",
        "  return y_\n",
        "\n",
        "def fitness(ind, data):    \n",
        "  mse = 0.0    \n",
        "  for x, y in data:        \n",
        "    y_ = pred(ind, x)\n",
        "    mse += (y - y_)**2        \n",
        "  return mse/len(data),\n",
        "\n",
        "# fitness eval\n",
        "toolbox.register(\"evaluate\", fitness, data=data)"
      ],
      "execution_count": null,
      "outputs": []
    },
    {
      "cell_type": "code",
      "metadata": {
        "id": "FUWLROMvM1z6"
      },
      "source": [
        "#@title Plot Fitness\n",
        "def plot_fitness(g, best, pop, logbook):\n",
        "  Y_ = np.array([pred(best, x) for x in X])\n",
        "  clear_output()\n",
        "  print(f\"Generation {g}, Best {best}\") \n",
        "  print(logbook.stream)\n",
        "  fits = [f.fitness.values[0] for f in pop]  \n",
        "  plt.hist(fits)\n",
        "  plt.show()\n",
        "  plt.scatter(X,Y)\n",
        "  plt.plot(X,Y_, 'r')\n",
        "  plt.show()   "
      ],
      "execution_count": null,
      "outputs": []
    },
    {
      "cell_type": "code",
      "metadata": {
        "colab": {
          "base_uri": "https://localhost:8080/",
          "height": 976
        },
        "id": "QvsWliTQiI7j",
        "outputId": "d5e054b5-8b5c-44b9-b423-7f1b0b20bb52"
      },
      "source": [
        "pop = toolbox.population(n=MU);\n",
        "hof = tools.HallOfFame(1)\n",
        "stats = tools.Statistics(lambda ind: ind.fitness.values)\n",
        "stats.register(\"avg\", np.mean)\n",
        "stats.register(\"std\", np.std)\n",
        "stats.register(\"min\", np.min)\n",
        "stats.register(\"max\", np.max)\n",
        "\n",
        "logbook = tools.Logbook()\n",
        "logbook.header = \"gen\", \"evals\", \"std\", \"min\", \"avg\", \"max\"\n",
        "\n",
        "# Evaluate the individuals\n",
        "fitnesses = toolbox.map(toolbox.evaluate, pop)\n",
        "for ind, fit in zip(pop, fitnesses):\n",
        "    ind.fitness.values = fit\n",
        "\n",
        "record = stats.compile(pop)\n",
        "logbook.record(gen=0, evals=len(pop), **record)\n",
        "print(logbook.stream)\n",
        "start = time.time()\n",
        "for g in range(1, NGEN):\n",
        "  for k, agent in enumerate(pop):\n",
        "    a,b,c = toolbox.select(pop)\n",
        "    y = toolbox.clone(agent)\n",
        "    index = random.randrange(NDIM)\n",
        "    for i, value in enumerate(agent):\n",
        "      if i == index or random.random() < CR:\n",
        "        y[i] = a[i] + F*(b[i]-c[i])\n",
        "    y.fitness.values = toolbox.evaluate(y)\n",
        "    if y.fitness > agent.fitness:\n",
        "      pop[k] = y            \n",
        "  hof.update(pop)    \n",
        "  record = stats.compile(pop)\n",
        "  logbook.record(gen=g, evals=len(pop), **record)\n",
        "  if (g+1) % GEN_OUTPUT == 0:\n",
        "    plot_fitness(g, hof[0], pop, logbook) \n",
        "    end = time.time()\n",
        "    if end-start > MAX_TIME:\n",
        "      break\n",
        "\n",
        "print(\"Best individual is \", hof[0], hof[0].fitness.values[0])\n"
      ],
      "execution_count": null,
      "outputs": [
        {
          "output_type": "stream",
          "name": "stdout",
          "text": [
            "Generation 99, Best Individual('d', [-24.18388320965048, 4.8931361748926, 5.1003703100526625, 4.861666935729579, 6.011428837784546, 17.883332602151455])\n",
            "75 \t300  \t57191.6    \t3511.87    \t64019.1    \t371679     \n",
            "76 \t300  \t54117.7    \t3511.87    \t62788.7    \t333256     \n",
            "77 \t300  \t52388.4    \t3511.87    \t60881.9    \t333256     \n",
            "78 \t300  \t52254.3    \t2283.67    \t60019.6    \t333256     \n",
            "79 \t300  \t51927.6    \t2283.67    \t59269.3    \t333256     \n",
            "80 \t300  \t50880.9    \t2283.67    \t57744.1    \t333256     \n",
            "81 \t300  \t50189.1    \t2283.67    \t56880.5    \t321940     \n",
            "82 \t300  \t50208.9    \t2283.67    \t56401.3    \t321940     \n",
            "83 \t300  \t48781.9    \t2283.67    \t55801      \t321940     \n",
            "84 \t300  \t48328.4    \t2283.67    \t55385.7    \t321940     \n",
            "85 \t300  \t47929.8    \t2283.67    \t54873.3    \t321940     \n",
            "86 \t300  \t47387.4    \t2283.67    \t54216      \t321940     \n",
            "87 \t300  \t47438.2    \t1409.41    \t53883.6    \t321940     \n",
            "88 \t300  \t47121.1    \t1409.41    \t53009.4    \t321940     \n",
            "89 \t300  \t46953      \t1409.41    \t52693.4    \t321940     \n",
            "90 \t300  \t46760      \t1409.41    \t52026.5    \t321940     \n",
            "91 \t300  \t46744.7    \t1409.41    \t51711.4    \t321940     \n",
            "92 \t300  \t46636.2    \t1409.41    \t51288.2    \t321940     \n",
            "93 \t300  \t43969.5    \t1409.41    \t49946.1    \t321940     \n",
            "94 \t300  \t42215.8    \t1409.41    \t48648.1    \t321940     \n",
            "95 \t300  \t41171      \t1409.41    \t47893.7    \t321940     \n",
            "96 \t300  \t37516.9    \t1409.41    \t46432.4    \t221968     \n",
            "97 \t300  \t37305.7    \t1409.41    \t46016.1    \t221968     \n",
            "98 \t300  \t37069.5    \t1409.41    \t45280.9    \t221968     \n",
            "99 \t300  \t37055.7    \t1409.41    \t45108.4    \t221968     \n"
          ]
        },
        {
          "output_type": "display_data",
          "data": {
            "image/png": "[encoded data removed]",
            "text/plain": [
              "<Figure size 432x288 with 1 Axes>"
            ]
          },
          "metadata": {
            "needs_background": "light"
          }
        },
        {
          "output_type": "display_data",
          "data": {
            "image/png": "[encoded data removed]",
            "text/plain": [
              "<Figure size 432x288 with 1 Axes>"
            ]
          },
          "metadata": {
            "needs_background": "light"
          }
        },
        {
          "output_type": "stream",
          "name": "stdout",
          "text": [
            "Best individual is  Individual('d', [-24.18388320965048, 4.8931361748926, 5.1003703100526625, 4.861666935729579, 6.011428837784546, 17.883332602151455]) 1409.412359942684\n"
          ]
        }
      ]
    }
  ]
}