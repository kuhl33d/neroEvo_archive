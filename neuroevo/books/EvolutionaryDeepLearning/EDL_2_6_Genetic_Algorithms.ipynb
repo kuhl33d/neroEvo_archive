{
  "nbformat": 4,
  "nbformat_minor": 0,
  "metadata": {
    "colab": {
      "name": "EDL_2_6_Genetic_Algorithms.ipynb",
      "provenance": [],
      "authorship_tag": "ABX9TyO8BlzIRFblEqYrJ8QLJoVE",
      "include_colab_link": true
    },
    "kernelspec": {
      "name": "python3",
      "display_name": "Python 3"
    },
    "language_info": {
      "name": "python"
    },
    "accelerator": "GPU"
  },
  "cells": [
    {
      "cell_type": "markdown",
      "metadata": {
        "id": "view-in-github",
        "colab_type": "text"
      },
      "source": [
        "<a href=\"https://colab.research.google.com/github/cxbxmxcx/EvolutionaryDeepLearning/blob/main/EDL_2_6_Genetic_Algorithms.ipynb\" target=\"_parent\"><img src=\"https://colab.research.google.com/assets/colab-badge.svg\" alt=\"Open In Colab\"/></a>"
      ]
    },
    {
      "cell_type": "code",
      "metadata": {
        "id": "4WvPKxQatmSn"
      },
      "source": [
        "import numpy as np\n",
        "import random\n",
        "import matplotlib.pyplot as plt\n",
        "\n",
        "import os\n",
        "import time\n",
        "import cv2\n",
        "import urllib.request\n",
        "from IPython.display import clear_output"
      ],
      "execution_count": 2,
      "outputs": []
    },
    {
      "cell_type": "code",
      "metadata": {
        "colab": {
          "base_uri": "https://localhost:8080/"
        },
        "id": "qADmbyzLtXTM",
        "outputId": "8a57558d-a57f-498d-991d-4cdcae5d9592"
      },
      "source": [
        "#initial population\n",
        "population = 300\n",
        "genes = 16*16\n",
        "generations = 10000\n",
        "\n",
        "pop = np.random.uniform(0,1, size=(population,genes))\n",
        "print(pop)"
      ],
      "execution_count": 3,
      "outputs": [
        {
          "output_type": "stream",
          "name": "stdout",
          "text": [
            "[[0.26221467 0.5132462  0.06852858 ... 0.50291897 0.87633672 0.75098625]\n",
            " [0.6332051  0.03967353 0.90791563 ... 0.08336439 0.14333942 0.6379571 ]\n",
            " [0.25401999 0.84690751 0.67758222 ... 0.59274578 0.85481404 0.64617142]\n",
            " ...\n",
            " [0.16387855 0.51715547 0.96708731 ... 0.19734203 0.50930047 0.06658052]\n",
            " [0.341506   0.24191086 0.92236025 ... 0.98474741 0.82396964 0.21598059]\n",
            " [0.75423544 0.85152558 0.81451592 ... 0.13583465 0.61661626 0.958472  ]]\n"
          ]
        }
      ]
    },
    {
      "cell_type": "code",
      "metadata": {
        "id": "1ujS-2dLNZce"
      },
      "source": [
        "#@title Image Helpers\n",
        "def load_target_icon(icon_url):\n",
        "  icon_path = \"target_icon\"    \n",
        "  urllib.request.urlretrieve(icon_url,icon_path)\n",
        "  target = cv2.imread(icon_path, cv2.IMREAD_GRAYSCALE) \n",
        "  return cv2.resize(src=target, dsize=(16,16), interpolation=cv2.INTER_AREA)\n",
        "\n",
        "def show_icon(icon_arr):    \n",
        "    plt.figure(figsize=(5,5))\n",
        "    plt.axis(\"off\")\n",
        "    plt.imshow(icon_arr, cmap='Greys')\n",
        "    plt.show()"
      ],
      "execution_count": 4,
      "outputs": []
    },
    {
      "cell_type": "code",
      "metadata": {
        "colab": {
          "base_uri": "https://localhost:8080/",
          "height": 320
        },
        "id": "WdQqaeWJNtZD",
        "outputId": "00c4a2fa-3537-4689-8377-57c23a86f365"
      },
      "source": [
        "#@title Default title text { run: \"auto\" }\n",
        "target_icon = \"Happy\" #@param [\"Wolf\", \"Stop Sign\", \"Plus\", \"Happy\", \"Art\", \"Abstract\"]\n",
        "\n",
        "target_urls = { \"Wolf\" : 'https://www.clipartmax.com/png/middle/235-2350420_other-wolf-icon-16x16-images-loup-icon.png',\n",
        "               \"Stop Sign\" : 'https://images.uline.com/is/image//content/dam/images/H/H2500/H-2381.jpg',\n",
        "               \"Plus\" : 'https://encrypted-tbn0.gstatic.com/images?q=tbn:ANd9GcR2NJycvmconYsFlY2cEZRq5we90isDOh5l7hC0vzTxPBgHtfp7DkE9MpEl5P9ViQ_F0VQ&usqp=CAU',\n",
        "               \"Happy\" : 'data:image/png;base64,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',\n",
        "               \"Art\" : \"http://www.indianruminations.com/wp-content/uploads/what-is-modern-art-definition-2.jpg\",\n",
        "               \"Abstract\" : \"https://scx2.b-cdn.net/gfx/news/2020/abstractart.jpg\"\n",
        "               }\n",
        "\n",
        "target_icon_url = target_urls[target_icon]\n",
        "target = load_target_icon(target_icon_url)\n",
        "show_icon(target)\n",
        "print(target.shape)"
      ],
      "execution_count": 5,
      "outputs": [
        {
          "output_type": "display_data",
          "data": {
            "image/png": "[encoded data removed]",
            "text/plain": [
              "<Figure size 360x360 with 1 Axes>"
            ]
          },
          "metadata": {
            "needs_background": "light"
          }
        },
        {
          "output_type": "stream",
          "name": "stdout",
          "text": [
            "(16, 16)\n"
          ]
        }
      ]
    },
    {
      "cell_type": "code",
      "metadata": {
        "id": "0gKEtXtDTmtK"
      },
      "source": [
        "def render(individual):\n",
        "  return np.reshape(individual, (-1, 16))\n",
        "\n",
        "def fitness(individual):\n",
        "  \"\"\"Calculates Mean Square Error Fitness for a render\"\"\"   \n",
        "  fitness = (np.square(render(individual) - target)).mean(axis=None)\n",
        "  return fitness"
      ],
      "execution_count": 6,
      "outputs": []
    },
    {
      "cell_type": "code",
      "metadata": {
        "colab": {
          "base_uri": "https://localhost:8080/",
          "height": 551
        },
        "id": "kMVtvpxaUbrI",
        "outputId": "57647e9f-f1f2-4df2-f149-afe22d1a673a"
      },
      "source": [
        "def evaluate(pop):\n",
        "  return np.array([fitness(ind) for ind in pop])\n",
        "\n",
        "plt.hist(evaluate(pop))\n",
        "show_icon(render(pop[0]))"
      ],
      "execution_count": 7,
      "outputs": [
        {
          "output_type": "display_data",
          "data": {
            "image/png": "[encoded data removed]",
            "text/plain": [
              "<Figure size 432x288 with 1 Axes>"
            ]
          },
          "metadata": {
            "needs_background": "light"
          }
        },
        {
          "output_type": "display_data",
          "data": {
            "image/png": "[encoded data removed]",
            "text/plain": [
              "<Figure size 360x360 with 1 Axes>"
            ]
          },
          "metadata": {
            "needs_background": "light"
          }
        }
      ]
    },
    {
      "cell_type": "code",
      "metadata": {
        "colab": {
          "base_uri": "https://localhost:8080/"
        },
        "id": "a3tP3fEhtQ_Z",
        "outputId": "570cb1a9-0094-4207-bf49-a8add7f86360"
      },
      "source": [
        "def elite_selection(fitness):\n",
        "  return fitness.argsort()[:2][::-1] \n",
        "\n",
        "parents = elite_selection(evaluate(pop))\n",
        "print(parents)"
      ],
      "execution_count": 8,
      "outputs": [
        {
          "output_type": "stream",
          "name": "stdout",
          "text": [
            "[248 121]\n"
          ]
        }
      ]
    },
    {
      "cell_type": "code",
      "metadata": {
        "colab": {
          "base_uri": "https://localhost:8080/"
        },
        "id": "L4QSmgaxu86U",
        "outputId": "d03ce322-a0f1-4baa-f1e1-11f0effdfc5b"
      },
      "source": [
        "def crossover(parent1, parent2, crossover_rate):\n",
        "  # children are copies of parents by default\n",
        "  child1, child2 = parent1.copy(), parent2.copy()  \n",
        "  # check for recombination\n",
        "  if random.random() < crossover_rate:\n",
        "    # select crossover point that is not on the end of the string\n",
        "    pt = random.randint(1, len(parent1)-2)\n",
        "    # perform crossover    \n",
        "    child1 = np.concatenate((parent1[:pt], parent2[pt:]))\n",
        "    child2 = np.concatenate((parent2[:pt], parent1[pt:]))\n",
        "  return [child1, child2]\n",
        "\n",
        "crossover(parents[0],parents[1], .15)"
      ],
      "execution_count": 9,
      "outputs": [
        {
          "output_type": "execute_result",
          "data": {
            "text/plain": [
              "[248, 121]"
            ]
          },
          "metadata": {},
          "execution_count": 9
        }
      ]
    },
    {
      "cell_type": "code",
      "metadata": {
        "colab": {
          "base_uri": "https://localhost:8080/"
        },
        "id": "XmZi7iYJywBo",
        "outputId": "c1aaca2f-1bbd-40f3-fe53-5b476c622309"
      },
      "source": [
        "def mutation(individual, mutation_rate):\n",
        "  for i in range(len(individual)):\n",
        "\t  # check for a mutation\n",
        "    if random.random() < mutation_rate:      \n",
        "      individual[i] = individual[i] + random.uniform(-.1,.1)\n",
        "  return individual\n",
        "\n",
        "mutation(pop[parents[0]], .5)"
      ],
      "execution_count": 10,
      "outputs": [
        {
          "output_type": "execute_result",
          "data": {
            "text/plain": [
              "array([ 0.34539212,  0.40401526,  0.27621553,  0.99546974,  0.79198344,\n",
              "        0.88985016,  0.09739713,  0.71448749,  0.74719726,  0.34322608,\n",
              "        0.30648743,  0.57283565,  0.73161684,  0.01952594,  0.61692905,\n",
              "        0.92558591,  0.00980196,  0.915847  ,  0.65418312,  0.67498608,\n",
              "        0.25892708,  0.89247205,  0.04289475,  0.59868846,  0.66438577,\n",
              "        0.61416077,  0.58894306,  0.87343244,  0.84716344,  0.07529618,\n",
              "        0.82524581,  0.39246084,  0.71845472,  0.53170255,  0.38349003,\n",
              "        0.01102109,  0.83075143,  0.38651925,  0.37632878,  0.65439057,\n",
              "        0.56674136,  0.11963163,  0.95626532,  0.55177511,  0.23351406,\n",
              "        0.78437642,  0.58580466,  0.46899539,  0.73878558,  0.73546938,\n",
              "        0.28274986,  0.66761423,  0.82044664,  0.57877673,  0.33610739,\n",
              "        0.94072548,  0.60028081,  0.4204602 ,  0.3995427 ,  0.40317516,\n",
              "        0.93354548,  0.54374533, -0.03059829,  0.4436348 ,  0.38850318,\n",
              "        0.75554668,  0.93972146,  0.75223327,  0.48165194,  0.28271617,\n",
              "        0.07255973,  0.31117897,  0.3887759 ,  0.89939609,  0.63883594,\n",
              "        0.79604427,  0.4625018 ,  0.79989392,  0.67586836,  0.86756874,\n",
              "        0.68889625,  0.85279965,  0.81652738,  0.15879834,  0.59056476,\n",
              "        0.91394907,  0.61681972,  0.4763323 ,  0.11959636,  0.88170401,\n",
              "        0.00365018,  0.62611274,  0.72030464,  0.32109255,  0.64232671,\n",
              "        0.68994873,  0.8399192 ,  0.5942047 ,  1.01079803,  0.54221935,\n",
              "        0.55189925,  0.26135515,  0.68017625,  0.53262384,  0.4246187 ,\n",
              "        0.42185092,  0.89334843,  0.39259131,  0.63304468,  0.71563063,\n",
              "        0.95030148,  0.83512441,  0.66600009,  0.84594342,  0.09063287,\n",
              "        0.63204588,  0.52693887,  0.49603065,  0.94987021,  0.77291672,\n",
              "        0.00789006,  0.53139799,  0.82562836,  0.6659033 ,  0.77495676,\n",
              "        0.18447196,  0.45949337,  0.37970105,  0.65334537,  0.63653775,\n",
              "        0.3554048 , -0.02100905,  0.44944861,  0.4800346 ,  0.556739  ,\n",
              "       -0.00258791,  0.0839279 ,  0.99753428,  0.8062521 ,  1.03171973,\n",
              "        0.04840697,  0.15738182,  0.71812207,  0.69263317,  0.07527069,\n",
              "        0.84040281,  0.11785661,  0.268043  ,  0.88543308,  0.44582496,\n",
              "        0.27502087,  0.73146164,  0.48144358,  0.93397019, -0.00550998,\n",
              "        0.04086833,  0.96962258,  0.52371537,  0.54858027,  0.75896832,\n",
              "        0.95178804,  0.17672763,  0.13834073,  0.32506751,  0.07186786,\n",
              "        0.90143473,  0.26988434,  0.82127961,  0.55699573,  0.00370118,\n",
              "        0.78926801,  0.98827428,  0.89252677,  0.82590717,  0.06694945,\n",
              "        0.57930818,  0.20622563,  0.74712008,  0.46086176,  0.56553293,\n",
              "        0.74223197,  0.42121597,  0.45562359,  0.99454185,  0.73265146,\n",
              "        0.9822612 ,  0.81642392,  0.78330206,  0.16383043,  0.34038296,\n",
              "        0.13115853,  0.36123859,  0.35918644,  0.17797228,  0.50407709,\n",
              "        0.69210168,  0.60397072,  0.54291175,  0.49982098,  0.12290473,\n",
              "        0.60786937,  0.14863839,  0.48445537,  0.62043724,  0.89796704,\n",
              "        0.79621089,  0.43092319,  0.88283925,  0.24338691,  0.10221291,\n",
              "        0.37096187,  0.04047153,  0.70398966,  0.94397608,  0.1313767 ,\n",
              "        0.40684572,  0.4108485 ,  0.23185014,  0.61202206,  0.90660136,\n",
              "        0.55714503,  0.39275576,  0.43928307,  0.36187623,  0.7130212 ,\n",
              "        0.24548181,  0.97183425,  0.42840692,  0.53917549,  0.60740269,\n",
              "        0.68274563,  0.63881716,  0.32434693,  0.47086014,  0.83198074,\n",
              "        0.85640763,  0.43621629,  0.88563436,  1.06988175,  0.95355995,\n",
              "        0.2026298 ,  0.27504259,  0.65249887,  0.77223299,  0.15128408,\n",
              "        0.24548229,  0.99382462,  0.42660244,  0.02549603,  0.90397298,\n",
              "        0.60284857,  0.47545396,  0.51394538,  0.14761812,  0.62538123,\n",
              "        0.66865574])"
            ]
          },
          "metadata": {},
          "execution_count": 10
        }
      ]
    },
    {
      "cell_type": "code",
      "metadata": {
        "id": "gWdlxwFDz9H-"
      },
      "source": [
        "def simple_GA(pop, crossover_rate=.5, mutation_rate=.05):   \n",
        "  parents = elite_selection(evaluate(pop))\n",
        "  children = np.zeros((population,genes))  \n",
        "  for i in range(population):\n",
        "    offspring = crossover(pop[parents[0]],pop[parents[1]], crossover_rate)\n",
        "    children[i] = mutation(offspring[0],mutation_rate)  \n",
        "  return children\n",
        "\n",
        "pop = simple_GA(pop)\n",
        "pop = simple_GA(pop)"
      ],
      "execution_count": 11,
      "outputs": []
    },
    {
      "cell_type": "code",
      "metadata": {
        "colab": {
          "base_uri": "https://localhost:8080/",
          "height": 636
        },
        "id": "8palCtnsAhhH",
        "outputId": "cb631ff5-7adf-4d39-cee4-718d000035cc"
      },
      "source": [
        "#initial population\n",
        "pop = np.random.uniform(0,1, size=(population,genes))\n",
        "render_gen = 100\n",
        "\n",
        "for i in range(generations):\n",
        "  pop = simple_GA(pop)\n",
        "  if i % render_gen == 0:  \n",
        "    clear_output()\n",
        "    fit = evaluate(pop) \n",
        "    parents = elite_selection(fit) \n",
        "    plt.hist(fit)\n",
        "    plt.show()\n",
        "    print(f\"Generation {i+1}\")\n",
        "    print(f\"    Max fitness {np.max(fit)}\")\n",
        "    print(f\"    Min fitness {np.min(fit)}\")\n",
        "    print(f\"    Mean fitness {np.mean(fit)}\")\n",
        "    print(f\"    Std fitness {np.std(fit)}\")\n",
        "    show_icon(render(pop[parents[0]]))\n",
        "    time.sleep(1)"
      ],
      "execution_count": 12,
      "outputs": [
        {
          "output_type": "display_data",
          "data": {
            "image/png": "[encoded data removed]",
            "text/plain": [
              "<Figure size 432x288 with 1 Axes>"
            ]
          },
          "metadata": {
            "needs_background": "light"
          }
        },
        {
          "output_type": "stream",
          "name": "stdout",
          "text": [
            "Generation 9901\n",
            "    Max fitness 7162.077356346125\n",
            "    Min fitness 7160.936715164056\n",
            "    Mean fitness 7161.435889846751\n",
            "    Std fitness 0.16432283021623276\n"
          ]
        },
        {
          "output_type": "display_data",
          "data": {
            "image/png": "[encoded data removed]",
            "text/plain": [
              "<Figure size 360x360 with 1 Axes>"
            ]
          },
          "metadata": {
            "needs_background": "light"
          }
        }
      ]
    }
  ]
}