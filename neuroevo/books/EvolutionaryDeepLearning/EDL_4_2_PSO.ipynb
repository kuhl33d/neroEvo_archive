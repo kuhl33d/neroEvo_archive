{
  "nbformat": 4,
  "nbformat_minor": 0,
  "metadata": {
    "colab": {
      "name": "EDL_4_2_PSO.ipynb",
      "provenance": [],
      "collapsed_sections": [],
      "authorship_tag": "ABX9TyOTG9Dyabkbn3kO1+PlVpSZ",
      "include_colab_link": true
    },
    "kernelspec": {
      "name": "python3",
      "display_name": "Python 3"
    }
  },
  "cells": [
    {
      "cell_type": "markdown",
      "metadata": {
        "id": "view-in-github",
        "colab_type": "text"
      },
      "source": [
        "<a href=\"https://colab.research.google.com/github/cxbxmxcx/EvolutionaryDeepLearning/blob/main/EDL_4_2_PSO.ipynb\" target=\"_parent\"><img src=\"https://colab.research.google.com/assets/colab-badge.svg\" alt=\"Open In Colab\"/></a>"
      ]
    },
    {
      "cell_type": "markdown",
      "metadata": {
        "id": "ZWk8QVItlplD"
      },
      "source": [
        "Original Source: https://github.com/DEAP/deap/blob/master/examples/ga/onemax_numpy.py\n",
        "\n",
        "DEAP is free software: you can redistribute it and/or modify\n",
        "   it under the terms of the GNU Lesser General Public License as\n",
        "   published by the Free Software Foundation, either version 3 of\n",
        "   the License, or (at your option) any later version.\n",
        "\n",
        "   DEAP is distributed in the hope that it will be useful,\n",
        "   but WITHOUT ANY WARRANTY; without even the implied warranty of\n",
        "   MERCHANTABILITY or FITNESS FOR A PARTICULAR PURPOSE. See the\n",
        "   GNU Lesser General Public License for more details.\n",
        "   You should have received a copy of the GNU Lesser General Public\n",
        "   License along with DEAP. If not, see <http://www.gnu.org/licenses/>."
      ]
    },
    {
      "cell_type": "code",
      "metadata": {
        "id": "ct-pwA_aHMMa",
        "colab": {
          "base_uri": "https://localhost:8080/"
        },
        "outputId": "c48a6bb0-e8b9-42eb-8f24-9c24784879e6"
      },
      "source": [
        "#@title Install DEAP\n",
        "!pip install deap --quiet"
      ],
      "execution_count": 1,
      "outputs": [
        {
          "output_type": "stream",
          "name": "stdout",
          "text": [
            "\u001b[?25l\r\u001b[K     |██                              | 10 kB 17.6 MB/s eta 0:00:01\r\u001b[K     |████                            | 20 kB 21.9 MB/s eta 0:00:01\r\u001b[K     |██████                          | 30 kB 23.8 MB/s eta 0:00:01\r\u001b[K     |████████▏                       | 40 kB 18.0 MB/s eta 0:00:01\r\u001b[K     |██████████▏                     | 51 kB 18.2 MB/s eta 0:00:01\r\u001b[K     |████████████▏                   | 61 kB 17.2 MB/s eta 0:00:01\r\u001b[K     |██████████████▎                 | 71 kB 17.5 MB/s eta 0:00:01\r\u001b[K     |████████████████▎               | 81 kB 18.2 MB/s eta 0:00:01\r\u001b[K     |██████████████████▎             | 92 kB 13.7 MB/s eta 0:00:01\r\u001b[K     |████████████████████▍           | 102 kB 13.9 MB/s eta 0:00:01\r\u001b[K     |██████████████████████▍         | 112 kB 13.9 MB/s eta 0:00:01\r\u001b[K     |████████████████████████▍       | 122 kB 13.9 MB/s eta 0:00:01\r\u001b[K     |██████████████████████████▌     | 133 kB 13.9 MB/s eta 0:00:01\r\u001b[K     |████████████████████████████▌   | 143 kB 13.9 MB/s eta 0:00:01\r\u001b[K     |██████████████████████████████▌ | 153 kB 13.9 MB/s eta 0:00:01\r\u001b[K     |████████████████████████████████| 160 kB 13.9 MB/s \n",
            "\u001b[?25h"
          ]
        }
      ]
    },
    {
      "cell_type": "code",
      "metadata": {
        "id": "epVL5qPDHCPW"
      },
      "source": [
        "#@title Imports\n",
        "import operator\n",
        "import random\n",
        "import math\n",
        "import time\n",
        "\n",
        "import numpy as np\n",
        "\n",
        "from deap import base\n",
        "from deap import benchmarks\n",
        "from deap import creator\n",
        "from deap import tools\n",
        "from IPython.display import clear_output"
      ],
      "execution_count": 2,
      "outputs": []
    },
    {
      "cell_type": "code",
      "metadata": {
        "id": "s3r8TiOjHYyy"
      },
      "source": [
        "#@title Setup Fitness Criteria\n",
        "creator.create(\"FitnessMax\", base.Fitness, weights=(1.0,))\n",
        "creator.create(\"Particle\", np.ndarray, fitness=creator.FitnessMax, speed=list, \n",
        "    smin=None, smax=None, best=None)"
      ],
      "execution_count": 3,
      "outputs": []
    },
    {
      "cell_type": "code",
      "metadata": {
        "id": "brtFWiHfhGHl"
      },
      "source": [
        "#@title PSO Functions\n",
        "def generate(size, pmin, pmax, smin, smax):\n",
        "  part = creator.Particle(np.random.uniform(pmin, pmax, size)) \n",
        "  part.speed = np.random.uniform(smin, smax, size)\n",
        "  part.smin = smin\n",
        "  part.smax = smax\n",
        "  return part\n",
        "\n",
        "def updateParticle(part, best, phi1, phi2):\n",
        "  u1 = np.random.uniform(0, phi1, len(part))\n",
        "  u2 = np.random.uniform(0, phi2, len(part))\n",
        "  v_u1 = u1 * (part.best - part)\n",
        "  v_u2 = u2 * (best - part)\n",
        "  part.speed += v_u1 + v_u2\n",
        "  for i, speed in enumerate(part.speed):\n",
        "    if abs(speed) < part.smin:\n",
        "      part.speed[i] = math.copysign(part.smin, speed)\n",
        "    elif abs(speed) > part.smax:\n",
        "      part.speed[i] = math.copysign(part.smax, speed)\n",
        "  part += part.speed"
      ],
      "execution_count": 4,
      "outputs": []
    },
    {
      "cell_type": "code",
      "metadata": {
        "id": "xVhtoopvtlr1"
      },
      "source": [
        "#@title Evaluation Function\n",
        "distance = 575 #@param {type:\"slider\", min:10, max:1000, step:5}\n",
        "def evaluate(individual):\n",
        "  v = individual[0] if individual[0] > 0 else 0  #velocity\n",
        "  a = individual[1] * math.pi / 180  #angle to radians\n",
        "  return ((2*v**2 * math.sin(a) * math.cos(a))/9.8 - distance)**2,"
      ],
      "execution_count": 5,
      "outputs": []
    },
    {
      "cell_type": "code",
      "metadata": {
        "id": "DP0BRxxAH1uh"
      },
      "source": [
        "#@title Add Functions to Toolbox\n",
        "toolbox = base.Toolbox()\n",
        "toolbox.register(\"particle\", \n",
        "                 generate, size=2, pmin=-6, pmax=6, smin=-3, smax=3)\n",
        "toolbox.register(\"population\", \n",
        "                 tools.initRepeat, list, toolbox.particle)\n",
        "toolbox.register(\"update\", \n",
        "                 updateParticle, phi1=200, phi2=200)\n",
        "toolbox.register(\"evaluate\", evaluate)"
      ],
      "execution_count": 6,
      "outputs": []
    },
    {
      "cell_type": "code",
      "metadata": {
        "id": "UM87TusHv8ab"
      },
      "source": [
        "#@title Code to Plot the Expression Tree\n",
        "import matplotlib.pyplot as plt\n",
        "\n",
        "def plot_population(pop):  \n",
        "  xs = [x for x,_ in pop]\n",
        "  ys = [y for _,y in pop]    \n",
        "  plt.scatter(xs,ys)  \n",
        "  plt.show()"
      ],
      "execution_count": 7,
      "outputs": []
    },
    {
      "cell_type": "code",
      "metadata": {
        "colab": {
          "base_uri": "https://localhost:8080/",
          "height": 299
        },
        "id": "FC0-B2wAID9Z",
        "outputId": "ece6d7cf-9918-431c-b105-5eb4c7a68c19"
      },
      "source": [
        "#@title Run the Evolution\n",
        "random.seed(64)\n",
        "    \n",
        "pop = toolbox.population(n=500)\n",
        "stats = tools.Statistics(lambda ind: ind.fitness.values)\n",
        "stats.register(\"avg\", np.mean)\n",
        "stats.register(\"std\", np.std)\n",
        "stats.register(\"min\", np.min)\n",
        "stats.register(\"max\", np.max)\n",
        "\n",
        "logbook = tools.Logbook()\n",
        "logbook.header = [\"gen\", \"evals\"] + stats.fields\n",
        "\n",
        "GEN = 100\n",
        "best = None\n",
        "\n",
        "for g in range(GEN):          \n",
        "  for part in pop:\n",
        "    part.fitness.values = tuple(np.subtract((0,), toolbox.evaluate(part)))        \n",
        "    if part.best is None or part.best.fitness < part.fitness:\n",
        "      part.best = creator.Particle(part)\n",
        "      part.best.fitness.values = part.fitness.values\n",
        "    if best is None or best.fitness < part.fitness:\n",
        "      best = creator.Particle(part)\n",
        "      best.fitness.values = part.fitness.values\n",
        "  for part in pop:\n",
        "    toolbox.update(part, best)\n",
        "  \n",
        "  if (g+1) % 10 == 0:\n",
        "    logbook.record(gen=g, evals=len(pop), **stats.compile(pop))      \n",
        "    clear_output()\n",
        "    print(best)\n",
        "    plot_population(pop) \n",
        "    print(logbook.stream)\n",
        "    time.sleep(1)\n",
        "\n"
      ],
      "execution_count": 8,
      "outputs": [
        {
          "output_type": "stream",
          "name": "stdout",
          "text": [
            "[75.06912074 44.85161278]\n"
          ]
        },
        {
          "output_type": "display_data",
          "data": {
            "image/png": "[encoded data removed]",
            "text/plain": [
              "<Figure size 432x288 with 1 Axes>"
            ]
          },
          "metadata": {
            "needs_background": "light"
          }
        },
        {
          "output_type": "stream",
          "name": "stdout",
          "text": [
            "99 \t500  \t-670.749\t519.582\t-4399.59\t-2.82224  \n"
          ]
        }
      ]
    },
    {
      "cell_type": "code",
      "metadata": {
        "colab": {
          "base_uri": "https://localhost:8080/"
        },
        "id": "TW5XQ3S4QnYA",
        "outputId": "5b708913-80a4-429e-d5f6-cdb83f7b63e8"
      },
      "source": [
        "v, a = best\n",
        "a = a * math.pi / 180  #angle to radians\n",
        "distance = (2*v**2 * math.sin(a) * math.cos(a))/9.8\n",
        "print(distance)"
      ],
      "execution_count": 9,
      "outputs": [
        {
          "output_type": "stream",
          "name": "stdout",
          "text": [
            "575.0303359637201\n"
          ]
        }
      ]
    }
  ]
}