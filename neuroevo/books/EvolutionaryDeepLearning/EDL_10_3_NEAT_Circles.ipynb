{
  "nbformat": 4,
  "nbformat_minor": 0,
  "metadata": {
    "colab": {
      "name": "EDL_10_3_NEAT_Circles.ipynb",
      "provenance": [],
      "collapsed_sections": [],
      "authorship_tag": "ABX9TyPgsprBfdqFiyACMgBYKq8n",
      "include_colab_link": true
    },
    "kernelspec": {
      "name": "python3",
      "display_name": "Python 3"
    },
    "language_info": {
      "name": "python"
    }
  },
  "cells": [
    {
      "cell_type": "markdown",
      "metadata": {
        "id": "view-in-github",
        "colab_type": "text"
      },
      "source": [
        "<a href=\"https://colab.research.google.com/github/cxbxmxcx/EvolutionaryDeepLearning/blob/main/EDL_10_3_NEAT_Circles.ipynb\" target=\"_parent\"><img src=\"https://colab.research.google.com/assets/colab-badge.svg\" alt=\"Open In Colab\"/></a>"
      ]
    },
    {
      "cell_type": "code",
      "source": [
        "!pip install git+https://github.com/CodeReclaimers/neat-python.git"
      ],
      "metadata": {
        "colab": {
          "base_uri": "https://localhost:8080/"
        },
        "id": "8Z3Ayt-wXGOD",
        "outputId": "a301498f-aff2-4e25-9acf-fe7dcbdb70c7"
      },
      "execution_count": null,
      "outputs": [
        {
          "output_type": "stream",
          "name": "stdout",
          "text": [
            "Collecting git+https://github.com/CodeReclaimers/neat-python.git\n",
            "  Cloning https://github.com/CodeReclaimers/neat-python.git to /tmp/pip-req-build-6vzewv35\n",
            "  Running command git clone -q https://github.com/CodeReclaimers/neat-python.git /tmp/pip-req-build-6vzewv35\n"
          ]
        }
      ]
    },
    {
      "cell_type": "code",
      "execution_count": null,
      "metadata": {
        "id": "gEpTXjwrHo-Q"
      },
      "outputs": [],
      "source": [
        "import numpy as np\n",
        "import sklearn\n",
        "import sklearn.datasets\n",
        "import sklearn.linear_model\n",
        "import matplotlib.pyplot as plt\n",
        "from IPython.display import clear_output\n",
        "import time\n",
        "import random\n",
        "\n",
        "import neat"
      ]
    },
    {
      "cell_type": "code",
      "source": [
        "#@title Dataset Parameters { run: \"auto\", vertical-output: true, display-mode: \"form\" }\n",
        "number_samples = 10 #@param {type:\"slider\", min:10, max:1000, step:5}\n",
        "difficulty = 1 #@param {type:\"slider\", min:1, max:5, step:1}\n",
        "problem = \"circles\" #@param [\"classification\", \"blobs\", \"gaussian quantiles\", \"moons\", \"circles\"]\n",
        "number_features = 2\n",
        "number_classes = 2 \n",
        "middle_layer = 5 #@param {type:\"slider\", min:5, max:25, step:1}\n",
        "\n",
        "def load_data(problem):  \n",
        "  if problem == \"classification\":\n",
        "    clusters = 1 if difficulty < 3 else 2\n",
        "    informs = 1 if difficulty < 4 else 2\n",
        "    data = sklearn.datasets.make_classification(\n",
        "        n_samples = number_samples,\n",
        "        n_features=number_features, \n",
        "        n_redundant=0, \n",
        "        class_sep=1/difficulty,\n",
        "        n_informative=informs, \n",
        "        n_clusters_per_class=clusters)\n",
        "    \n",
        "  if problem == \"blobs\":\n",
        "    data = sklearn.datasets.make_blobs(\n",
        "        n_samples = number_samples,\n",
        "        n_features=number_features, \n",
        "        centers=number_classes,\n",
        "        cluster_std = difficulty)\n",
        "  \n",
        "  if problem == \"gaussian quantiles\":\n",
        "    data = sklearn.datasets.make_gaussian_quantiles(mean=None, \n",
        "                                                  cov=difficulty,\n",
        "                                                  n_samples=number_samples,\n",
        "                                                  n_features=number_features,\n",
        "                                                  n_classes=number_classes,\n",
        "                                                  shuffle=True,\n",
        "                                                  random_state=None)\n",
        "    \n",
        "  if problem == \"moons\":\n",
        "    data = sklearn.datasets.make_moons(\n",
        "        n_samples = number_samples)\n",
        "    \n",
        "  if problem == \"circles\":\n",
        "    data = sklearn.datasets.make_circles(\n",
        "        n_samples = number_samples)\n",
        "    \n",
        "  return data\n",
        "\n",
        "data = load_data(problem)\n",
        "X, Y = data\n",
        "\n",
        "\n",
        "# Input Data\n",
        "plt.figure(\"Input Data\")\n",
        "plt.scatter(X[:, 0], X[:, 1], c=Y, s=40, cmap=plt.cm.Spectral)"
      ],
      "metadata": {
        "id": "6S1csdi_Xdhb",
        "colab": {
          "base_uri": "https://localhost:8080/",
          "height": 282
        },
        "outputId": "3fe05fd0-3af6-4f4a-af51-b892e29656f3"
      },
      "execution_count": null,
      "outputs": [
        {
          "output_type": "execute_result",
          "data": {
            "text/plain": [
              "<matplotlib.collections.PathCollection at 0x7f84601d63d0>"
            ]
          },
          "metadata": {},
          "execution_count": 5
        },
        {
          "output_type": "display_data",
          "data": {
            "text/plain": [
              "<Figure size 432x288 with 1 Axes>"
            ],
            "image/png": "[encoded data removed]"
          },
          "metadata": {
            "needs_background": "light"
          }
        }
      ]
    },
    {
      "cell_type": "code",
      "source": [
        "%%writefile config\n",
        "[NEAT]\n",
        "fitness_criterion     = max\n",
        "fitness_threshold     = 3.0\n",
        "pop_size              = 250\n",
        "reset_on_extinction   = 1\n",
        "\n",
        "[DefaultGenome]\n",
        "num_inputs              = 2\n",
        "num_hidden              = 10\n",
        "num_outputs             = 1\n",
        "initial_connection      = partial_direct 0.5\n",
        "feed_forward            = True\n",
        "compatibility_disjoint_coefficient    = 1.0\n",
        "compatibility_weight_coefficient      = 0.6\n",
        "conn_add_prob           = 0.2\n",
        "conn_delete_prob        = 0.2\n",
        "node_add_prob           = 0.2\n",
        "node_delete_prob        = 0.2\n",
        "activation_default      = sigmoid\n",
        "activation_options      = sigmoid identity relu\n",
        "activation_mutate_rate  = 0.1\n",
        "aggregation_default     = sum\n",
        "aggregation_options     = sum\n",
        "aggregation_mutate_rate = 0.0\n",
        "bias_init_mean          = 0.0\n",
        "bias_init_stdev         = 1.0\n",
        "bias_replace_rate       = 0.1\n",
        "bias_mutate_rate        = 0.7\n",
        "bias_mutate_power       = 0.5\n",
        "bias_max_value          = 30.0\n",
        "bias_min_value          = -30.0\n",
        "response_init_mean      = 1.0\n",
        "response_init_stdev     = 0.0\n",
        "response_replace_rate   = 0.0\n",
        "response_mutate_rate    = 0.0\n",
        "response_mutate_power   = 0.0\n",
        "response_max_value      = 30.0\n",
        "response_min_value      = -30.0\n",
        "\n",
        "weight_max_value        = 30\n",
        "weight_min_value        = -30\n",
        "weight_init_mean        = 0.0\n",
        "weight_init_stdev       = 1.0\n",
        "weight_mutate_rate      = 0.8\n",
        "weight_replace_rate     = 0.1\n",
        "weight_mutate_power     = 0.5\n",
        "enabled_default         = True\n",
        "enabled_mutate_rate     = 0.01\n",
        "\n",
        "[DefaultSpeciesSet]\n",
        "compatibility_threshold = 3.0\n",
        "\n",
        "[DefaultStagnation]\n",
        "species_fitness_func = max\n",
        "max_stagnation  = 20\n",
        "\n",
        "[DefaultReproduction]\n",
        "elitism            = 2\n",
        "survival_threshold = 0.2"
      ],
      "metadata": {
        "id": "hd9WgGFyX5aZ",
        "colab": {
          "base_uri": "https://localhost:8080/"
        },
        "outputId": "ecb40ab8-1b9b-4c21-b781-6537e9eaa930"
      },
      "execution_count": null,
      "outputs": [
        {
          "output_type": "stream",
          "name": "stdout",
          "text": [
            "Overwriting config\n"
          ]
        }
      ]
    },
    {
      "cell_type": "code",
      "source": [
        "# Load configuration.\n",
        "config = neat.Config(neat.DefaultGenome, neat.DefaultReproduction,\n",
        "                     neat.DefaultSpeciesSet, neat.DefaultStagnation,\n",
        "                     'config')\n",
        "\n",
        "print(config.genome_type, config.genome_config,config.pop_size)"
      ],
      "metadata": {
        "colab": {
          "base_uri": "https://localhost:8080/"
        },
        "id": "rWw1ctXr5FPM",
        "outputId": "38124778-97bd-42f0-ce19-f522dfa3deba"
      },
      "execution_count": null,
      "outputs": [
        {
          "output_type": "stream",
          "name": "stdout",
          "text": [
            "<class 'neat.genome.DefaultGenome'> <neat.genome.DefaultGenomeConfig object at 0x7f846013e610> 250\n"
          ]
        }
      ]
    },
    {
      "cell_type": "code",
      "source": [
        "key = \"fred\"\n",
        "genome = config.genome_type(key)\n",
        "genome.configure_new(config.genome_config)\n",
        "\n",
        "net = neat.nn.FeedForwardNetwork.create(genome, config)"
      ],
      "metadata": {
        "id": "Pr22TQRl7nTc"
      },
      "execution_count": null,
      "outputs": []
    },
    {
      "cell_type": "code",
      "source": [
        "fitness = 4\n",
        "for x, y in zip(X,Y):  \n",
        "  output = net.activate(x)\n",
        "  fitness -= (output-y)**2  \n",
        "\n",
        "print(fitness)"
      ],
      "metadata": {
        "colab": {
          "base_uri": "https://localhost:8080/"
        },
        "id": "oZshMKDF85fm",
        "outputId": "b0e2e86a-e25d-4de7-bb95-077bbe636483"
      },
      "execution_count": null,
      "outputs": [
        {
          "output_type": "stream",
          "name": "stdout",
          "text": [
            "[-0.19427527]\n"
          ]
        }
      ]
    },
    {
      "cell_type": "code",
      "source": [
        "#@title Draw Network from Genome\n",
        "import graphviz\n",
        "\n",
        "def draw_net(config, genome, view=False, filename=None, node_names=None, show_disabled=True, prune_unused=False,\n",
        "             node_colors=None, fmt='svg'):\n",
        "    \"\"\" Receives a genome and draws a neural network with arbitrary topology. \"\"\"\n",
        "    # Attributes for network nodes.\n",
        "    if graphviz is None:\n",
        "        print(\"This display is not available due to a missing optional dependency (graphviz)\")\n",
        "        return\n",
        "\n",
        "    # If requested, use a copy of the genome which omits all components that won't affect the output.\n",
        "    if prune_unused:\n",
        "        genome = genome.get_pruned_copy(config.genome_config)\n",
        "\n",
        "    if node_names is None:\n",
        "        node_names = {}\n",
        "\n",
        "    assert type(node_names) is dict\n",
        "\n",
        "    if node_colors is None:\n",
        "        node_colors = {}\n",
        "\n",
        "    assert type(node_colors) is dict\n",
        "\n",
        "    node_attrs = {\n",
        "        'shape': 'circle',\n",
        "        'fontsize': '9',\n",
        "        'height': '0.2',\n",
        "        'width': '0.2'}\n",
        "\n",
        "    dot = graphviz.Digraph(format=fmt, node_attr=node_attrs)\n",
        "\n",
        "    inputs = set()\n",
        "    for k in config.genome_config.input_keys:\n",
        "        inputs.add(k)\n",
        "        name = node_names.get(k, str(k))\n",
        "        input_attrs = {'style': 'filled', 'shape': 'box', 'fillcolor': node_colors.get(k, 'lightgray')}\n",
        "        dot.node(name, _attributes=input_attrs)\n",
        "\n",
        "    outputs = set()\n",
        "    for k in config.genome_config.output_keys:\n",
        "        outputs.add(k)\n",
        "        name = node_names.get(k, str(k))\n",
        "        node_attrs = {'style': 'filled', 'fillcolor': node_colors.get(k, 'lightblue')}\n",
        "\n",
        "        dot.node(name, _attributes=node_attrs)\n",
        "\n",
        "    used_nodes = set(genome.nodes.keys())\n",
        "    for n in used_nodes:\n",
        "        if n in inputs or n in outputs:\n",
        "            continue\n",
        "\n",
        "        attrs = {'style': 'filled',\n",
        "                 'fillcolor': node_colors.get(n, 'white')}\n",
        "        dot.node(str(n), _attributes=attrs)\n",
        "\n",
        "    for cg in genome.connections.values():\n",
        "        if cg.enabled or show_disabled:\n",
        "            # if cg.input not in used_nodes or cg.output not in used_nodes:\n",
        "            #    continue\n",
        "            input, output = cg.key\n",
        "            a = node_names.get(input, str(input))\n",
        "            b = node_names.get(output, str(output))\n",
        "            style = 'solid' if cg.enabled else 'dotted'\n",
        "            color = 'green' if cg.weight > 0 else 'red'\n",
        "            width = str(0.1 + abs(cg.weight / 5.0))\n",
        "            dot.edge(a, b, _attributes={'style': style, 'color': color, 'penwidth': width})\n",
        "\n",
        "    dot.render(filename, view=view)\n",
        "    dot.view()\n",
        "\n",
        "    return dot\n",
        "\n",
        "node_names = {-1: 'X1', -2: 'X2', 0: 'Output'}\n",
        "draw_net(config, genome, True, node_names=node_names)"
      ],
      "metadata": {
        "colab": {
          "base_uri": "https://localhost:8080/",
          "height": 279
        },
        "cellView": "form",
        "id": "SdbsJ1XobEDx",
        "outputId": "e83aa4a4-b4ae-4549-a65b-0b0c4647f1ff"
      },
      "execution_count": null,
      "outputs": [
        {
          "output_type": "execute_result",
          "data": {
            "text/plain": [
              "<graphviz.dot.Digraph at 0x7f9e3c9ac690>"
            ],
            "image/svg+xml": "<?xml version=\"1.0\" encoding=\"UTF-8\" standalone=\"no\"?>\n<!DOCTYPE svg PUBLIC \"-//W3C//DTD SVG 1.1//EN\"\n \"http://www.w3.org/Graphics/SVG/1.1/DTD/svg11.dtd\">\n<!-- Generated by graphviz version 2.40.1 (20161225.0304)\n -->\n<!-- Title: %3 Pages: 1 -->\n<svg width=\"511pt\" height=\"193pt\"\n viewBox=\"0.00 0.00 510.92 192.75\" xmlns=\"http://www.w3.org/2000/svg\" xmlns:xlink=\"http://www.w3.org/1999/xlink\">\n<g id=\"graph0\" class=\"graph\" transform=\"scale(1 1) rotate(0) translate(4 188.7523)\">\n<title>%3</title>\n<polygon fill=\"#ffffff\" stroke=\"transparent\" points=\"-4,4 -4,-188.7523 506.9232,-188.7523 506.9232,4 -4,4\"/>\n<!-- X1 -->\n<g id=\"node1\" class=\"node\">\n<title>X1</title>\n<polygon fill=\"#d3d3d3\" stroke=\"#000000\" points=\"239.2816,-184.7523 211.2816,-184.7523 211.2816,-166.7523 239.2816,-166.7523 239.2816,-184.7523\"/>\n<text text-anchor=\"middle\" x=\"225.2816\" y=\"-173.5523\" font-family=\"Times,serif\" font-size=\"9.00\" fill=\"#000000\">X1</text>\n</g>\n<!-- Output -->\n<g id=\"node3\" class=\"node\">\n<title>Output</title>\n<ellipse fill=\"#add8e6\" stroke=\"#000000\" cx=\"249.2816\" cy=\"-28.9914\" rx=\"28.9828\" ry=\"28.9828\"/>\n<text text-anchor=\"middle\" x=\"249.2816\" y=\"-26.7914\" font-family=\"Times,serif\" font-size=\"9.00\" fill=\"#000000\">Output</text>\n</g>\n<!-- X1&#45;&gt;Output -->\n<g id=\"edge31\" class=\"edge\">\n<title>X1&#45;&gt;Output</title>\n<path fill=\"none\" stroke=\"#ff0000\" stroke-width=\".231\" d=\"M211.2534,-175.5312C155.5315,-174.1649 -44.5701,-164.357 9.2816,-93.9828 33.5842,-62.2238 148.4256,-42.3924 210.0198,-33.8593\"/>\n<polygon fill=\"#ff0000\" stroke=\"#ff0000\" stroke-width=\".231\" points=\"210.7057,-37.2985 220.1473,-32.4917 209.7688,-30.3615 210.7057,-37.2985\"/>\n</g>\n<!-- 1 -->\n<g id=\"node4\" class=\"node\">\n<title>1</title>\n<ellipse fill=\"#ffffff\" stroke=\"#000000\" cx=\"423.2816\" cy=\"-112.3675\" rx=\"14.7\" ry=\"14.7\"/>\n<text text-anchor=\"middle\" x=\"423.2816\" y=\"-110.1675\" font-family=\"Times,serif\" font-size=\"9.00\" fill=\"#000000\">1</text>\n</g>\n<!-- X1&#45;&gt;1 -->\n<g id=\"edge1\" class=\"edge\">\n<title>X1&#45;&gt;1</title>\n<path fill=\"none\" stroke=\"#00ff00\" stroke-width=\".1488\" d=\"M239.4709,-170.3426C242.9798,-169.0886 246.7467,-167.8122 250.2816,-166.7523 315.539,-147.1854 337.7999,-160.1015 399.2816,-130.7523 400.8447,-130.0061 402.4037,-129.1468 403.9335,-128.216\"/>\n<polygon fill=\"#00ff00\" stroke=\"#00ff00\" stroke-width=\".1488\" points=\"406.0434,-131.011 412.2041,-122.3915 402.0128,-125.2878 406.0434,-131.011\"/>\n</g>\n<!-- 2 -->\n<g id=\"node5\" class=\"node\">\n<title>2</title>\n<ellipse fill=\"#ffffff\" stroke=\"#000000\" cx=\"471.2816\" cy=\"-112.3675\" rx=\"14.7\" ry=\"14.7\"/>\n<text text-anchor=\"middle\" x=\"471.2816\" y=\"-110.1675\" font-family=\"Times,serif\" font-size=\"9.00\" fill=\"#000000\">2</text>\n</g>\n<!-- X1&#45;&gt;2 -->\n<g id=\"edge2\" class=\"edge\">\n<title>X1&#45;&gt;2</title>\n<path fill=\"none\" stroke=\"#00ff00\" stroke-width=\".2993\" d=\"M239.4306,-170.2009C242.9407,-168.9512 246.7183,-167.7123 250.2816,-166.7523 336.2231,-143.5998 365.911,-166.8187 447.2816,-130.7523 448.8651,-130.0504 450.4392,-129.224 451.9799,-128.3169\"/>\n<polygon fill=\"#00ff00\" stroke=\"#00ff00\" stroke-width=\".2993\" points=\"454.0666,-131.1288 460.2737,-122.5425 450.0669,-125.384 454.0666,-131.1288\"/>\n</g>\n<!-- 3 -->\n<g id=\"node6\" class=\"node\">\n<title>3</title>\n<ellipse fill=\"#ffffff\" stroke=\"#000000\" cx=\"33.2816\" cy=\"-112.3675\" rx=\"14.7\" ry=\"14.7\"/>\n<text text-anchor=\"middle\" x=\"33.2816\" y=\"-110.1675\" font-family=\"Times,serif\" font-size=\"9.00\" fill=\"#000000\">3</text>\n</g>\n<!-- X1&#45;&gt;3 -->\n<g id=\"edge3\" class=\"edge\">\n<title>X1&#45;&gt;3</title>\n<path fill=\"none\" stroke=\"#ff0000\" stroke-width=\".3676\" d=\"M211.1274,-173.8719C181.3638,-169.5161 110.643,-157.0373 57.2816,-130.7523 55.7278,-129.9869 54.1758,-129.1134 52.651,-128.1723\"/>\n<polygon fill=\"#ff0000\" stroke=\"#ff0000\" stroke-width=\".3676\" points=\"54.5753,-125.2463 44.3909,-122.326 50.5313,-130.96 54.5753,-125.2463\"/>\n</g>\n<!-- 4 -->\n<g id=\"node7\" class=\"node\">\n<title>4</title>\n<ellipse fill=\"#ffffff\" stroke=\"#000000\" cx=\"81.2816\" cy=\"-112.3675\" rx=\"14.7\" ry=\"14.7\"/>\n<text text-anchor=\"middle\" x=\"81.2816\" y=\"-110.1675\" font-family=\"Times,serif\" font-size=\"9.00\" fill=\"#000000\">4</text>\n</g>\n<!-- X1&#45;&gt;4 -->\n<g id=\"edge4\" class=\"edge\">\n<title>X1&#45;&gt;4</title>\n<path fill=\"none\" stroke=\"#00ff00\" stroke-width=\".2279\" d=\"M211.0178,-171.8938C187.9182,-165.3237 141.2816,-150.7112 105.2816,-130.7523 103.7668,-129.9125 102.2437,-128.9836 100.7397,-128.0027\"/>\n<polygon fill=\"#00ff00\" stroke=\"#00ff00\" stroke-width=\".2279\" points=\"102.6805,-125.0871 92.5237,-122.0721 98.5835,-130.7629 102.6805,-125.0871\"/>\n</g>\n<!-- 5 -->\n<g id=\"node8\" class=\"node\">\n<title>5</title>\n<ellipse fill=\"#ffffff\" stroke=\"#000000\" cx=\"129.2816\" cy=\"-112.3675\" rx=\"14.7\" ry=\"14.7\"/>\n<text text-anchor=\"middle\" x=\"129.2816\" y=\"-110.1675\" font-family=\"Times,serif\" font-size=\"9.00\" fill=\"#000000\">5</text>\n</g>\n<!-- X1&#45;&gt;5 -->\n<g id=\"edge5\" class=\"edge\">\n<title>X1&#45;&gt;5</title>\n<path fill=\"none\" stroke=\"#ff0000\" stroke-width=\".2343\" d=\"M211.2262,-167.509C196.5267,-158.7633 172.9073,-144.3566 153.2816,-130.7523 152.0415,-129.8926 150.7771,-128.9942 149.5098,-128.0765\"/>\n<polygon fill=\"#ff0000\" stroke=\"#ff0000\" stroke-width=\".2343\" points=\"151.4274,-125.14 141.3246,-121.9487 147.2322,-130.7436 151.4274,-125.14\"/>\n</g>\n<!-- 6 -->\n<g id=\"node9\" class=\"node\">\n<title>6</title>\n<ellipse fill=\"#ffffff\" stroke=\"#000000\" cx=\"177.2816\" cy=\"-112.3675\" rx=\"14.7\" ry=\"14.7\"/>\n<text text-anchor=\"middle\" x=\"177.2816\" y=\"-110.1675\" font-family=\"Times,serif\" font-size=\"9.00\" fill=\"#000000\">6</text>\n</g>\n<!-- X1&#45;&gt;6 -->\n<g id=\"edge6\" class=\"edge\">\n<title>X1&#45;&gt;6</title>\n<path fill=\"none\" stroke=\"#00ff00\" stroke-width=\".2384\" d=\"M218.4044,-166.6708C211.7115,-157.8327 201.3115,-144.0994 192.6452,-132.6554\"/>\n<polygon fill=\"#00ff00\" stroke=\"#00ff00\" stroke-width=\".2384\" points=\"195.2734,-130.3284 186.4461,-124.4693 189.6929,-134.5544 195.2734,-130.3284\"/>\n</g>\n<!-- 7 -->\n<g id=\"node10\" class=\"node\">\n<title>7</title>\n<ellipse fill=\"#ffffff\" stroke=\"#000000\" cx=\"225.2816\" cy=\"-112.3675\" rx=\"14.7\" ry=\"14.7\"/>\n<text text-anchor=\"middle\" x=\"225.2816\" y=\"-110.1675\" font-family=\"Times,serif\" font-size=\"9.00\" fill=\"#000000\">7</text>\n</g>\n<!-- X1&#45;&gt;7 -->\n<g id=\"edge7\" class=\"edge\">\n<title>X1&#45;&gt;7</title>\n<path fill=\"none\" stroke=\"#00ff00\" stroke-width=\".2214\" d=\"M225.2816,-166.6708C225.2816,-159.049 225.2816,-147.7866 225.2816,-137.4914\"/>\n<polygon fill=\"#00ff00\" stroke=\"#00ff00\" stroke-width=\".2214\" points=\"228.7817,-137.306 225.2816,-127.3061 221.7817,-137.3061 228.7817,-137.306\"/>\n</g>\n<!-- 8 -->\n<g id=\"node11\" class=\"node\">\n<title>8</title>\n<ellipse fill=\"#ffffff\" stroke=\"#000000\" cx=\"273.2816\" cy=\"-112.3675\" rx=\"14.7\" ry=\"14.7\"/>\n<text text-anchor=\"middle\" x=\"273.2816\" y=\"-110.1675\" font-family=\"Times,serif\" font-size=\"9.00\" fill=\"#000000\">8</text>\n</g>\n<!-- X1&#45;&gt;8 -->\n<g id=\"edge8\" class=\"edge\">\n<title>X1&#45;&gt;8</title>\n<path fill=\"none\" stroke=\"#00ff00\" stroke-width=\".2127\" d=\"M232.1589,-166.6708C238.8518,-157.8327 249.2517,-144.0994 257.9181,-132.6554\"/>\n<polygon fill=\"#00ff00\" stroke=\"#00ff00\" stroke-width=\".2127\" points=\"260.8703,-134.5544 264.1172,-124.4693 255.2899,-130.3284 260.8703,-134.5544\"/>\n</g>\n<!-- 9 -->\n<g id=\"node12\" class=\"node\">\n<title>9</title>\n<ellipse fill=\"#ffffff\" stroke=\"#000000\" cx=\"321.2816\" cy=\"-112.3675\" rx=\"14.7\" ry=\"14.7\"/>\n<text text-anchor=\"middle\" x=\"321.2816\" y=\"-110.1675\" font-family=\"Times,serif\" font-size=\"9.00\" fill=\"#000000\">9</text>\n</g>\n<!-- X1&#45;&gt;9 -->\n<g id=\"edge9\" class=\"edge\">\n<title>X1&#45;&gt;9</title>\n<path fill=\"none\" stroke=\"#ff0000\" stroke-width=\".1934\" d=\"M239.3371,-167.509C254.0365,-158.7633 277.656,-144.3566 297.2816,-130.7523 298.5218,-129.8926 299.7861,-128.9942 301.0535,-128.0765\"/>\n<polygon fill=\"#ff0000\" stroke=\"#ff0000\" stroke-width=\".1934\" points=\"303.331,-130.7436 309.2387,-121.9487 299.1359,-125.14 303.331,-130.7436\"/>\n</g>\n<!-- 10 -->\n<g id=\"node13\" class=\"node\">\n<title>10</title>\n<ellipse fill=\"#ffffff\" stroke=\"#000000\" cx=\"372.2816\" cy=\"-112.3675\" rx=\"18.2703\" ry=\"18.2703\"/>\n<text text-anchor=\"middle\" x=\"372.2816\" y=\"-110.1675\" font-family=\"Times,serif\" font-size=\"9.00\" fill=\"#000000\">10</text>\n</g>\n<!-- X1&#45;&gt;10 -->\n<g id=\"edge10\" class=\"edge\">\n<title>X1&#45;&gt;10</title>\n<path fill=\"none\" stroke=\"#ff0000\" stroke-width=\".5471\" d=\"M239.4638,-170.65C269.0664,-159.9685 335.5038,-135.8215 345.2816,-130.7523 346.4144,-130.165 347.5567,-129.539 348.6979,-128.8855\"/>\n<polygon fill=\"#ff0000\" stroke=\"#ff0000\" stroke-width=\".5471\" points=\"350.6369,-131.8009 357.255,-123.5274 346.9219,-125.868 350.6369,-131.8009\"/>\n</g>\n<!-- X2 -->\n<g id=\"node2\" class=\"node\">\n<title>X2</title>\n<polygon fill=\"#d3d3d3\" stroke=\"#000000\" points=\"287.2816,-184.7523 259.2816,-184.7523 259.2816,-166.7523 287.2816,-166.7523 287.2816,-184.7523\"/>\n<text text-anchor=\"middle\" x=\"273.2816\" y=\"-173.5523\" font-family=\"Times,serif\" font-size=\"9.00\" fill=\"#000000\">X2</text>\n</g>\n<!-- X2&#45;&gt;Output -->\n<g id=\"edge32\" class=\"edge\">\n<title>X2&#45;&gt;Output</title>\n<path fill=\"none\" stroke=\"#ff0000\" stroke-width=\".3098\" d=\"M287.4087,-175.1305C332.051,-172.842 468.709,-163.2517 495.2816,-130.7523 505.6259,-118.1009 505.2528,-106.9303 495.2816,-93.9828 470.1333,-61.3275 350.932,-41.746 288.1607,-33.53\"/>\n<polygon fill=\"#ff0000\" stroke=\"#ff0000\" stroke-width=\".3098\" points=\"288.5903,-30.0565 278.2279,-32.2632 287.7047,-37.0003 288.5903,-30.0565\"/>\n</g>\n<!-- X2&#45;&gt;1 -->\n<g id=\"edge11\" class=\"edge\">\n<title>X2&#45;&gt;1</title>\n<path fill=\"none\" stroke=\"#00ff00\" stroke-width=\".1129\" d=\"M287.4927,-172.2321C311.4828,-165.9556 361.128,-151.5142 399.2816,-130.7523 400.803,-129.9244 402.331,-129.0045 403.8386,-128.03\"/>\n<polygon fill=\"#00ff00\" stroke=\"#00ff00\" stroke-width=\".1129\" points=\"405.989,-130.7945 412.062,-122.1129 401.9006,-125.1125 405.989,-130.7945\"/>\n</g>\n<!-- X2&#45;&gt;2 -->\n<g id=\"edge12\" class=\"edge\">\n<title>X2&#45;&gt;2</title>\n<path fill=\"none\" stroke=\"#ff0000\" stroke-width=\".1688\" d=\"M287.4766,-174.0364C318.0278,-169.9332 391.7428,-157.8125 447.2816,-130.7523 448.8387,-129.9937 450.3932,-129.1251 451.9198,-128.1876\"/>\n<polygon fill=\"#ff0000\" stroke=\"#ff0000\" stroke-width=\".1688\" points=\"454.036,-130.9779 460.1836,-122.3489 449.9968,-125.2608 454.036,-130.9779\"/>\n</g>\n<!-- X2&#45;&gt;3 -->\n<g id=\"edge13\" class=\"edge\">\n<title>X2&#45;&gt;3</title>\n<path fill=\"none\" stroke=\"#00ff00\" stroke-width=\".2081\" d=\"M259.1289,-170.2149C255.6189,-168.9647 251.8423,-167.7221 248.2816,-166.7523 164.9345,-144.0505 136.1579,-165.9753 57.2816,-130.7523 55.7001,-130.0461 54.1275,-129.2164 52.5878,-128.3069\"/>\n<polygon fill=\"#00ff00\" stroke=\"#00ff00\" stroke-width=\".2081\" points=\"54.5015,-125.3744 44.2963,-122.5276 50.4988,-131.1171 54.5015,-125.3744\"/>\n</g>\n<!-- X2&#45;&gt;4 -->\n<g id=\"edge14\" class=\"edge\">\n<title>X2&#45;&gt;4</title>\n<path fill=\"none\" stroke=\"#00ff00\" stroke-width=\".2843\" d=\"M259.0851,-170.3666C255.5765,-169.1118 251.8114,-167.8291 248.2816,-166.7523 185.595,-147.6293 164.2913,-159.2684 105.2816,-130.7523 103.7221,-129.9987 102.1659,-129.1339 100.6379,-128.199\"/>\n<polygon fill=\"#00ff00\" stroke=\"#00ff00\" stroke-width=\".2843\" points=\"102.56,-125.2717 92.3713,-122.3661 98.5242,-130.9912 102.56,-125.2717\"/>\n</g>\n<!-- X2&#45;&gt;5 -->\n<g id=\"edge15\" class=\"edge\">\n<title>X2&#45;&gt;5</title>\n<path fill=\"none\" stroke=\"#00ff00\" stroke-width=\".1594\" d=\"M259.2657,-170.6216C228.6522,-159.3981 158.1465,-133.4495 153.2816,-130.7523 151.7668,-129.9125 150.2437,-128.9836 148.7397,-128.0027\"/>\n<polygon fill=\"#00ff00\" stroke=\"#00ff00\" stroke-width=\".1594\" points=\"150.6805,-125.0871 140.5237,-122.0721 146.5835,-130.7629 150.6805,-125.0871\"/>\n</g>\n<!-- X2&#45;&gt;6 -->\n<g id=\"edge16\" class=\"edge\">\n<title>X2&#45;&gt;6</title>\n<path fill=\"none\" stroke=\"#ff0000\" stroke-width=\".2703\" d=\"M259.2262,-167.509C244.5267,-158.7633 220.9073,-144.3566 201.2816,-130.7523 200.0415,-129.8926 198.7771,-128.9942 197.5098,-128.0765\"/>\n<polygon fill=\"#ff0000\" stroke=\"#ff0000\" stroke-width=\".2703\" points=\"199.4274,-125.14 189.3246,-121.9487 195.2322,-130.7436 199.4274,-125.14\"/>\n</g>\n<!-- X2&#45;&gt;7 -->\n<g id=\"edge17\" class=\"edge\">\n<title>X2&#45;&gt;7</title>\n<path fill=\"none\" stroke=\"#ff0000\" stroke-width=\".2704\" d=\"M266.4044,-166.6708C259.7115,-157.8327 249.3115,-144.0994 240.6452,-132.6554\"/>\n<polygon fill=\"#ff0000\" stroke=\"#ff0000\" stroke-width=\".2704\" points=\"243.2734,-130.3284 234.4461,-124.4693 237.6929,-134.5544 243.2734,-130.3284\"/>\n</g>\n<!-- X2&#45;&gt;8 -->\n<g id=\"edge18\" class=\"edge\">\n<title>X2&#45;&gt;8</title>\n<path fill=\"none\" stroke=\"#00ff00\" stroke-width=\".2344\" d=\"M273.2816,-166.6708C273.2816,-159.049 273.2816,-147.7866 273.2816,-137.4914\"/>\n<polygon fill=\"#00ff00\" stroke=\"#00ff00\" stroke-width=\".2344\" points=\"276.7817,-137.306 273.2816,-127.3061 269.7817,-137.3061 276.7817,-137.306\"/>\n</g>\n<!-- X2&#45;&gt;9 -->\n<g id=\"edge19\" class=\"edge\">\n<title>X2&#45;&gt;9</title>\n<path fill=\"none\" stroke=\"#00ff00\" stroke-width=\".2031\" d=\"M280.1589,-166.6708C286.8518,-157.8327 297.2517,-144.0994 305.9181,-132.6554\"/>\n<polygon fill=\"#00ff00\" stroke=\"#00ff00\" stroke-width=\".2031\" points=\"308.8703,-134.5544 312.1172,-124.4693 303.2899,-130.3284 308.8703,-134.5544\"/>\n</g>\n<!-- X2&#45;&gt;10 -->\n<g id=\"edge20\" class=\"edge\">\n<title>X2&#45;&gt;10</title>\n<path fill=\"none\" stroke=\"#00ff00\" stroke-width=\".1704\" d=\"M287.4574,-167.1191C302.0533,-158.1772 325.407,-143.7225 345.2816,-130.7523 346.3502,-130.055 347.4395,-129.3382 348.5376,-128.6108\"/>\n<polygon fill=\"#00ff00\" stroke=\"#00ff00\" stroke-width=\".1704\" points=\"350.5818,-131.454 356.9312,-122.9725 346.6785,-125.6433 350.5818,-131.454\"/>\n</g>\n<!-- 1&#45;&gt;Output -->\n<g id=\"edge21\" class=\"edge\">\n<title>1&#45;&gt;Output</title>\n<path fill=\"none\" stroke=\"#00ff00\" stroke-width=\".5366\" d=\"M411.4784,-102.4114C407.7154,-99.4916 403.4448,-96.4292 399.2816,-93.9828 362.6297,-72.4451 317.5152,-53.8611 286.3893,-42.1479\"/>\n<polygon fill=\"#00ff00\" stroke=\"#00ff00\" stroke-width=\".5366\" points=\"287.3965,-38.7885 276.8035,-38.5913 284.9614,-45.3513 287.3965,-38.7885\"/>\n</g>\n<!-- 2&#45;&gt;Output -->\n<g id=\"edge22\" class=\"edge\">\n<title>2&#45;&gt;Output</title>\n<path fill=\"none\" stroke=\"#00ff00\" stroke-width=\".3563\" d=\"M460.098,-102.5549C456.2275,-99.5068 451.7383,-96.3337 447.2816,-93.9828 394.9192,-66.3605 328.6001,-47.4968 287.5598,-37.4804\"/>\n<polygon fill=\"#00ff00\" stroke=\"#00ff00\" stroke-width=\".3563\" points=\"288.2338,-34.043 277.6943,-35.1246 286.6078,-40.8516 288.2338,-34.043\"/>\n</g>\n<!-- 3&#45;&gt;Output -->\n<g id=\"edge23\" class=\"edge\">\n<title>3&#45;&gt;Output</title>\n<path fill=\"none\" stroke=\"#00ff00\" stroke-width=\".1211\" d=\"M44.478,-102.5789C48.3494,-99.5325 52.8359,-96.3543 57.2816,-93.9828 107.5531,-67.1662 171.0344,-48.2739 210.9084,-38.0088\"/>\n<polygon fill=\"#00ff00\" stroke=\"#00ff00\" stroke-width=\".1211\" points=\"211.9196,-41.3635 220.7604,-35.5247 210.2082,-34.5759 211.9196,-41.3635\"/>\n</g>\n<!-- 4&#45;&gt;Output -->\n<g id=\"edge24\" class=\"edge\">\n<title>4&#45;&gt;Output</title>\n<path fill=\"none\" stroke=\"#ff0000\" stroke-width=\".4236\" d=\"M93.1078,-102.45C96.8717,-99.5318 101.137,-96.4605 105.2816,-93.9828 140.0752,-73.1822 182.6893,-54.7374 212.4977,-42.861\"/>\n<polygon fill=\"#ff0000\" stroke=\"#ff0000\" stroke-width=\".4236\" points=\"214.06,-46.0076 222.0858,-39.0913 211.4986,-39.4931 214.06,-46.0076\"/>\n</g>\n<!-- 5&#45;&gt;Output -->\n<g id=\"edge25\" class=\"edge\">\n<title>5&#45;&gt;Output</title>\n<path fill=\"none\" stroke=\"#ff0000\" stroke-width=\".3081\" d=\"M141.3872,-102.875C145.1625,-99.9741 149.364,-96.8057 153.2816,-93.9828 174.0037,-79.051 197.7716,-62.9525 216.4735,-50.5133\"/>\n<polygon fill=\"#ff0000\" stroke=\"#ff0000\" stroke-width=\".3081\" points=\"218.544,-53.34 224.9456,-44.8978 214.6766,-47.5053 218.544,-53.34\"/>\n</g>\n<!-- 6&#45;&gt;Output -->\n<g id=\"edge26\" class=\"edge\">\n<title>6&#45;&gt;Output</title>\n<path fill=\"none\" stroke=\"#00ff00\" stroke-width=\".1194\" d=\"M186.9919,-101.1231C196.3193,-90.3218 210.824,-73.5254 223.4906,-58.8575\"/>\n<polygon fill=\"#00ff00\" stroke=\"#00ff00\" stroke-width=\".1194\" points=\"226.407,-60.8354 230.2939,-50.9793 221.109,-56.2603 226.407,-60.8354\"/>\n</g>\n<!-- 7&#45;&gt;Output -->\n<g id=\"edge27\" class=\"edge\">\n<title>7&#45;&gt;Output</title>\n<path fill=\"none\" stroke=\"#ff0000\" stroke-width=\".1351\" d=\"M229.4621,-97.8445C231.9299,-89.2715 235.1791,-77.9837 238.331,-67.0339\"/>\n<polygon fill=\"#ff0000\" stroke=\"#ff0000\" stroke-width=\".1351\" points=\"241.7702,-67.7386 241.1731,-57.1606 235.0434,-65.8022 241.7702,-67.7386\"/>\n</g>\n<!-- 8&#45;&gt;Output -->\n<g id=\"edge28\" class=\"edge\">\n<title>8&#45;&gt;Output</title>\n<path fill=\"none\" stroke=\"#00ff00\" stroke-width=\".2562\" d=\"M269.1012,-97.8445C266.6334,-89.2715 263.3842,-77.9837 260.2323,-67.0339\"/>\n<polygon fill=\"#00ff00\" stroke=\"#00ff00\" stroke-width=\".2562\" points=\"263.5199,-65.8022 257.3902,-57.1606 256.793,-67.7386 263.5199,-65.8022\"/>\n</g>\n<!-- 9&#45;&gt;Output -->\n<g id=\"edge29\" class=\"edge\">\n<title>9&#45;&gt;Output</title>\n<path fill=\"none\" stroke=\"#ff0000\" stroke-width=\".1777\" d=\"M311.5714,-101.1231C302.2439,-90.3218 287.7393,-73.5254 275.0727,-58.8575\"/>\n<polygon fill=\"#ff0000\" stroke=\"#ff0000\" stroke-width=\".1777\" points=\"277.4543,-56.2603 268.2694,-50.9793 272.1563,-60.8354 277.4543,-56.2603\"/>\n</g>\n<!-- 10&#45;&gt;Output -->\n<g id=\"edge30\" class=\"edge\">\n<title>10&#45;&gt;Output</title>\n<path fill=\"none\" stroke=\"#00ff00\" stroke-width=\".5933\" d=\"M356.8661,-101.8604C353.0793,-99.2822 349.0351,-96.5312 345.2816,-93.9828 324.1505,-79.6357 300.3791,-63.5423 281.7777,-50.9594\"/>\n<polygon fill=\"#00ff00\" stroke=\"#00ff00\" stroke-width=\".5933\" points=\"283.6042,-47.9694 273.36,-45.2662 279.6825,-53.7677 283.6042,-47.9694\"/>\n</g>\n</g>\n</svg>\n"
          },
          "metadata": {},
          "execution_count": 8
        }
      ]
    },
    {
      "cell_type": "code",
      "source": [
        "def eval_genomes(genomes, config):\n",
        "  for genome_id, genome in genomes:\n",
        "    genome.fitness = 4.0    \n",
        "    net = neat.nn.FeedForwardNetwork.create(genome, config)\n",
        "    for x, y in zip(X,Y):               \n",
        "      output = net.activate(x)[0]           \n",
        "      genome.fitness -= (output-y)**2      "
      ],
      "metadata": {
        "id": "xP2r1cae_NrH"
      },
      "execution_count": null,
      "outputs": []
    },
    {
      "cell_type": "code",
      "source": [
        "#@title Helper function to show prediction results\n",
        "def show_predictions(net, X, Y, name=\"\"):\n",
        "    \"\"\" display the labeled data X and a surface of prediction of model \"\"\"\n",
        "    x_min, x_max = X[:, 0].min() - 1, X[:, 0].max() + 1\n",
        "    y_min, y_max = X[:, 1].min() - 1, X[:, 1].max() + 1\n",
        "    xx, yy = np.meshgrid(np.arange(x_min, x_max, 0.01), np.arange(y_min, y_max, 0.01))\n",
        "    X_temp = np.c_[xx.flatten(), yy.flatten()]\n",
        "    Z = []\n",
        "    print(X_temp.shape)\n",
        "    for x in X_temp:\n",
        "      Z.append(net.activate(x))\n",
        "    Z = np.array(Z)\n",
        "    plt.figure(\"Predictions \" + name)\n",
        "    plt.contourf(xx, yy, Z.reshape(xx.shape), cmap=plt.cm.Spectral)\n",
        "    plt.ylabel('x2')\n",
        "    plt.xlabel('x1')\n",
        "    plt.scatter(X[:, 0], X[:, 1],c=Y, s=40, cmap=plt.cm.Spectral)\n",
        "    plt.show()\n",
        "\n",
        "show_predictions(net, X, Y)"
      ],
      "metadata": {
        "id": "EZdg6UAiDJxb",
        "colab": {
          "base_uri": "https://localhost:8080/",
          "height": 296
        },
        "outputId": "bdcbcb10-c7cf-4fa8-da33-51c5f5e1da1e",
        "cellView": "form"
      },
      "execution_count": null,
      "outputs": [
        {
          "output_type": "stream",
          "name": "stdout",
          "text": [
            "(148971, 2)\n"
          ]
        },
        {
          "output_type": "display_data",
          "data": {
            "text/plain": [
              "<Figure size 432x288 with 1 Axes>"
            ],
            "image/png": "[encoded data removed]"
          },
          "metadata": {
            "needs_background": "light"
          }
        }
      ]
    },
    {
      "cell_type": "code",
      "source": [
        "#@title Reporter Class\n",
        "from neat.math_util import mean, stdev\n",
        "\n",
        "class CustomReporter(neat.reporting.BaseReporter):\n",
        "  \"\"\"Uses `print` to output information about the run; an example reporter class.\"\"\"\n",
        "\n",
        "  def __init__(self, show_species_detail, gen_display=100):\n",
        "      self.show_species_detail = show_species_detail\n",
        "      self.generation = None\n",
        "      self.generation_start_time = None\n",
        "      self.generation_times = []\n",
        "      self.num_extinctions = 0\n",
        "      self.gen_display = gen_display\n",
        "\n",
        "  def start_generation(self, generation):\n",
        "      clear_output()\n",
        "      self.generation = generation\n",
        "      print('\\n ****** Running generation {0} ****** \\n'.format(generation))\n",
        "      self.generation_start_time = time.time()\n",
        "\n",
        "  def end_generation(self, config, population, species_set):\n",
        "      ng = len(population)\n",
        "      ns = len(species_set.species)      \n",
        "      if self.show_species_detail:\n",
        "          print('Population of {0:d} members in {1:d} species:'.format(ng, ns))\n",
        "          print(\"   ID   age  size   fitness   adj fit  stag\")\n",
        "          print(\"  ====  ===  ====  =========  =======  ====\")\n",
        "          for sid in sorted(species_set.species):\n",
        "              s = species_set.species[sid]\n",
        "              a = self.generation - s.created\n",
        "              n = len(s.members)\n",
        "              f = \"--\" if s.fitness is None else f\"{s.fitness:.3f}\"\n",
        "              af = \"--\" if s.adjusted_fitness is None else f\"{s.adjusted_fitness:.3f}\"\n",
        "              st = self.generation - s.last_improved\n",
        "              print(f\"  {sid:>4}  {a:>3}  {n:>4}  {f:>9}  {af:>7}  {st:>4}\")\n",
        "      else:\n",
        "          print('Population of {0:d} members in {1:d} species'.format(ng, ns))\n",
        "\n",
        "      elapsed = time.time() - self.generation_start_time\n",
        "      self.generation_times.append(elapsed)\n",
        "      self.generation_times = self.generation_times[-10:]\n",
        "      average = sum(self.generation_times) / len(self.generation_times)\n",
        "      print('Total extinctions: {0:d}'.format(self.num_extinctions))\n",
        "      if len(self.generation_times) > 1:\n",
        "          print(\"Generation time: {0:.3f} sec ({1:.3f} average)\".format(elapsed, average))\n",
        "      else:\n",
        "          print(\"Generation time: {0:.3f} sec\".format(elapsed))\n",
        "\n",
        "  def post_evaluate(self, config, population, species, best_genome):\n",
        "      # pylint: disable=no-self-use\n",
        "      fitnesses = [c.fitness for c in population.values()]\n",
        "      fit_mean = mean(fitnesses)\n",
        "      fit_std = stdev(fitnesses)\n",
        "      best_species_id = species.get_species_id(best_genome.key)\n",
        "      print('Population\\'s average fitness: {0:3.5f} stdev: {1:3.5f}'.format(fit_mean, fit_std))\n",
        "      print(\n",
        "          'Best fitness: {0:3.5f} - size: {1!r} - species {2} - id {3}'.format(best_genome.fitness,\n",
        "                                                                                best_genome.size(),\n",
        "                                                                                best_species_id,\n",
        "                                                                                best_genome.key))\n",
        "      if (self.generation) % self.gen_display == 0 :        \n",
        "        net = neat.nn.FeedForwardNetwork.create(best_genome, config)      \n",
        "        show_predictions(net, X, Y)     \n",
        "        time.sleep(5) \n",
        "      \n",
        "  def complete_extinction(self):\n",
        "      self.num_extinctions += 1\n",
        "      print('All species extinct.')\n",
        "\n",
        "  def found_solution(self, config, generation, best):\n",
        "      print('\\nBest individual in generation {0} meets fitness threshold - complexity: {1!r}'.format(\n",
        "          self.generation, best.size()))\n",
        "\n",
        "  def species_stagnant(self, sid, species):\n",
        "      if self.show_species_detail:\n",
        "          print(\"\\nSpecies {0} with {1} members is stagnated: removing it\".format(sid, len(species.members)))\n",
        "\n",
        "  def info(self, msg):\n",
        "      print(msg)"
      ],
      "metadata": {
        "id": "03p8sG4bRYbJ"
      },
      "execution_count": null,
      "outputs": []
    },
    {
      "cell_type": "code",
      "source": [
        "#@title Evolving the Network\n",
        "DISPLAY_ON_GENERATION = 100 #@param {type:\"slider\", min:1, max:100, step:1}\n",
        "# Create the population, which is the top-level object for a NEAT run.\n",
        "p = neat.Population(config)\n",
        "\n",
        "# Add a stdout reporter to show progress in the terminal.\n",
        "p.add_reporter(CustomReporter(False, gen_display=DISPLAY_ON_GENERATION))\n",
        "\n",
        "# Run until a solution is found.\n",
        "winner = p.run(eval_genomes)\n",
        "\n",
        "# Display the winning genome.\n",
        "print('\\nBest genome:\\n{!s}'.format(winner))\n",
        "\n",
        "# Show output of the most fit genome against training data.\n",
        "print('\\nOutput:')\n",
        "winner_net = neat.nn.FeedForwardNetwork.create(winner, config)\n",
        "show_predictions(winner_net, X, Y)\n",
        "draw_net(config, winner, True, node_names=node_names)"
      ],
      "metadata": {
        "colab": {
          "base_uri": "https://localhost:8080/",
          "height": 747
        },
        "id": "pYYZ4cXVX1Gu",
        "outputId": "356e406a-f169-49b0-d6bc-65c203c97ee4"
      },
      "execution_count": null,
      "outputs": [
        {
          "output_type": "stream",
          "name": "stdout",
          "text": [
            "\n",
            " ****** Running generation 1100 ****** \n",
            "\n",
            "Population's average fitness: -5.40378 stdev: 44.62928\n",
            "Best fitness: 1.77546 - size: (9, 9) - species 487 - id 246332\n",
            "(148971, 2)\n"
          ]
        },
        {
          "output_type": "display_data",
          "data": {
            "text/plain": [
              "<Figure size 432x288 with 1 Axes>"
            ],
            "image/png": "[encoded data removed]"
          },
          "metadata": {
            "needs_background": "light"
          }
        },
        {
          "output_type": "error",
          "ename": "KeyboardInterrupt",
          "evalue": "ignored",
          "traceback": [
            "\u001b[0;31m---------------------------------------------------------------------------\u001b[0m",
            "\u001b[0;31mKeyboardInterrupt\u001b[0m                         Traceback (most recent call last)",
            "\u001b[0;32m<ipython-input-15-ce34c9bb52a3>\u001b[0m in \u001b[0;36m<module>\u001b[0;34m()\u001b[0m\n\u001b[1;32m      8\u001b[0m \u001b[0;34m\u001b[0m\u001b[0m\n\u001b[1;32m      9\u001b[0m \u001b[0;31m# Run until a solution is found.\u001b[0m\u001b[0;34m\u001b[0m\u001b[0;34m\u001b[0m\u001b[0;34m\u001b[0m\u001b[0m\n\u001b[0;32m---> 10\u001b[0;31m \u001b[0mwinner\u001b[0m \u001b[0;34m=\u001b[0m \u001b[0mp\u001b[0m\u001b[0;34m.\u001b[0m\u001b[0mrun\u001b[0m\u001b[0;34m(\u001b[0m\u001b[0meval_genomes\u001b[0m\u001b[0;34m)\u001b[0m\u001b[0;34m\u001b[0m\u001b[0;34m\u001b[0m\u001b[0m\n\u001b[0m\u001b[1;32m     11\u001b[0m \u001b[0;34m\u001b[0m\u001b[0m\n\u001b[1;32m     12\u001b[0m \u001b[0;31m# Display the winning genome.\u001b[0m\u001b[0;34m\u001b[0m\u001b[0;34m\u001b[0m\u001b[0;34m\u001b[0m\u001b[0m\n",
            "\u001b[0;32m/usr/local/lib/python3.7/dist-packages/neat/population.py\u001b[0m in \u001b[0;36mrun\u001b[0;34m(self, fitness_function, n)\u001b[0m\n\u001b[1;32m     95\u001b[0m                 \u001b[0;32mif\u001b[0m \u001b[0mbest\u001b[0m \u001b[0;32mis\u001b[0m \u001b[0;32mNone\u001b[0m \u001b[0;32mor\u001b[0m \u001b[0mg\u001b[0m\u001b[0;34m.\u001b[0m\u001b[0mfitness\u001b[0m \u001b[0;34m>\u001b[0m \u001b[0mbest\u001b[0m\u001b[0;34m.\u001b[0m\u001b[0mfitness\u001b[0m\u001b[0;34m:\u001b[0m\u001b[0;34m\u001b[0m\u001b[0;34m\u001b[0m\u001b[0m\n\u001b[1;32m     96\u001b[0m                     \u001b[0mbest\u001b[0m \u001b[0;34m=\u001b[0m \u001b[0mg\u001b[0m\u001b[0;34m\u001b[0m\u001b[0;34m\u001b[0m\u001b[0m\n\u001b[0;32m---> 97\u001b[0;31m             \u001b[0mself\u001b[0m\u001b[0;34m.\u001b[0m\u001b[0mreporters\u001b[0m\u001b[0;34m.\u001b[0m\u001b[0mpost_evaluate\u001b[0m\u001b[0;34m(\u001b[0m\u001b[0mself\u001b[0m\u001b[0;34m.\u001b[0m\u001b[0mconfig\u001b[0m\u001b[0;34m,\u001b[0m \u001b[0mself\u001b[0m\u001b[0;34m.\u001b[0m\u001b[0mpopulation\u001b[0m\u001b[0;34m,\u001b[0m \u001b[0mself\u001b[0m\u001b[0;34m.\u001b[0m\u001b[0mspecies\u001b[0m\u001b[0;34m,\u001b[0m \u001b[0mbest\u001b[0m\u001b[0;34m)\u001b[0m\u001b[0;34m\u001b[0m\u001b[0;34m\u001b[0m\u001b[0m\n\u001b[0m\u001b[1;32m     98\u001b[0m \u001b[0;34m\u001b[0m\u001b[0m\n\u001b[1;32m     99\u001b[0m             \u001b[0;31m# Track the best genome ever seen.\u001b[0m\u001b[0;34m\u001b[0m\u001b[0;34m\u001b[0m\u001b[0;34m\u001b[0m\u001b[0m\n",
            "\u001b[0;32m/usr/local/lib/python3.7/dist-packages/neat/reporting.py\u001b[0m in \u001b[0;36mpost_evaluate\u001b[0;34m(self, config, population, species, best_genome)\u001b[0m\n\u001b[1;32m     34\u001b[0m     \u001b[0;32mdef\u001b[0m \u001b[0mpost_evaluate\u001b[0m\u001b[0;34m(\u001b[0m\u001b[0mself\u001b[0m\u001b[0;34m,\u001b[0m \u001b[0mconfig\u001b[0m\u001b[0;34m,\u001b[0m \u001b[0mpopulation\u001b[0m\u001b[0;34m,\u001b[0m \u001b[0mspecies\u001b[0m\u001b[0;34m,\u001b[0m \u001b[0mbest_genome\u001b[0m\u001b[0;34m)\u001b[0m\u001b[0;34m:\u001b[0m\u001b[0;34m\u001b[0m\u001b[0;34m\u001b[0m\u001b[0m\n\u001b[1;32m     35\u001b[0m         \u001b[0;32mfor\u001b[0m \u001b[0mr\u001b[0m \u001b[0;32min\u001b[0m \u001b[0mself\u001b[0m\u001b[0;34m.\u001b[0m\u001b[0mreporters\u001b[0m\u001b[0;34m:\u001b[0m\u001b[0;34m\u001b[0m\u001b[0;34m\u001b[0m\u001b[0m\n\u001b[0;32m---> 36\u001b[0;31m             \u001b[0mr\u001b[0m\u001b[0;34m.\u001b[0m\u001b[0mpost_evaluate\u001b[0m\u001b[0;34m(\u001b[0m\u001b[0mconfig\u001b[0m\u001b[0;34m,\u001b[0m \u001b[0mpopulation\u001b[0m\u001b[0;34m,\u001b[0m \u001b[0mspecies\u001b[0m\u001b[0;34m,\u001b[0m \u001b[0mbest_genome\u001b[0m\u001b[0;34m)\u001b[0m\u001b[0;34m\u001b[0m\u001b[0;34m\u001b[0m\u001b[0m\n\u001b[0m\u001b[1;32m     37\u001b[0m \u001b[0;34m\u001b[0m\u001b[0m\n\u001b[1;32m     38\u001b[0m     \u001b[0;32mdef\u001b[0m \u001b[0mpost_reproduction\u001b[0m\u001b[0;34m(\u001b[0m\u001b[0mself\u001b[0m\u001b[0;34m,\u001b[0m \u001b[0mconfig\u001b[0m\u001b[0;34m,\u001b[0m \u001b[0mpopulation\u001b[0m\u001b[0;34m,\u001b[0m \u001b[0mspecies\u001b[0m\u001b[0;34m)\u001b[0m\u001b[0;34m:\u001b[0m\u001b[0;34m\u001b[0m\u001b[0;34m\u001b[0m\u001b[0m\n",
            "\u001b[0;32m<ipython-input-12-7ec8df56df79>\u001b[0m in \u001b[0;36mpost_evaluate\u001b[0;34m(self, config, population, species, best_genome)\u001b[0m\n\u001b[1;32m     62\u001b[0m         \u001b[0mnet\u001b[0m \u001b[0;34m=\u001b[0m \u001b[0mneat\u001b[0m\u001b[0;34m.\u001b[0m\u001b[0mnn\u001b[0m\u001b[0;34m.\u001b[0m\u001b[0mFeedForwardNetwork\u001b[0m\u001b[0;34m.\u001b[0m\u001b[0mcreate\u001b[0m\u001b[0;34m(\u001b[0m\u001b[0mbest_genome\u001b[0m\u001b[0;34m,\u001b[0m \u001b[0mconfig\u001b[0m\u001b[0;34m)\u001b[0m\u001b[0;34m\u001b[0m\u001b[0;34m\u001b[0m\u001b[0m\n\u001b[1;32m     63\u001b[0m         \u001b[0mshow_predictions\u001b[0m\u001b[0;34m(\u001b[0m\u001b[0mnet\u001b[0m\u001b[0;34m,\u001b[0m \u001b[0mX\u001b[0m\u001b[0;34m,\u001b[0m \u001b[0mY\u001b[0m\u001b[0;34m)\u001b[0m\u001b[0;34m\u001b[0m\u001b[0;34m\u001b[0m\u001b[0m\n\u001b[0;32m---> 64\u001b[0;31m         \u001b[0mtime\u001b[0m\u001b[0;34m.\u001b[0m\u001b[0msleep\u001b[0m\u001b[0;34m(\u001b[0m\u001b[0;36m5\u001b[0m\u001b[0;34m)\u001b[0m\u001b[0;34m\u001b[0m\u001b[0;34m\u001b[0m\u001b[0m\n\u001b[0m\u001b[1;32m     65\u001b[0m \u001b[0;34m\u001b[0m\u001b[0m\n\u001b[1;32m     66\u001b[0m   \u001b[0;32mdef\u001b[0m \u001b[0mcomplete_extinction\u001b[0m\u001b[0;34m(\u001b[0m\u001b[0mself\u001b[0m\u001b[0;34m)\u001b[0m\u001b[0;34m:\u001b[0m\u001b[0;34m\u001b[0m\u001b[0;34m\u001b[0m\u001b[0m\n",
            "\u001b[0;31mKeyboardInterrupt\u001b[0m: "
          ]
        }
      ]
    },
    {
      "cell_type": "code",
      "source": [
        "draw_net(config, winner, True, node_names=node_names)"
      ],
      "metadata": {
        "id": "6wKvJfHjoOzf"
      },
      "execution_count": null,
      "outputs": []
    }
  ]
}