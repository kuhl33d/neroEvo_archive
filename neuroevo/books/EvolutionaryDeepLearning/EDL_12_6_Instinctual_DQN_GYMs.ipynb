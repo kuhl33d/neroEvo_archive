{
  "nbformat": 4,
  "nbformat_minor": 0,
  "metadata": {
    "colab": {
      "name": "EDL_12_6_Instinctual_DQN_GYMs.ipynb",
      "provenance": [],
      "collapsed_sections": [],
      "authorship_tag": "ABX9TyN8pxjMgY8u4rfOMfMRgfpR",
      "include_colab_link": true
    },
    "kernelspec": {
      "name": "python3",
      "display_name": "Python 3"
    },
    "language_info": {
      "name": "python"
    },
    "accelerator": "GPU",
    "gpuClass": "standard"
  },
  "cells": [
    {
      "cell_type": "markdown",
      "metadata": {
        "id": "view-in-github",
        "colab_type": "text"
      },
      "source": [
        "<a href=\"https://colab.research.google.com/github/cxbxmxcx/EvolutionaryDeepLearning/blob/main/EDL_12_6_Instinctual_DQN_GYMs.ipynb\" target=\"_parent\"><img src=\"https://colab.research.google.com/assets/colab-badge.svg\" alt=\"Open In Colab\"/></a>"
      ]
    },
    {
      "cell_type": "code",
      "source": [
        "!pip install livelossplot --quiet\n",
        "!pip install deap --quiet"
      ],
      "metadata": {
        "colab": {
          "base_uri": "https://localhost:8080/"
        },
        "id": "AP16ZeA2b5Gn",
        "outputId": "3c6daae7-b6c8-4427-ff10-d737cd309a29"
      },
      "execution_count": 1,
      "outputs": [
        {
          "output_type": "stream",
          "name": "stdout",
          "text": [
            "\u001b[K     |████████████████████████████████| 793 kB 3.1 MB/s \n",
            "\u001b[K     |████████████████████████████████| 381 kB 21.9 MB/s \n",
            "\u001b[31mERROR: pip's dependency resolver does not currently take into account all the packages that are installed. This behaviour is the source of the following dependency conflicts.\n",
            "jupyter-console 5.2.0 requires prompt-toolkit<2.0.0,>=1.0.0, but you have prompt-toolkit 3.0.30 which is incompatible.\n",
            "google-colab 1.0.0 requires ipython~=5.5.0, but you have ipython 7.34.0 which is incompatible.\u001b[0m\n",
            "\u001b[K     |████████████████████████████████| 160 kB 8.5 MB/s \n",
            "\u001b[?25h"
          ]
        }
      ]
    },
    {
      "cell_type": "code",
      "source": [
        "!apt-get install -y xvfb x11-utils\n",
        "# install required python dependencies\n",
        "!pip install gym[box2d]==0.17.* \\\n",
        "            pyvirtualdisplay==0.2.* \\\n",
        "            PyOpenGL==3.1.* \\\n",
        "            PyOpenGL-accelerate==3.1.* \\\n",
        "            mediapy \\\n",
        "            piglet -q"
      ],
      "metadata": {
        "colab": {
          "base_uri": "https://localhost:8080/"
        },
        "id": "GK0A_Lj6Qi5l",
        "outputId": "0ec126d9-4bb1-4d34-91ca-1f47a3143c20"
      },
      "execution_count": 2,
      "outputs": [
        {
          "output_type": "stream",
          "name": "stdout",
          "text": [
            "Reading package lists... Done\n",
            "Building dependency tree       \n",
            "Reading state information... Done\n",
            "The following package was automatically installed and is no longer required:\n",
            "  libnvidia-common-460\n",
            "Use 'apt autoremove' to remove it.\n",
            "The following additional packages will be installed:\n",
            "  libxxf86dga1\n",
            "Suggested packages:\n",
            "  mesa-utils\n",
            "The following NEW packages will be installed:\n",
            "  libxxf86dga1 x11-utils xvfb\n",
            "0 upgraded, 3 newly installed, 0 to remove and 49 not upgraded.\n",
            "Need to get 994 kB of archives.\n",
            "After this operation, 2,982 kB of additional disk space will be used.\n",
            "Get:1 http://archive.ubuntu.com/ubuntu bionic/main amd64 libxxf86dga1 amd64 2:1.1.4-1 [13.7 kB]\n",
            "Get:2 http://archive.ubuntu.com/ubuntu bionic/main amd64 x11-utils amd64 7.7+3build1 [196 kB]\n",
            "Get:3 http://archive.ubuntu.com/ubuntu bionic-updates/universe amd64 xvfb amd64 2:1.19.6-1ubuntu4.11 [785 kB]\n",
            "Fetched 994 kB in 1s (1,368 kB/s)\n",
            "Selecting previously unselected package libxxf86dga1:amd64.\n",
            "(Reading database ... 155653 files and directories currently installed.)\n",
            "Preparing to unpack .../libxxf86dga1_2%3a1.1.4-1_amd64.deb ...\n",
            "Unpacking libxxf86dga1:amd64 (2:1.1.4-1) ...\n",
            "Selecting previously unselected package x11-utils.\n",
            "Preparing to unpack .../x11-utils_7.7+3build1_amd64.deb ...\n",
            "Unpacking x11-utils (7.7+3build1) ...\n",
            "Selecting previously unselected package xvfb.\n",
            "Preparing to unpack .../xvfb_2%3a1.19.6-1ubuntu4.11_amd64.deb ...\n",
            "Unpacking xvfb (2:1.19.6-1ubuntu4.11) ...\n",
            "Setting up xvfb (2:1.19.6-1ubuntu4.11) ...\n",
            "Setting up libxxf86dga1:amd64 (2:1.1.4-1) ...\n",
            "Setting up x11-utils (7.7+3build1) ...\n",
            "Processing triggers for man-db (2.8.3-2ubuntu0.1) ...\n",
            "Processing triggers for libc-bin (2.27-3ubuntu1.3) ...\n",
            "/sbin/ldconfig.real: /usr/local/lib/python3.7/dist-packages/ideep4py/lib/libmkldnn.so.0 is not a symbolic link\n",
            "\n",
            "\u001b[K     |████████████████████████████████| 538 kB 8.8 MB/s \n",
            "\u001b[K     |████████████████████████████████| 448 kB 42.2 MB/s \n",
            "\u001b[K     |████████████████████████████████| 67 kB 5.1 MB/s \n",
            "\u001b[?25h  Building wheel for PyOpenGL-accelerate (setup.py) ... \u001b[?25l\u001b[?25hdone\n"
          ]
        }
      ]
    },
    {
      "cell_type": "code",
      "source": [
        "!echo $DISPLAY"
      ],
      "metadata": {
        "colab": {
          "base_uri": "https://localhost:8080/"
        },
        "id": "n6uda62nTq-2",
        "outputId": "a42dbeb5-de4f-42d6-bc2e-6bcbd164f1d0"
      },
      "execution_count": 3,
      "outputs": [
        {
          "output_type": "stream",
          "name": "stdout",
          "text": [
            "\n"
          ]
        }
      ]
    },
    {
      "cell_type": "code",
      "source": [
        "from pyvirtualdisplay import Display\n",
        "display = Display(visible=0, size=(1400, 900))\n",
        "display.start()"
      ],
      "metadata": {
        "colab": {
          "base_uri": "https://localhost:8080/"
        },
        "id": "jpWForNjXesx",
        "outputId": "e11f21a9-0b0d-44f4-9374-a442e8f25d88"
      },
      "execution_count": 4,
      "outputs": [
        {
          "output_type": "execute_result",
          "data": {
            "text/plain": [
              "<Display cmd_param=['Xvfb', '-br', '-nolisten', 'tcp', '-screen', '0', '1400x900x24', ':1001'] cmd=['Xvfb', '-br', '-nolisten', 'tcp', '-screen', '0', '1400x900x24', ':1001'] oserror=None return_code=None stdout=\"None\" stderr=\"None\" timeout_happened=False>"
            ]
          },
          "metadata": {},
          "execution_count": 4
        }
      ]
    },
    {
      "cell_type": "code",
      "source": [
        "import gym.wrappers\n",
        "import matplotlib.pyplot as plt\n",
        "import os\n",
        "import pickle\n",
        "import numpy as np\n",
        "import mediapy \n",
        "import random\n",
        "from collections import deque\n",
        "from livelossplot import PlotLosses\n",
        "\n",
        "import array\n",
        "\n",
        "#DEAP\n",
        "from deap import algorithms\n",
        "from deap import base\n",
        "from deap import benchmarks\n",
        "from deap import creator\n",
        "from deap import tools"
      ],
      "metadata": {
        "id": "aGu3z6Q5oDn4"
      },
      "execution_count": 5,
      "outputs": []
    },
    {
      "cell_type": "code",
      "source": [
        "#@title Setup Environment { run: \"auto\" }\n",
        "ENVIRONMENT = \"LunarLander-v2\" #@param [\"CartPole-v1\", \"Acrobot-v1\", \"CubeCrash-v0\", \"MountainCar-v0\", \"LunarLander-v2\"]\n",
        "\n",
        "env = gym.make(ENVIRONMENT)\n",
        "\n",
        "state = env.reset()\n",
        "plt.imshow(env.render(mode='rgb_array'))\n",
        "\n",
        "print(\"action space: {0!r}\".format(env.action_space))\n",
        "print(\"observation space: {0!r}\".format(env.observation_space))"
      ],
      "metadata": {
        "colab": {
          "base_uri": "https://localhost:8080/",
          "height": 304
        },
        "id": "_Qzcx4MpWjtd",
        "outputId": "f98fbe1a-47ff-4d8b-8cb7-7bc915d2d219"
      },
      "execution_count": 7,
      "outputs": [
        {
          "output_type": "stream",
          "name": "stdout",
          "text": [
            "action space: Discrete(4)\n",
            "observation space: Box(-inf, inf, (8,), float32)\n"
          ]
        },
        {
          "output_type": "display_data",
          "data": {
            "text/plain": [
              "<Figure size 432x288 with 1 Axes>"
            ],
            "image/png": "[encoded data removed]"
          },
          "metadata": {
            "needs_background": "light"
          }
        }
      ]
    },
    {
      "cell_type": "code",
      "source": [
        "#@title Siumlate Environment Run { run: \"auto\" }\n",
        "ENVIRONMENT = \"CartPole-v1\" #@param [\"CartPole-v1\", \"Acrobot-v1\", \"MountainCar-v0\", \"LunarLander-v2\"]\n",
        "SIMULATION_RUNS = 10 #@param {type:\"slider\", min:1, max:10, step:1}\n",
        "SIMULATION_ITERATIONS = 200 #@param {type:\"slider\", min:50, max:200, step:1}\n",
        "\n",
        "env = gym.make(ENVIRONMENT)\n",
        "\n",
        "fitnesses = []\n",
        "frames = []\n",
        "\n",
        "for run in range(SIMULATION_RUNS):  \n",
        "  state = env.reset()\n",
        "  fitness = 0\n",
        "  for i in range(SIMULATION_ITERATIONS):\n",
        "    action = env.action_space.sample()\n",
        "    state, reward, done, info = env.step(np.argmax(action))  \n",
        "    frames.append(env.render(mode='rgb_array'))  \n",
        "    fitness += reward       \n",
        "    if done: \n",
        "      fitnesses.append(fitness) \n",
        "      break \n",
        "\n",
        "mediapy.show_video(frames, fps=30)\n",
        "print(fitnesses)"
      ],
      "metadata": {
        "colab": {
          "base_uri": "https://localhost:8080/",
          "height": 441
        },
        "id": "OijWAhygyaQi",
        "outputId": "6046f8e3-911d-4dbe-87e9-b175267da4f0"
      },
      "execution_count": 7,
      "outputs": [
        {
          "output_type": "display_data",
          "data": {
            "text/plain": [
              "<IPython.core.display.HTML object>"
            ],
            "text/html": [
              "<table class=\"show_videos\" style=\"border-spacing:0px;\"><tr><td style=\"padding:1px;\"><video controls width=\"600\" height=\"400\" style=\"object-fit:cover;\" loop autoplay>\n",
              "      <source src=\"data:video/mp4;base64,AAAAIGZ0eXBpc29tAAACAGlzb21pc28yYXZjMW1wNDEAAAAIZnJlZQAAWwxtZGF0AAACfwYF//973EXpvebZSLeWLNgg2SPu73gyNjQgLSBjb3JlIDE1MiByMjg1NCBlOWE1OTAzIC0gSC4yNjQvTVBFRy00IEFWQyBjb2RlYyAtIENvcHlsZWZ0IDIwMDMtMjAxNyAtIGh0dHA6Ly93d3cudmlkZW9sYW4ub3JnL3gyNjQuaHRtbCAtIG9wdGlvbnM6IGNhYmFjPTEgcmVmPTMgZGVibG9jaz0xOjA6MCBhbmFseXNlPTB4MzoweDExMyBtZT1oZXggc3VibWU9NyBwc3k9MSBwc3lfcmQ9MS4wMDowLjAwIG1peGVkX3JlZj0xIG1lX3JhbmdlPTE2IGNocm9tYV9tZT0xIHRyZWxsaXM9MSA4eDhkY3Q9MSBjcW09MCBkZWFkem9uZT0yMSwxMSBmYXN0X3Bza2lwPTEgY2hyb21hX3FwX29mZnNldD0tMiB0aHJlYWRzPTMgbG9va2FoZWFkX3RocmVhZHM9MSBzbGljZWRfdGhyZWFkcz0wIG5yPTAgZGVjaW1hdGU9MSBpbnRlcmxhY2VkPTAgYmx1cmF5X2NvbXBhdD0wIGNvbnN0cmFpbmVkX2ludHJhPTAgYmZyYW1lcz0zIGJfcHlyYW1pZD0yIGJfYWRhcHQ9MSBiX2JpYXM9MCBkaXJlY3Q9MSB3ZWlnaHRiPTEgb3Blbl9nb3A9MCB3ZWlnaHRwPTIga2V5aW50PTI1MCBrZXlpbnRfbWluPTI1IHNjZW5lY3V0PTQwIGludHJhX3JlZnJlc2g9MCByYz1jcXAgbWJ0cmVlPTAgcXA9MjAgaXBfcmF0aW89MS40MCBwYl9yYXRpbz0xLjMwIGFxPTAAgAAAAwpliIQA//70oPgUz6FLysxWvdiImDlA4OycM4dgAAADAAADAAHp0Nj9/P1hm4AAAAlgAiYTQPwPMRMVYqBLZ4wGiUgeJTH0I1qrj+S1pN6XzEik9BRdq2L+J3LMNrEZLnLFoX4JSPBeInJr3QEU0u0GKVAQWs0vfZV0nZir0TfCN2tNsIswNV66E0pTHiWjqhMcgm+Dfe22Uhq+bVmpi5waXTHMuWGeKK/yNagint8jVGTH/5tafAkL3NyBYiqdoZf/YaNTbgm/HUgPXu9Le0sHgoseCTnEHFHl2vQ0/UkD7Gv5nURTyrpDX0y0n4FrvMg9Ld3sgb6AQVO0Q0a1L0vORYIL4o05C8uIAC9HkDlabMCynqU+Poj4+nR7w0+/K+H6u5alwp1KSlxBkDiXmX3Nl/8L9WX69qs/CK5B/U9ZbxxX2dfxHq6Z/IRKDuN8YHznjZc5D8D8nGGx6M2qMnwMmpkMWY9m14Z7LJb7Jr/ADRv0C0ltfq8SxcXVG+RZ0oqs2uUapuQBW0QcRSFN/bja84f2nt15wfK2qv+unrMbUels1LAiczkxq6HhxO8Q4KMyKOrSKHgd6A0b2jk4nQLKhVC1n3wUIq3GSRnL2qR2QBpGOliuJKf6gkeG6HchktG4NpDk2uDz2KGl3O7UtyMTjTiH55Bp+5kEWCuSUeV6Pfg90wwQ14KYNsMlNg/pQVPFU6uZZSExCvXPIA32P5O0H7d11uqyHkd5wFDVcwo2+unu+lfYiL/3Ir/g1dYO+Kba2PgHmpWj1qg5rtdsHavHPG9hqZ4V+HFAZUzdgU/J/ROmm8dMA/yZ2p5KYIe5j2DjNdQx4GTwoNJqp2GATP9jZJwOTPyhrWjoG3kTiM4TXom1UCxKh87j06RCk9sgqVIfygtVoZKJZxRDCuJwPCJ2sde9pTkLrO0oM8vZUOaGEx7PKujxkWTFlTq9IB1I4A7/I9olpc9CfTzQAxOgmWyAY9MsWP53XtPurKkLP6QlFg01c96zCeSsAXE1CvK5AAADAAADAAADAJqBAAABW0GaJGx/5EAAAPPxuDmmBq3xZ80jsffUseGVbjYP9c7vkyHtrmYi2HHyBs41WuGT7fTGa8yCOj/o2YUPGzMl+Apypqn3E2hsuJJXRCBRaDlnfTaZHpcxJkByZMrVczc+Ny8Uq8ucnVWnisVitXsFpXWAFiJNNGApylXJqvMZvcKdYdgWPZafeYsqmBqIgX60W+pJfbs4GFmbg57FtXOKhKy296euC2VUEJvNq41D2ryF3KwnHI3mGDZC4sH7c8qho35LW2lc+Ffa+n/7kMwAqCuU2r/eA9t1i9ujXiNi1pNgCZ0KKK0YTkjVFiNkKVyRxLNTCKFe83XrMUy+OMf6WXeuq6WYo+SonZQl1gmPc5msk07GBlZ0fT4FQk2B9uWglzO8+7lzx0J2qU1dCBaS1JA0Gy8/7Uf8gWPfbREBaoXx+P43/p6gpD1HR1Fs518w+9qhHzpshDCv/SKAAAAAukGeQnivAABdNSq8E1eIZnMv2aA8Xw6pNV7Jm91cdFGSKKCv7yvk3fLDQ3//y/hiBqRpiXfpY+RTv2++oY1cE1GuVwxaklbpooY89Z0gQRoLpKvb3a/L0C61EEcwEbryzvKuUwKzY10i9/OzpXs3Yv53sobUJqOryjNpbM8kzmCVt5lTIxNm93jawVOhu40ZP/HOTN7+CGGI8CDD4HHuJrCBX2gD4ZISSJX459kb/TV3AWaPQHyS2I75UQAAAGcBnmF0Sf8AAGspLVJXPjOVJ7QPrQPn9KLefhKxVdCNf9CO8gX//f8VJuzuk7TOqlSGu64Z5JbdUzmBTw9Qr2kTfPLfigg0CQqYxGoHjLe9YRMQJKRpb6KSg6jnrSqcFFW1n50PqttCAAAAgAGeY2pJ/wAAatIso4S2phsUCo731DhM9dNl3ZOyINuMijuATIXaaCoXVi4iP8zvFFXgq4EtgFl+F+v9+nuJ6A30XadtvmJgb9/l/ZiRhB5TH43LpMusWaLefgrPfAkmnKyhSZmkko6muZJ5RZuk7IzFDDzC2Sgjf72V/TBEM5GBAAAAjkGaZ0moQWiZTA//5EAAAOxh7yEJI6I/g/jf4Tibfpc/pkalXrlRTtKRWtJS0+Z/FxoFlgT1IVxuVhwdufRdZ4zapArWajXMxPqdcv17hBwSyDsX699VT2TFthhtaTfHCj+n69+plQFDIWy2SolCSbZItOLWARzzWYU0VImS6mlAhsrJOGKHZSmFGYBYO8EAAADIQZ6FRREtfwAAWukIy2rqs7mUGtrmCXqWhuPfFCG8fIA2+gWK7ZKObpkrZlDEpHQBu0Zw3zpaqR9ym0W8QwyAWkc39wKWjAiQ5xpP1bY3pYEPpyJuodNVUAmLbgLFxzrv4G6EBlGiJLc7y9FfnwAQZiyvJRjqlfK0egaLQ5oXWGMW/eFOlDZC/8SHQ7J8lYCXjYn/tCLftMN0MtQM45e4ciZ/pmFkHwZJuc3HtXzaWCYQI9J3CiMj8fBRi4N0SqgcH30Z/uNvYY8AAACOAZ6makn/AABpFYiN/ICFoTXGwvuUsnbN4fAwM6o75yfkEAGIIB2uRYw4ZpiozX+4wbkkKE955V6Pkriv2KCJqgL3ZkeopQNwaARskHdKF9ztwen07SXtTrVSvqKz9UsXOptcnf7QnZusFfXTdlbphiVYwkUtMXZ0QmbpPEa5Z5M7HDoetyn92eSwP0yFsQAAARBBmqhJqEFsmUwP/+RAAADtX116I+gc8wsDz0uES+2GFI7+eHiZQBUBQGVHwWyDD/z4o1Yjm6UNtjfg/KoLVuMfSpWh7DjSxJGUiaZkzc3+88yPUHdtaEVEPWl3YRgqJbeITPMk+CSS4AXlv2HgR+cwh5ES2wwMBKwqsVFXN32T5yYaAkXJElYd7m4s/XXtKEi1dp1qLBJBf+o4hQ0DLiY52tPLCf7GmZ8h9mZMS0Aui/QFpxZzc0CbQnZUsQbC/e304XDklQMI7l6Zxh5U3dlYYD+n7GPfL5FWUIujqzxlBKXNh0HgK6DGnMzLlDSy+2gYAM/xeoLxqt6XblN9THSuE1gp/a8ExWorGURzW9lI4AAAAPxBmsxJ4QpSZTA/5EAAAO1aPgssjYqPN5AD0hJ/8riFitk9H9hLHeA9xjf+TVcQlHwRfVA70n06qh4ynnev5DVRJHNCeRqZfSbvgpolSyUXQLMwa5MKHob8zs4BHa9s8uJATfT41+oabSn27YfSMCRzaK4Hd/kYfUgafXV1kcOB4wmJidxl5fb78NvoeQKaxGeczO5rE8uC5anDhlGqsulhkQUmZfTABYOtHY/PWpDIeYd1ICgF78w3pU9tRgrKVBNo5D7YxUALYc8EsjqiX0RJoeIflIJHwuxqJpmgXaVjoTUOJRK0OBFbo0eEnrCfoeB5Xsxn1dkL6XpHwWAAAAD2QZ7qRTRNfwAAWgu7OiNkofKucFUBf/CWqrKzNrl2f7nDtrm+/unAmZaiu66B6zz8DQyP/DKbYkhlEdRZgdY++pqDuEOrKTZgLbvPwst44dn/qIRRW51ZGmz+bz9/fpTbOFvdG90PVBy4nY3fFY3bcEOWv1+zR/mQcymDY/b2IQkXh5ijGLXsy/JYOm3Ig6Nk53WDFRFi0JrgzrSYhSFHD+EdvNnj70AViIFG4JJI1z59ERRhyiooYn9XWfz7g10Tza2VMD03ZmZemCBayg/2Yi3aN2SpLuSk6LxgmeHCYtumjDT5iUV2B96AZC653cvsCy/WVrwFAAABOAGfCXRJ/wAAaR63n26Dfj3N3ZMO9JMooK6ZpDMW8k+s5SRGCAdt8587Uu2wYGJNUI4VukBT6mbVKX6M8kRzKZnYtpmjhQgpqdGHiMYI+a5CUR28phGcDfPTujg4DJf/HmgydhnIYehOdyp73/WBRWv9Rz+zOIbKJAJAhfUpEArWcdMpG0hCxozLCHK7YqmkLEjlUP6RWFqj/FO6HXOkdfD4CfE4NnSanM1deiytWOUo44uFjc3Avp2EBR4wdjlj7N7/o5Pg7OP55HkyRe+xEThdEqLVj1j4tlpy8s4nlF2I7Tx2JbiwPTRHk21fVPC60+EbHQQ6xuawo3RFH5jUnj/MT1dXTngrhiOXAY3HCob6P5bgLgVLGCGECYGZyO5nvIxAGq4nBe1gfcrKmvelYnxV3NDDhRkAQAAAAGwBnwtqSf8AAGil4sGFBg6U+0u4N09MdG4nVYE8khewotZYChB1k08L8y3alPUZ1m5GLoS8qRxc9BMkYGNQxm/pQ8dbWMz1Fr5e3ik7ysDHiblCY1+88y23im+TvGirTYkcl84NO9aCJzowy4AAAAE9QZsPSahBaJlMD//kQAAA7GlPl+635sDiCpEw8FzpJrEv88EtTMXtuzuTHo/rVPEKWS7g2dZce2qngEW42AUNgQHL9T8x6eQBlewOp7WIe94K/17aqvF2blsM0cLW8cS/Q1lk5zNMJlKmEsYbDdn95Ha+rMMZC6FgL5T4UV8UNNSFau+mlKXG7Aw6clDC8lKMetOz8x/Qwa+7L4ZO+q53foiaxLPvEYx5z86pR29ZsPg0CAVJYrbtJ75UkgCrHTAeO/JTrk0xnqNR5cMAGbogdX2pP+6XQzsZXJYchjfPfWBty9cqLvA5VHkYLge+Ue/0JwySEEIhj0tXT1/yLMuSi0VJ6Rz5KWdKX2t7beq1CBB38M6blkwkCZ0HwG61AlQZAS4aJG6SitUov4JtB7Fj+Kz4fXIBByycJ58ZD9MAAAB1QZ8tRREtfwAAWvFO06C067KGWdPSKgun9Z/UzbWbVlTsRXDTpXYZ9tYzEg8cIcEcpMBnmC/MdM3glrefYuwfh8zQcAxnfSGIylr/2zt7p9SNj40HBCp/G4jkLk2jDK2QMt5KHCLI1iDv4Qlxa+wLy+pU4tZ9AAAAhAGfTmpJ/wAAabEvuFbFAi+/KfxcOBsfV0V+QaWMk8oQdTCkRImGa/rFEBp61lM3OkvzKeR2bpcT95bFCjRinHv7d1rZqOZIh+yFK0zRLIb4Bdy9L4q6eQ0srgttOiJDfs+iWw+hzVvdf3CYYZDR/SQXiMQdaBKSV5NTo1YQh1fTXqIRKwAAAgdBm1JJqEFsmUwP/+RAAADtHg5bi1z2wMb4X9IXq1nMu3QXGQwagzgKDZ3BtIvBrsnXBkBAx5RweCC8ToyNz8AytacakGlzx5tlKqnRtIBEs6e1Bwtap5Ly9aVDg13Pl7dv4JYjPj41ATUO1EG/0knzH21SXERoTWUVBHwt6G7roCPVBOxgyHmB8diEnrsuniywH5EC3/f5bqM4rM/zWMR9MsLN5C1akNeanEoeHO3ueKgNC2A2Zsq98hA92/9hYS6xYliSAB78m5sq5HI5r2a4SMU1lB26Xr4YNwL0y4Bbk4bcKE9a1Gm79/9RFunzD5IhL8QJ0XdlVSqcQeo97e/gyXrrenuaFe7OuBRih5KWLA+++rKyXb3P4iKrgI7vg/gQkPlTe5NG+UA1LpE2dIxsE0tqod7kXgEXQAKE+UumSLvsRPDxy46mNflUcTxmsDr6jFtZgB0laB/PsZytzqBRFAPaAvI4OJH0JSu2nsLXjAHrY6bRDVtRjexBff73AtYr8mNqyxqV5/tK+RFEdV1Zhfz/TmMBO2sFGxE5BdQNedrZ+wCjyZCxGMUtNIuASG19toW7los8Ua3AcRKMdEDQDYGbHHfkJlj8CmdUmRzqzzGb2Hm5TBjR+gLDn5iv5bWJnNwBfSU2RbRki/NmP3izZ0bpLqkF1tYU/xuUaRd8l1uixlbSm+wAAACzQZ9wRRUtfwAAWwc6GeW3rfZWRosRSlRRFlWTBngy3x8M/ZI7nRF3LVxM7/X+3k9Y1MXPTO+xx2RUMh3U+aIKEnXhPaxbkkuKZz5PGEkZ0Qv627V5cdYWyK+o5tbW0iz/U1VgKgMIXqo9hM/mE7iduzreBJJkYtdCOJ1HsZKfgVFCMkIDpxnHY4DQMesxXeBS+K87vEQN7qjIDbs6OjbVaSUznExAhGb9om5i3Px2I3NceLAAAADTAZ+Rakn/AABp00+7JJ9OFk9NXkwMtDGiJ7yAfz2mUYhnz01knvAxwCHccuzVYyeQyaleJZSZOwpr/axLjwRe9D5+rdco+kkyxRmtrk+1DO51bo3RsVNiake/w3ZS9gqe69Vs4bXosohDV4M/2Kvu9cpxw4OTlcpjRi5jYyiiGl5cFLhKchFstujacwquvQYhjGpkilWjTGaZ0r+tijSOBwK0CC6BoE0oQzt1c3775eU5ZkVrVreLXkA6O0JqxItBrudyVOPAum8PotVY+7HkAZEJgQAAAQBBm5ZJqEFsmUwP/+RAAADt0oPxnK0cn11w2B49T1PZi1bUZNu+I7BrzwyW8s9of07UHDmDTBnKKkmar3pGp5YDe/n8+dYckDVyIEiYqezwz2WVwoSkdzLHBT/znzL+7c+0vpO1u3wbu1BWLRCtD9QYoAjFWIZ6Zi9114SYPoJZ7e+Xm0AdantWi+BZxXEi/1ihrbRUy+ooi+80APRz26da+0fW/ZrCbYq65xWgRYqSWJggZQCkPW5nB7mRhKHVtGEMfKdMK2l0SUSIHhpOV8RjYFvOqEDfmnqbnbHi92SZCmk46+Q1GRgKoZk00Xfu4gvmEZtaQlE0KU2F/8LH8OGxAAAA8kGftEUVLX8AAFmlaVtw1ZpnhPo5u1kLUiSEcbZIWvYBBZtJjR4TtfIGGg2dnHlVvIhTAmYZzRaQ/H/JDRA+ETeB4phs4j73eWf0cQJ+T/bDR7mP/3/TbyMiFMDS+YLm87f+fpH2TKuzLwKeJCvvwJ7acQw7KCkkMFTnbDil8KkGvlXK0q6aC1WG3r2RpVJb2OfnLnibc5m9EncExYAmeOyJOcJxhTbIVcjicOg0srZGBlWZ46WA9u2m81wBt4Lrdu6ZmUftWI2S04nmDyHigtdooxd6TWq96RhmZoPTv6S2lyb3S2nOQkiwlp6gjwzDps7MAAABfwGf03RJ/wAAaSmx06QDGnYEvap0KvYrhvoYWOGtlEIno49fw1EqEdcU8kAp1AII8BPL00tgYef85m2o2vjqRToJuw8KLm0dhO8qUAbSRgkS8bVuIUiKD9iONQoKDH27p12ZFCIQD5JRJojzK5JBb6+X1KbF5B67quwJLMy708Zr2DbI2gPP8Aer0smcFtgAAG+EYdohl/x7TuFdF1eT1T2H38jW5PEun3MWa542poql89AD7pooadBdL/wEsXTwvPZAd3qsybLZ5EhrgfaEcc55P7AjdCLkY60udOAdcQ/FJk9wVkLaGDwrNgbQtIQE3zsfAqFtTB3d5VbtvdVlLutWkK8ik7yYWJzoUvbNIbM///4fEKe0KHVpjdFTtN3tsJNcjhWq6eyumKO4GtTylaZL8h9atGY1aoHxCYOF29gDYdl/3jqzPQsiScKLeZFJCmwuaRpQKePI+HLoYDNCg+WA1EzbNSopT8bXs29M4ATNTi+ryqDezF0dTg6SO6kZAAAAYwGf1WpJ/wAAaF8lSY/WejfjNuHiUbp5sT3UBphCIIYzQ7jSkzHnPXJ8nW9hwre5CzIBq0NMseGxTKN8j6yZJ9uEgsBRSCCccGM4RGo7O5gzt2LReNlrjL7lGbTNGRaQz7wlQAAAAOZBm9hJqEFsmUwUT//kQAAA7ZhMjwqMQI6ok0tc7VL+H+7PpiB6IFmEPLOJlozLKlT33TVIyKU/yuZyVGxXxCjBus03f/qIL0Q6F02g+AALlL5tkSioaIs+dPynPO9mi9HJwhjpvkwpYn974KsaCW7XrVTz1EpSJ87OnhGY0MGs0xOlv7OOas3I5YwTOG4Rn+/v4QUvCyXOOUJtTPdRTW2//SQFPdQ23rJBaik/Qi9PSYmkxnP0/xQR5dfuafeZTynGsdyJty1PZP9EWOe4VVTPuDioT9bnFk1THIULC4+Cq5k9nPxgIQAAAGMBn/dqSf8AAGiwoqTH6z0cfPpEqxjXNRRVzA9Gx3TOLQzn1M0UGaVVLI94ot5hVCazEJJFU29eljYHGTJtNAwfZYJrotzpMjAaSet0eAOz/TRiom29pCtcwjGsyjC8BrbyWzEAAAFtQZv7SeEKUmUwP+RAAADtnmtcmL6/RauaeVCcqHpzbt6UU2hBtK5HMHE2DkP+ZIGfHV0dNyREINTdYktl6sMKJL+PX7jcgrhSfaVZ3zzZWdPc3OWoFDR8ocB7OfpHKPBm/W0BAEvgwAYKGNVXFEP4MQQVfYklj0XK5cVvzvStWuQUkzT4FZgrmL8J5R+urzim/la1ZzS+ka2o+EomItR6p29h/zOgVuzXDn4+3lzprOBVUiucBJEV84dkCvcYYQOBKag7RoDAZtn/1tx58JsIRBHPd8PbSHXMN0o/aWDtoxLLduICOS96dZ3J32zSjggLvl7imcskJTkaUIOfIQl3eBLP5wVRy7huPwQAZILzpHCsWO2h6jRFnCxtzXzjAUu/EqsiOfS8XIaabC7Fs/SckBFdSSFCprvO7h/+DbamUeeSuR9UB9W41wubWdy2HXu4/HbA89Z+v1PQQJ1RwFkf65H7Y/v4UOZquxMCJzIAAACwQZ4ZRTRNfwAAWxK9LgOLVMyV7+xPuQUVj/pTOuNnPP28D0QmR9J6Zb9FE7ucROJ5sNj1Q7Y2qR6pBLs6fCoZVNm8zMkHdb+LDw59weIBMbQY7Gby9avMF6fjGYNUmcJ5EDRhZF+H7GU90NPOGCNf3Fkx4OUns0gX0RVPvq9gYI+weljUf2dx0FH8NyZFeLtyhIne4NYVxHxP00yj+16nWNc+CTMrU3JbNbysL5VDHuEAAACeAZ46akn/AABpxVx6indpeExYR2Kf5fhfSTkGWNn3qctNIcy67nke6pT62gQM+MCKNRjYUhOS154FJN5Uqq+HmHc8trypq6XSo49y9AUoKixQMGRKr4Yc6l+Zo3Fzyv8WunzTvXvic6+kLOeWkLrR2APeilh85ONL8C7rh8Y38+bKB0UujEx2zlWQclwoDIuaOmJMRFQ63byeenh37UgAAAD2QZo8SahBaJlMD//kQAAA7ZyY/v3X/hZrwcii/Cbz5F2q1M6iO/wGGFF6YwMtWXkxVe9oSEr/R8oETyIuDOzqQSs8WwIKvEY3hh8pQmJ57mNcodANpUNtQPEmSEcy2X+90ONBwJvESz5BPyQGsIXtCIEPmXHfQtrOMcx8XGvDUI+TjXdr5zzSnbA4TlUhoD9cuvnzUwcv2oPAh/2dTK4HRctRGKx61oZ571r39Q4QfLfbyaMcnr1QkI69LphpAW6ZRiyor/8Mn8iZRbqggq6fBGC0LMm3VrZf8Nz1iyM2fXSF99xANvVLFKApNiJFiNhf4e6fUt3hAAABEUGaXknhClJlMFES/+RAAADuHEeOmIf8/f1jUqDCGnY7WTuMZ0ISJqLrGBVQ/I6TyYmGg6k8OY13u+18eficKSn2XNIG+JZ3yG84qvwAwC87izE4tddpoBp1f6umlfp18zH63+pk7mYq2sPkUpp/uE5Vgk+94IC6rwb8Td08oy4IkICvIEovgu+4uBean6bnoQWntZBHotbykk7yVXcos7KX4cgTwPiikH6gvIC0wIPUVmbj4ArCxm67bXqaqjjLOSePapfRY3ZbiQscW++uNP03RxXa6gzx7tUsWIWnGmPIvSCMuL2CO5Y4n6veAo9qrctzmFnMMSgH49Ik6817znhlMA9fLlnskuXTl+J9MnIrTwAAAR4Bnn1qSf8AAGiaCmb1YZKtmGdhkCvSO1n/FqaAmj8TcdQNbIaZYka5oxPhKUwh7iORFgyptKY+CEbeKHoxdsDxq5elLzZZI+zMf+/ms603gHnK6G6z0S5DDHMv37+990Yn78RBpxXp8WKMnaNgG59VKvxEffEGZW4+UMn86jxUYUBqAvdNElwrg7JGlqw4nlMwSkYDmetIGpM85msDC589c1bCkluD8dD6E/C0/AUEupknU78da4LNGQDxaLZ3xEJh/IN8ff2FKW4KbntS3j3oSNZW1vjLDuEamOlGDlfhQYZa3cnu/RMwG7x/eTsXMwrlcNUrdbSIhMTjhKdnhusxtku9UBBA9kMhvyzAB+7suqihIVaZuIrVr4wuZ1tGAAAA9EGaYknhDomUwP/kQAAA7F7UbOQaGGkr9LL0q/OwtM2wACplkzLZj+mA06g2/ZP8J6lrDZG23TQpohBQPSmkSEymFbA0RezuW9j/0Vsm7absg3EscCIsd45ztUCMxBqOXn3yKmQz8rmRjjm8K9lXAf3byvtyfuqVsz1MUuUiGzhuCI79JDRetcoND+s57P/5JxWFuhWWqYGpK/9CCgKNDo56A7EoxmW6nbvZaO0AD3TFqvPuxVvWLBt+nz6e3+fNr7EpsBF5I9OOQsfnwAmjlgpAMaL2BU0sP1Uj30ZECrPgEWHmm2TqZO1v92AvmZgnPdgTOYAAAACFQZ6ARRU9fwAAWukv6brNcTmmoThbP5c/xBstxYQVeBv2Gb5YSTMLctwtvRVu2aoxMvSE+Cza+QLUJeeZyIETL3y1TTtfY1ffkWEVt8kBoc9WTTeWxdqrW/ebNDSlmkAycpxm/fDHYMbyjZr4a48qSjoYZ0a3m6/CnQ8CymBCUWYMbHd7MQAAAGMBnr90Sf8AAGjJCQ8p7mtXtgWFCn8qlyrD3n+8BreSFl21yXa1fbHlIyFM6D1o9IlgsZdUtvnodO1XX+JsO/jea8r3De/EcZvEZQ+zpb38PO7gdIr4sw/ok3L78m2fM6iyWf4AAABmAZ6hakn/AABp8iDY/gfiS39rbD0IVsRs220R7pSJM8ikOxNxdIz50pw4n/lgGRSWU4oPw8Wk66JzC6/lWjg6iamgYNLTERyd2egIK1uIYaO094yIV56XERKZGCKsEW9cGXECaKqjAAACL0GapkmoQWiZTA//5EAAAO5xOJbrM02+ekdj74GWpLTEzBwkCkiaeDcK14AI9+tQBSkSEV1gZ7XyE99O51cV+5GKB6N59SXcQPp2At6t0hOJ/QoWAByJadV2rL4q8WXT2tSJUNa8uEHXfZVKPlvODAnYSLfpYPvLE8pBIu2NmY5F0jii4a5xU2I8u32qtdLNGXzDeOPkfe0RH903hy55DtiT9BtedrI2tZkv1pIs2qABP+1B9FusiLQOesCGk8ZfXUzQSdLKAPjrVmtv6FULc9JePAUXn6GzJgBjeBa3xqqn5CJnnezF1oN+J56JVv0PMpw95X3A67HxuSzOMQLAXKivPDzF5EN3LToxBXJ7AcJ25Sxo7kzA+OC8dfORVNsDgS77ThLvZkv6hhztkOhVmqTitl0sjyVHqot9Lrzq6kmAADn/4nfeA6Te0qVhlKoPNdwr2y55+bDlsKadtgNBwhMrLhtgFK/nFtNrlrSrTlGpV4KMSCNeGEs2Kc3S63xduDdiWnWXNhHH/QtwbkU3J4rsh4P50r4x2VDJP+3nmzuk9iBBo2e+waz/ADm+/t54oN8qlTMi0Ld0fG1yf9mnr773CjL18q84budIhjxDvffRYpraBNcUk3D4EedlkPJfRo358Fd+GBrNDTklyc+Xk/BehteXJs1dIObTsh7he1I1wKc8PCF3xnN4htrlkrrRq2Y7I/CL9lreiGENQ11TnS9ctfrL2hP1x97uc/pX3R4AAAEGQZ7ERREtfwAAWweBMWP4zk7vpmHqAeXP8Hb8EN4z9BLsm2/WUjtyhRFA82lkq4uiVtRiNBGR2sLy3exiHWAQgRAAc3oIx+noHX58QtFWSveYMlS5f5gc+hYe3+Qo4w+QLgVIgDI+ZnmAVNEKnxqNkZO7F10rwio7zD0B+cPjK9FOVYtqg+qNVrLn7yrPbe4qIdV+XtwMcwVRd2Ff8evcP4kSat0NSxtVSLkUsiM/qjRQ9y6VTjih7M4Y2aLIn9ljC1ZFo0Wrk6bJKsYanxAIkIe4dPwMGts3yLg33ERyai9+4/llIhUbgWHoWw06R5NS0uUnCLj3YnKMqyC9HhKB8cBED2nKgQAAAKUBnuN0Sf8AAGip7egF9VDQfznP8qO8K7gf2eYBDmBMe664ab2RfzhuO+98npl5HywsG1vmjgkODHx5y7ltuLw2TxEGX2FVFxITg1W5wTjovObc11LuN232pixDOF9Hu3qoOfGw1ddGvm6Pshe+7TyXYBjJll5Q966LBTZB0Yayea76Lt9g35QY+zp5gHTHtKnJEXPa8W6ATIRHJE9Q65R+CMZWK2cAAADnAZ7lakn/AABoUet4AVuWwn7XdsWM98iIxDfInM9uo/mSVtSNfxoWMY+O503jj8VG7o4tAye/fWnX28IkxVsu8Vxe3nzwKWflZAnwrW6hCOjFFSZW1L/CNie5qOit8Qtfp89IGUibk56Qgw1tdhUqBo0fDK4JHPS1B3t3wx2zAMMFDrFG6WheGPEZ6FVPSdKNEjiguQ+w5h3Gz/PxFkgAHFiMSEtj4Am72j6KZYxXYDFeBaVKGwgI1FKFryiSgBkkliqOQR+jnOCFO7M9pW9a/wFnDj/wLJP9KuRfRziNsP+uTetScH6xAAAA1kGa50moQWyZTA//5EAAAO35A+8iI3v0HN8beSdLXC4l8yS5T5O++QFACUf8i1WEzXOoRLt96rFBb21fqUDpk0Z7FWE4zX05LjB2o6bt4s8kZ7TtP1NIOhUV2Rctn2+xJN3raFAeuvsXeN8EemsdpTD5VbBSmTq2ck9F+rK3Ov/c5pm9Ndy1cBKAz4HX5rLizveZuwM4BpHt/AaUX4/8hjJGxm7nvWEK6vej4ufhdFyTA53JoNXzjQuwD6jGa53+FKWjUdfWUwabYxZgHkeH/QAGgolD8/0AAADaQZsLSeEKUmUwP+RAAADucc1dVk3A8o6I/grVu3f1tAD0hifQe6qXJBCaDwxsQ1esaP3nXbV8vNDOyZ//xM8U960i9a5SBVrfG2tjIxZfSk5Ok7k1W/rkzfKnrHKmIPXM+Q3fjvkQ/jLGwEYrrlkTIpbXMKdDViAOygMmGz370ayWIphVrsOqrFht8tFZ2ocPJARvC9BMxc+ZPNcsvIutowLLG8xQRQgP6YjpH6OYgMXVxohAAsIEq5vP9D47Keld42gWAJVxXUW4bLf11NhO5DuYRDS6b9Kc/DgAAACUQZ8pRTRNfwAAWo8kaSkjbFKYayChtKdYsKu7rUgl5je4wtw5i/ffxWZlypjNHZaShO+AJyxOepJPE5dfb1EOHOwRSWVTe3GrgVHtlzGU2X2zOrvSa78D5tHQ0uJVTYs0V/8L4FbrlYRouuk/IGmXKi5voey23EFKa3U4ehT7FNUzAdUxmJ9Ws5OMld761zkwMUJswAAAAGEBn0h0Sf8AAGgmQvPaQzBovzoDfSUUfTcsFr20JuNFO2Gm383komhga78wGM3CAVThzb4SArMoYQvsY0Yrjsc1J7pPsvUu6BFi+U1ZnqRrZjePuqAVGa/AOPlURbHzZdErAAAAhAGfSmpJ/wAAaFIso4UajnmYj8tOiYrG/v8y79UPGCM7BU73pObmR1+ktCB6y2HcTPX+F4mFgyDjeyU4tb5lH6jSEV5fqrCpnxPe32WFl2P/wnTJ7BpvmJfNOVYIQkQWbK8JAVVHgyPWyRm54EifBqs8R66T5rPjkC8+svgQuGuW3GglQAAAAkNBm09JqEFomUwP/+RAAADoHLIKA+MNpkQu7lyg/7KdCfU7jNL1yOMluNyEfxer2JjsbL6LJS1iYJJXHyUvm7dSX7d5hx7KKN3FwRKHrK/Ac4/JsZy8Z9IDXjrCQNsEjoAbItFJUp4/gF5jL4X5f/3/t0yamr1LRzIhLtUTb63znlxPLDTxgD67+0xegODJHnZ2UdA3ptrYdXVro7A5oq6DhkKjXL7DBGNaP+J42lmITe64ZFVe/GJkOw2nbCMyeUeGXUP4m5A+18wIUbPRbxGnsUwn4+YIdovi3QAaqedI4JaNgeex0U3fD1axDefQi36LbXuwU8GXKMuB5dL1rNRR4c2bReVd2CuWccLVAClTG5sU93YzkIVynBErqgxK+Tgbu/ebOj2FwgVBBtF8nWYJn3UQAjxMQYjQHYCeQE1ajmr25+jZea/gpYKuX3H3TrN3pQZb0OZfcaWNhqQ9MWfsqPqJoSa8HGyZfH2oqk6f7cEruzUQxnVEbO8zKbbNWb2s7vAATi0dp9cMHXlnyCOdWL7VhKXlqIRvZciH9p+jQc20MMz/BgSE0fee1mf/jA5S1I/iC0xp3EPSu2GydQPE90pPxZSAmCAVVzkPdgZ35L77fH+Byot2Ekwb02RfKgO6o/lR7F4OCY9UMBagNd52NM/z0eFEbgCYEFp/75gY8y29OARTJrim2pwfpr4pQJ7GcCLlQtFWyO2UXePj6GVBQL6y02jqbi/vmdmpLtL7zks+cAQKrlnwErMrv8N25KIp8g4AAAFKQZ9tRREtfwAAWMeB1Z5I+WEYusdNJOMRqGdL62t634aGP/ZEdKj1eEJzx2rIQqXGRuMct3HT/48fBKA5rxyl2jCwl1CXtbM4Qz7DuLZJyTjG4oHPpyFpFQkv7xNVP7ZznW48cFvr/DXRKnAWhCz7NOEh2Kf+RMo+B5ptx0PX2mMlHcg4IX4wnqgF8T2MdumS1BkD/vcONk83JIvrt8LFdhSLzxp5dxPye4bpj16+eqraf50QQJwAms9c1y/jEE7MUW8aRKr6EAZFBVfeCGs2pQOj16jXdSFxhaq5Q382zETPZYlX9mPVhePjlJ+Rb8JoC8fXn1R8cdqq1XHCkEhlzsg1zRWWKiGT+jwAjERCj4mYFo4hgkHXEkmsuQzZiCs4BdoDHFkY3nDBzDfKdv22/02aSob1XWUULCcXqql+POE8GNRhUBcmMp2zAAAArgGfjHRJ/wAAZyqNdq3NU7gdrPxePtLcrkVeBsvYgFn/d9Ta4YFVV5YgKCH5sYeJtsbuzq2DDXDpoA4DK+yCgI2bOzHspctDDZG8XFaseeIrAGB+MrYtSO9tWbEMnuwddkhrgiii896tWLLkZjddZnwBDov+cCc8O00U/MyX1JcWWviMfVOFkpaLKLLTfRlvy/AHUR5J3gM9ydPNclYQ7BotBHKyl7F1/MlBtHaSYQAAAPYBn45qSf8AAGcM6BMNyZgM9lPZwj1V34HAzHj55F98cjwbOuqksrlYPeIWk4q1lSz/Z+GP28vIPhu0iq8QATzN0/FUCgB1ABu0ZA0XPgYqV87IpXX6//UOjHaimFvH7TW9Hv+d7Rb+bKtxSNRzlKNwT8ok/IrKGLNGxnLFV25vBboxMa1ULnXASF96c0oz+j3409AWsRWrGZjOpCyw1JgjhHAZpeODCshwfrKxQmPIISn7fxv2nIYrtHqpF9H1/OgsfNJxMq2egjkBbqkZecp0EMjfsu1OjRSMhaqRYH60FcjFrJKrd2ZtxamFRjCXpc3s/LBqteEAAADbQZuTSahBbJlMD//kQAAA7GasmyIvaR2PwCQ3JB6D7V8hAgXr9VAg5UtCSuUSLu97N1d8teC7jtsHIYYB1r4slRdXYUnrRMCh700jMbY5MlktXTuN5gjmEjZlnvvTpCVgsHFXKtbnmRWWtlGvzP/kLLgpKJZYnJKaDKQ0S8+KaIGBTiqq2Nqm8ouON2Htj3VgYqbEDxHx+EMWa1JBxksvQgIUQQsin2s1sWTCO+cL0qm0DergOd2pEDDAcq4TVFm22pVxjX9obbHLqdhLZb/5qklow+t6yiREYo3XAAAAvkGfsUUVLX8AAFpJZOxtH1WdK0GLt43vZAtlmAtJl6dV+GySpqdv/j+IYnFJMBZS6ZnQavKXoJON2TwDvfTNBhkx3N7DxvecgjUzrufWtFWss03gWzeBu91hyesQHJpJpbd/Vy2zyja13ctpvK1S0uL+VqO2BSFGcfeXLFsa/IN9ToE1QaiA8PsX/G/XMkSqsxCqhe2ftYah631Y6zFbBoKPtBLtRiHkoUvH/RdKcImhOPS0P0BOZhS7rXLUeTAAAABkAZ/QdEn/AABoKA7nDNxh2uL8IK3st/3ud5sNdc+6MLNLuWHNgaUp3HfrHd07SLBJePydYuikZb0MKteYmQILPxl+yxJmDtMRiBg0/Sr9bjOtzKjQ5PfN1mX829A5PDVS4sJ2YQAAAFABn9JqSf8AAGmJ/90MFAXpOKze1PVQv0JENHMMli0DE/O9cyhPSDf7uMg67kfLelxpL0DmBO9jnoxYW5Kjq7bjNbJBtXr3kqtA3IZcsPsICAAAAhdBm9dJqEFsmUwP/+RAAADsYe8aEulgg24qUFO6rGphQkILfnaqK+3Ha9Hxph/2AJ0EBixgG3Red1WOUS+H+Dv/VJF+ZaciywF9b7CpFSbn/ghYW12f/m6wZjQjclc0IHqSUr6r40O8Gnviv4o1/dlBEMc/9P1zVlkyADrUJ4hUgNuIQ/81lLXJp2v98e4Dj3Ph5Jfp7K+1whvdHEoIz7AY6ZBAS8dAHv7xwg32e9NBE6EOblg8o0zJCZsh/s4bBFl2lFbQtUSdeB+3V5jxmeQWGxBXcx3WHt6JDM2celJKX/VAmd2/iyQvaiOAUGstxsP3kEvDZIhUY4rsg708ZhnaDy6v5LmH+XHY+RprfyiKIow/zvTRjGIO49uPV1yoGXvyEoB4kaf6Q3QEDRee89h+HuGLWvE8A7m97ddzbzxG83nuMA0VJfP9ZF6GkFB4SxankLoBVd5fbUHS4Mbhx/iUburZKefusjzkLEAQu/fh2sOvRQ/mh7Q+oPMbw36JlkJNOjy3MlMEFKshPLkcPffMEsxIwiPT0H1OHw2kXGcS6VUglXmqi8Ud3ejDkToEPlX469rRUiyNlXuoxVzisglLgvqpXIO/kAAE//Ov7BHG3dEH/GGfXFgnQhHUO3vCX70n09EXjrLCZV3jKQ5K9aHZRlzw6nfUsoc94pyZdI1dLqLgo3tbYl2YxkBC1pEflwAB0aK4e03AAAAAwUGf9UUVLX8AAFo1lMzApT0qrJoAltYUH1PIYuiB2oQpFsEbm7CTExbk/SbAw1T83NfjW7WF2WK+4qT7BKcUeLrGzofXgTt0z9IrBFGpjHRVBomwrEGH+mYHPri7FPQqKWm94TYbD1QaikmDcuWErqCoXWjxGkIbbohpk3k3FO4W93c+Vk8WLSqsfAK2Tg+r2soj1//4tVttjdbaceVQh78ApQSolyctUojudN7EC2BpRD3vszsS7A+JvEi5OkHi8ysAAABfAZ4UdEn/AABppyvTZl2qS4nAkIi35/XYUmQ8Qm3J7kjUT53jrRmviRtKBrz5EZetE9UnIg92mEWithSjt4IRdqm7dZE2D8s0XH5ZBs1NdCNYijBkfzqbG1goP7D/S2AAAAC/AZ4Wakn/AABpF/RdWPGeufga3WPVFCS4QPq9V+FbSk8HSp8bIzuUu4TkFE/kRqAG2h0a8mc8klxn0QKxX10sCyi79Tm1Z7ejN7fSll3iWvmr1IAVk7uF1jmrmvpIFzke+zhQcSA4erCi7worH2h7wSqoI8zraiWfw4Rg3D6r5z1d1mIxqsp9HSl7BnQwX0mCtV7Iwwid/kGRbfAVOB3BoeCZ27Yp8G7BEuJw8r31OEalinWHQ0B3FuOzK7ANOAUAAAEeQZoYSahBbJlMD//kQAAA7Gl44lqMcMiVmgA6Sq5L7yksuIaKQ1eyoqqzQ7kLeX4OOqjunI0FIVpFtiWxAA/znGkgL5ky2fF/IHGf4R9lnfIhMbIbMg33ADzG+X37xNYjLHMNTHkR2ORsKMVyEvCZL+n2KaHvh+Kxo/aXKqtIW77uczAs5wh5az4cGu4RB8biy5qiE7kESFbB7gr+735eL2Ie3z2LlASa/wN1cMIjPdygs0HdxZbgSQ0MkVCo5lG8tq2qDfvP7y5chLx70fyYcaonoA5v+qw6IU7pwPB0AIY1gfSMAJr/kNhGu6icerSHvV3RxXrKbDhm75IIFD7w2RaMHg9Zi/pz/a260yIStXglYItcUq2iKUpVjbIigQAAAL1BmjpJ4QpSZTBRUv/kQAAA7SDiPZm//X0MnV+nc20pO9oWkAmoR/fXlNBtWafCt1DxvTgHVll1Q2bsOVYS2QKQpXunePnhVJt6+iShv6r+LBuOhwad9jWL//4j+DdxnL+ddvm2WjzaGwAQKjFWE81hYTJD+sUfP8y2JPTjC7rxaTXjMQxsD+SVnTBl+/I76pl6b4MXOt8fU3k9ty8rHpYTXlmAdPho4GsbOmxs//H4JpgLftxL3rllE/1vW7AAAAGVAZ5Zakn/AABomgqT3TLckseN9F4fJiRqppb8EhUzlzTitSpc6SvefRwVwxF23YhPif1oL17wkqa9+1Oo8trmbJo7qxnjJ+QDGUIgYzaEXgZNgzUAk5DfjpI+k7DU/vaEuMKtvZwjE93b88MmhrbexQafT7hujxStF8GcI2vSZtDbRxzP6MMbGfWOAccMYx7idPLyrTJgJGMWBdIiI9TLIJh2uAMTjigFvDgDZzqLNyALdT8l9bc252GY+wBWAAxyqboL4MgKgjumGpz19UHJxCMhuedr8DKY+YhBnn1dAwteiuuoFKAeJ41aTmPePIBTMkarZmJkQMr9eUtwx+NNjnTO80zirAFWkdcxMsoB/pGlJIHaTWgz5C/LyQhi457vICnyMyPb6oUSe7WRARq1/Id0veCmOmLFXY9s/CP7+A14dtoy2OajGuy7f32r1gMP3YOhUtSQ9oT8QZahlx9xRH1w4SavBSEC4xzjmm8VcJGkpVTWFzgsMFCNvQ3u82ZkNk7zAmi0u+qIJAdY1+Ko4p2sEu+VAAABD0GaXknhDomUwP/kQAAA7F7TDgo+WNhwI6I/IGhNAgCTNChOOojSvkBc5MWa3FSbUHnnGxX7vBDi2Gz1FCn4J16zXD9gxQUAnS/PH4ICWJ+JnJisR+++JWtwkQZUbR4KX4KtIPIjJlIFkbcTxC0p2DwKjLHkB1LY9MfpOvJfl3goUJ3fvjt5EzTjWf9EQPZf8oX7BPczl5Z/00VcHDbNoESTjcxmHJAQxUldfx1MaE7QD+xaXt+sF1TEsei7qGJO8JKgLpoY/sz2tseILa6yCHCpfaemanNtih2dL+DwxQBbHGFGaEWJNq7CVyk5Zfh/VIRQbyg9kIA7jtFN/PmmEqCrRUpkhR15i883GxvmGJIAAACTQZ58RRU9fwAAWupzaAc+3+rut39hNLIZhO1172bSuvlLKk97nq2orHOofsbmWkhdTu0emt0dkAx4Y8EWkDUehfDNhbhs7YMCyQDpsZTdfYqUiMhmNj39jgAyaxEVLKzdZ0th5tWSR0STHp5nhOZC/BYaiRK7zslX/ueuYfaG6AyLMvgZJiw8oQ4+lLIZxsenNVGBAAAAYQGem3RJ/wAAaDfYrpHaztzLOoPZoqTQF+WnuMPM2R9uViuta3+sCxsHopOD6UHgSgEL/Sh//DOmtjscsd3j7b59FgdAc4rsE0PEnSFoUnGuZWg6agej9X0cCOuPDyCCHdEAAACAAZ6dakn/AABonWQOd+PcMTz9vtvxqsxBqSeYBgUNbTlKj+cb8NjKpDrEzD/KeUTJ+g6hIAZQi8+3XCz1HizMFei4tOCNV2gdOnks8+mnfObbsx7KX/8NAIZgYlFFRxVKJ/svcBB6Kl4uXNkVCVFiQWBQmOJFuzWK6AteJDwaqMAAAAHYQZqBSahBaJlMD//kQAAA7nHHFxqxldY3wv+oyXVcnApjUBs5Cj1fdU/DdokS97YKU4nlQgNY6uGzTMMCuB2AYKAKWG2Mj94RNsE+DRaDUEK0Xpw2jn0U7osMN72iCCtbRYQ0wR63zYP9dLn/4lZNHPMaNdppotnHa51k75I57/po/TIsVujPtboeZKHCYsRzJQeAftsZL4i7AUoEQA900+628sDXPoeLPAIawm2bkdaQh83DkssnB8ae56idZ3+kXha1nbGsxyfqrqBeoiQYadjRDZh5HShjIOC7SNEnViaHyjBM9bzrfURr6cUjB0CYNWPwWIf38kS9iDpxtmx/nDQpz1AXiEWDnYraL+SVJHw0GbSqt9lh7Omo5YzTyk/AA+mhp8Zc0vkCoBqMP0bq0LvVlyq4JKfIVyZEwxMwI9jeSHkabgcc3pnobG7YSw1PM4mDcE3XQa9dJ9YBOa5HrrUopZgGoBXwzHvr70WYAhOokSWiH4mwzctUXS/cqt3Io7wZNSA+pXk+oC21BIFmL+5nQ2o+V4Z7gBgDwAJqEe+6EiNcsx5oBPs0u+oTH1fIfM4AQJLi2ImEKpkUlqIH97e7FZsUCoE9EgWFn82pv1hDXZ7z/B7JzwAAANZBnr9FES1/AABa6PzseEan209evHm6rqs77UpV/F40EltyozZEkZ1oqniYpMGp3JAyUaPgzrVmAidnKxd6LEzHq7NGcci53y5pz7fC7llfKMrjSgiNGhAKkSsUTHncNHkzwv6AZ2COkVBW+beQP5Y41ezlFaZxox64HIuEozJOPxk1Z1q94mXCMF0fVUjHI2KuC1O92qXdQzZgLW4Yr+pdA5EiU4SBaYVNfn0zX6swbyqQGQj8NomLr28ynDS578hcxQmvPRIgZCWyHkNIjrQgnKlpLMVBAAAAswGewGpJ/wAAaMlDrIb1dsQQclYuLX/Ylcvac96Fn05ire6Y5O6nI7OwxWvIqtdEnDU0sJ0BFDRGALFTGrm5TWEMPOXD8u50TWsL+QfsyT9rxmOV/TiI1uVF/Clm5lro0U98kAA/xCOEl5kq5S3aixeyYfBOKTROQhqnk851reX8FU5nJbIzHqy22/r52pPq2CFUT4y0GM/rRiEJQZrZmRssI/D1/asWFjw+AM8tAK6E0+zAAAAA8EGaxUmoQWyZTA//5EAAAOxhh5sJIaz9+PIInqvIup6XFZJhJQR904enlza6TOv/MlhmOzxifhAeouNdMfmJi8innt7UJ1gBk6dC/oG6CK9S41mOSGboFvP2hu5LEb7PMb8Doa/PBazNe8a10t9caOwuuIdasrmqTn9VPo6mHRosz9zxCRHuRMtvNUhISnlZCU3+BcJR0Kb1Z5Ms+AvcJaS/2JGSmPaJyATkAOZh2mOUgvMHma3YAHk2urA9YblJ7M93f7eSKGGPGGVRh6jxB+/MrWxUp0DCN4YeD7N+dKhOCjZvK+wiJn7HmvFvB6bBcQAAAI9BnuNFFS1/AABaXdFlWd16UjJbnSFflPpsFQYfqbb7lLoI1vh/WYLQV8H8MLhz1KPwqEUkycdOjt3k8+Q8O6Jtuf5zZYZEWvwspemSfFNgmQa6y7udkyXQ25fu9Fm8gYBFHIbvh+hSXXORnc194PQa10ghqCZubnyTmTIm1xanu0YbYcqp/h+F4YtiFHOiVAAAAXsBnwJ0Sf8AAGi9Kg8KC+q9lPc4ZccphLA2ZGWyj4iRv3iGaZkuLW4rtvyfemgLRj2PGHlASsVUvjzs5VJGO48ruhYNiDjR9NrEC3mkd68pBvngKVSqHPfpgXjRyj0JiaW6QP/h7k/AKtzoXtjjHoR04Jr+J4bJu4KKYSs7x/pzlMUm5j12c4raUiOwQnZq9c5lHC1Mxw3WK6uP2YN5YIKZa0KLnVmmRW1ZQ1BsBSEvTnTr7ENWMkL8IBHpKN4nsTEyz9wBoB1/+Q+OCDIHION2MHYC+zjf7uZUoqH+6/9HcxtJ0l/cFzetiwWUi7BQYrMIgGPW/DYUVvf1RYmCJDqP1NlCVUKc46PZJ1440v7C+2aIdTC29L5Vrcn9wc6GV13Fv0bN4EDe6URaniZbLwnUZs1hxUPP839RuR7yl/JWt2Qm+LIRbXZVqHeRer2EKJaaC0qM126cRojT5gMe0WK7g96Uf+CfMsCMvI3sLEHV6gA3uNzosxmum77ZAAAAfAGfBGpJ/wAAaKXjC8eynpQLgZqJuhu7NgiaT/h9kLQLsmAv+bjlHt5iPsrgirx5kU9hz784ODBe2W7BXCsSskpCJm5mqMnYFfF1qRKnQN340nZTNY9CYuOlzu7G8otX6RLBx6Q4aMNjkE9MvG5L4q2NT0THrUzx3Kl4B7MAAAE+QZsJSahBbJlMD//kQAAA7nHLI6mO2MgcLPrY/3d0eGc8dMkRqUj6e7CHsB4I+yC9JWzzKz+tvy2xPAvFSJk8KN5mbSsSVJYRr1RyQ3SynFeo8ZsfEjKXy2oTHoDVmkDzx2y6ypqN1mRf4EPlGTpQ/IOEh0qbrvPKbMOdUv2lKpiCdR9PtwICXSEJuUDrJVXoBh/Q/usAg6K+rgQao2zW7SWOe0UwphyxjtXIgfMe683+sRC1xvjhQwAa3Q+lyoqjreaF1ODwdMKeGx82smblEbeYsW2UfVlR8nnav//xGAPvd36NiXo09FHv8CAYj8mwFQvetCTnjZmepJobQxs8Iz+cwGRhQlHrUUWW0cn+4d/Oon+5IggORsFnFDEd99Fw+xJY2VKVr6JYKrQgcIhA7EDwjoWF/WVRHrehgxKhAAAAgkGfJ0UVLX8AAFsTHd+M36+iFuGfS0FIM+DpllWg+/1+sD7Xg+P0uk9K6k6mQfzqnvjKbpq8LKL7wsgjwvJIj2qk+Pff6WPHqGGQF3EWoCf2YMyxAsBr+fBCm5wH49W1+skepRaIDZZ4w7GjU/kQ296/rRtuDJX/ZTC3uWtpQ2GS4EEAAAB1AZ9GdEn/AABoHZvVxWSuk4OSe/t2JPawr+InEB6NCXpm7Wtc+KpluL8gSzYzjZGqrG7boSo47ngcvPDh+OHkwxTyMJ6N1jo0oVFDvjUPqa59/PBG9n0d2mV50cvmeED4uyHnbOEXBnNPIUuWKbh5QsoQb87MAAAAxQGfSGpJ/wAAaE6iBEAqWh1FtrfMWYIcQjG8QsYGL5hQnSvwp/OXE8zwosZik4ztn5N71Nr2zYnniUV2unLJ9U9KHyhbaWTerOSztSuFWUOI97ibAwDmfoe/bMrPSOcpOVR6KiYZc6F9w2heJadXzsTKJFOflxbJPcRK77CPtk7Qb3//l2ScxPWpapQ9n30x3nCGn2RP4eKOEauYnCRKxhT590OZzwvpbo2lfZb9uKDLhpiR21nvwdS4h7Gnauf7yc8V/hswAAAA7UGbTEmoQWyZTA//5EAAAO3DBES+gyYO/4WxFuYf2QgsbNokyXJ6eYeP9engAM0U+7laByAvHaWFI/XEXvCDwa2OlY4ph43zf62m37D2wwAKRlKcpJ8/UUxG63wAkE9BZtXhe8kJG1+bncyjpufPyc+VoWMRnjVl7PgmlWj/2433dmEBRjxQYP6IoJEDsk6TtO3OxeRacxIq5VvS1gAyVS7VpHxKG2b0MnCei8lK1r0sWsYCP41I1WhOSi7EkQU0378gApXf/Rh56i8MMWrLsSc2Ilexro57s0LJvjymzn8tfWd5C1MRTz89+lROgQAAAUhBn2pFFS1/AABa79wHmTZgVFvuFP2Mh+o/0xteFmHy/E4BXAJfwevh6KQ/6eS6TKiuce26WAsmNkV49uQth90OSnV2ziVIgJKxEebSWYWhPXUt5+ThuUsYCtQL0Q41Se6hSUO14YIIx+BHEuQK3pVor8z2JH6iSgDHJC1/3y6YpJT/JRoE3xeyiQYgnnwwdqAtJzZ5Ll3RfFQwlJaKifW8GWyS4ZUfBf8nBG5eYTFgIXTdGmclsjQ6CxAVQISh6yiolw5C5abiq2F4O2ve4+BF/ejM9OKjwvQrwg4PtWED1mQx88C0HBX3usKrb7Rck0f4NJgWZ/0uby18HceWFtom0V7MBnD+oTbUrwCBEDDJpYTsWHWIay4crRLmymSsmB6QwDkg+UOTBXcNKEqTJ+PwKYEq0zlk3/vcq/QokuYgzJkQhinkYhRGAAABXQGfi2pJ/wAAaKRrah5T3OGy70GhiO3M+yLkei+spYr1Txd83/jP374G54CJYE7aZT9bWQ3hk4bX4XqulccOb4JP4AuY5F/fZjLwTU4tcwVZ6yz7ye7BXGn3NXsBy05wAQ+y72EbyKI/OdOehF3v1qx+uCZ9TXXeuFC8PGT/VtrEhfPJejlhDYzclE2Tu+gDRR7JRmBPS70xkynYqJHyZAh+qg/iGYkj10mi2wGVqnYhrfOA1ilqbQ+LzUvo29Sf5tqvAAWAMe6tu2KZ9EDjKqkOF9N3o0NOAFSjIfldHseDjD19vDjPRkrsV7OEl5LCPEAD834jbT1ZeE0hPh7UyksA4aGb1wQaKggKYjHcNbCBLx+1Tte/EEEUJDzxGmOFMQexKSF98fTss2uD8JRBjM+hw0ddFQYCVTWL8wGOmEVXoZn/eCJIRXyh5g8UgQPRqr3vBwwHcj8gWTjS7YAAAAEOQZuQSahBbJlMD//kQAAA7cW4WUsZ1PNjeeG08jcHgkM7k+8kL09sgQwSepBI7rtUcsGsMMZj8wg9y+j3CJRe6ATdPqcKuvLNFw7p6hrV2gNB/OoGXhHgCh5mK/w1TFVaXDC78AM/zZmg0/xkqupRchsy7XgGVnlNgwKHCC35LSQDx2ItOFI7uhnpdigTsLshj6YjLYMQxOTg3J0Y6z8boVA25LTCwMlFUy3RmSslqf1GdrzBeZx1J2L5+BIsW8ptfb/Oom559jdX1GL5uqpmDPp9UCYJgtA0oVD9fv/nJcDvcigiCciCjvUJzQsldBoupC8cNiSBinEOQK+7DVMMjes7MUtKnt23T2N90t4JAAAAgEGfrkUVLX8AAFo14fh7ctZvolt1AjPIwfaKt6mGNMaa0ECX2fS8It4vmq+0Uz+FRIyZsS6HUWnEp20kBLBwWW5OrxSY+SWxwwa5L1Ag5MQKwWA38gsFEPWBz8smdsR3LpldWmeEIlMFg/wm77yqeN4r9kfjKMBHNiVi3wvZgeTBAAAATgGfzXRJ/wAAaMr2druwFD5Been6VqWnxm64MzEiZpdxMeg+Voi27I+6DRPBJ/VDd55fHPKx16g6mzxRG5/mpEE9B032mGvVcP3+6aEowQAAAHUBn89qSf8AAGkX87DPfa2XSO1jO0Be399CgETXwpnPWLFtde7lSgOUD2Kr0BFmQaDcoEvnOHsPUztflV/BXgNkpCvbzBhtoYizSEnohoBVghMkNIGvxa14s8Ab+uwOaURnpK5hjnr6fcUwxZS1MqotzHqgEqAAAAF1QZvSSahBbJlMFE//5EAAAO02Uxf8e/yhBsP5SBiVKTWthbFov+PxoNYwy7ZSZYY0HlOKX92nX4EMkVHk/67JeZKA2NgooPfgSH6g1dMsOn/9fCF9OS8PgO1pbvqc5Ls5VZTmKdq+FmkcmDn2FVIIpf5e9S+gHVSCWivIK/Z4WUic4y8ZYDipoYyBNWxtPSjnHhnV9U/8Ry/pJ9kPtqkG1kEd7ElXL6Rj4qli/fLcZjhSmWVRHDdj7TR0hxl799uGbd1NY4PFXK/GLhdRuTwys3jsjbSafgKguW8fE84vZCa8becY52r+jdYJbf98RJzMtwENcBHZAV9W65eTAMKiRtnymCdJKjiILqzAaD9O/8nmhWCpkOo1hppsJL1NxvQ4gJoA+5XECKt+aIClAJnPr8uCR2DXV6qilSnzbccZXsk9MAuj2zjpNMBGQiPsyJDekiu3gNOFw4ZHEcxTUeEJEhj1+sNVjIJz2xr6jNPZG7SW3htltgAAAIQBn/FqSf8AAGkObR6iYktgJ2cIATwdSzUgoH6w3c/r4INlulpHThq3QdrOxaDr+MoGDyB3BkE2jpkFVUiKFDfT+WP10Y61Ssu+oFmwdog1uoj5R+MGrZqtO2zznqG8yrxWTcdvQ/Yl3/3N3tcbeGj5WhA+/H3D5W3nObr6K2nkCPM97vcAAAGEQZv0SeEKUmUwUv/kQAAA7R40wmA2Jy+SOiP4K+Lt+ufJAhQZjF+CFbuf2wk6O4YH9IgjGqEN53juCKbxzsynQ3AwQIb7x5OMyorsL+WqrqGfdACl+Nuwn/ydyb/chJquKAluECDnJxfpFlUCevwJWFCJoYTGIjqJ8dTvkl2oBZiLzTvaafd+LOLqWVBsRCsR2qifu6KO8Gua5mnv9WK06J7q+yJYiJKPkwnq83SN2bn7juI4DwKg+UvAZs3Xq/7WbCeYsjV7TGKMN/Xm2asVFgf18FPXVR8P06ZPTBS7bL58UzjBcstj98v3OiX4ZYUGEH6lUKcHS/fpgju+4U7ADfX1wUbc4SC4tVfkueeQWgpHAOtaNudfHMDSS7wX5MC/fRETNUvgebxIUlPPtKIiDvaFhQ3rzV40/cEC+vQokf6jiqHgs/DF6ktETsjr8OmXhZQ/oqO39yvqn88vvX2N9JyETNGcomWHkX+G0/y+WvvtumDjHnvS4uJWCfJJ6SkmZkiooAAAAPQBnhNqSf8AAGjISVa23BKkq99x2CI2NOAM2YfYuoM2CvFBmHRlwN1fUvEXHkWo0YYLHzB33C0Z18NZqsb3QSUdL5W81XzPSesPHNlxEMBjVxpUlX2kmUzNIZ0BU/9yMZJtDVISa6bSOK2+VDURirnNX9Nl6TPJDehGZtty624oM6c20stOX356iQFGoqgYwDJeEDiuolJ9JE2HR7EGYTkAEBGKezGAX/usHHNyI68J3LobtK6H3ICjM7WnElwl3lg7m/k/MyWayiCjRlcN4yVgRbqv/rThTaoTmUMqaMYxKvrK5/JxUcYMsmRHy+CfE317w9qQAAAAtkGaFknhDomUwUT/5EAAAO4cXgWQgqNPTrhFxeovwp8Tnz/w6SdQRudj/8/fOKarHt4qAW3bdau1JG3DrGDXTG+JWE/CfBkXXjtBERTSDGf5SbnJjXB6ld0KTf3sXtwqoJnil/t5R86K7LRG8FqfGto1LNEUyxfW6NA6242TSOQLxDd4hY1iTXfv4HNwoTnHWTXbwQxIuZpEIPleChZE7Xd1T3lH4ukSARbjaZ+WZEUVRNa/mE6BAAABrwGeNWpJ/wAAaSpXkkAynucRZJ4dAPBUed/WjG2DCE6AyFM525UCzXgoBsdSKlnIsPO1n3l3pdllskBGRLKY3d9OOERw/eYfT+SV3SJoa0dAcS1sYWWXJPcJVG6/SVONQ/Y/NkIeuLSCiEktR8szSa47/nMkHLJZEUj58P3pr4KJTBsv3G1h21KGvqyUybKwiCKvDU/DAAzXzc1f1b9ovzk9vtlgWRSUVkeBl6LSE9Sh49nUXuFfIEZr1Xj9NQbfUqw7zEkfJ0SCV5ywbLoJQmXHKR8W22QxIOpx6uwQP+MZrHPjt7hN6EUrSJijLxanJuFxrj/52BeqyPDARwkoOyXYe0/L+z6cGFKWL88KK4EwdgR3hQi42pwbWrd4t+FlJPHwuM5HRSPK3by1TdwhQrUGLIAPfbHJ5AiU+YljEtz9HmEYHx8ruCV1L4PgllXUs3l46LdGXALGNOzme4ZYhC98+L8Ey49sThtWcJWibt0gpHHhERNUhqPgB/P3abYH5wielejWklbMLKmly8PZEvXh/U/+mEmGT+/Ppo9DbdKMcQpar4JXxUPQ8RHSIc2YAAABPUGaOknhDyZTA//kQAAA7F6fAT6P/ZkN0nXCVKQNJQwli9vt3QmOwPG17Zru++vxNUGpU9XBFyswqggHM3iXk47kDURVCFlqZjYQFbYz+qqvizRo/gF4pEfl7Y/fXxdpTXjxhnqGBXPZ1St2dQ03OVsBwuxfzUEziaCX/IarP2gtecdei47GWWMCf4tTPEGrR+lskHxkAXq+Tv4k/IRFm6vjGGNAGEM/4/T1OeJh5StsRRr1t9/hauk0w0IJaA1NKA8C+dUKeOW3eL3odidTNF+nEIy9tt8EIVBDx8V5vwk1vTpXiqXTbEQ3U27XoCWq5oPtpIimw9Fm/pRFM3YMcnRQYY7SI64jS7pilH+saNqjfP59P18wRLje8wGk/eslOhx9d6vhmQCw21Pfi72deLLXiO54ojbrSoMAnGuXAAAAwkGeWEURPX8AAFoWQPBbKWMBDhDKkRsTh8ql3r1OPXre/y7Lu0fPFfHzwxwxTLxf/2iOI8xBYoqsozaBZSlpTdF3p3gLVkGY0G/GqrnbES0MoPiRN4BljKAwhLmucctMnX9/FmcI5f3QBnTpVNYHF6EOxgSFyU+oIiyPL+dltHzZl4v/0FhWb4A3yS7xdcByWk0uTaLfQtqvXXpKKeVGmsyRGTETy695EQwfkevT1wXItOYOPjacgatXKvvj95nHnBbhAAAAVwGed3RJ/wAAaDAvt5eyxhdI7PeFck5/gPBS3t9gmPnvnqBUKXBwcD+oRt833xhlZSPMml6z05q4qlkMc7YcgVPZrKi50Yi9oBt56VqQ5oJhbn4JF7CQmAAAAGUBnnlqSf8AAGmnMGbLgX0k44N6AZb3QDwEFSIlj3HSV/ahIuQi4r0bpUaFglK6jCm/kMURVyCN1vlHg4IvmvdmRPzCrT8oiiVr7PJ+JiQNVtRaQpaHVonTVxZMgTFBfabSHg29gQAAAb1Bmn1JqEFomUwP/+RAAADtNnby7tgfBwpPS9uci28SpaXaha2OzW+ZSzth9ESBgyTTYr5YVGY04zfFDHvKjQYg3vaZ2rLxQvYKaSIrr12hvEKVQPuDKgai6KtE5tf56k3kxYGDsEbophzZ6fCEJRDveHjrJ/dqJDYQ51fCYVOSfn5gGOkTl/++L5uvxZ4/tfgWgQZR4/agHV2TXLqwe/62kb+yIgluBTpVHpXhEB8CMUkjpIqCAhxDB4QxQDyRlHiSyLdHSnsJ0AwU02GZq+XbpBPUi2oYqRwoFiBbqHvEBfNvE2pzUaL7JMJpbYNv6iHjb7+691F4gvdoyjrPzSbENN52oY2F8w7H7/5j6zO2gV6hwTIkBsNdIiT0dZtR2vm3njCOZ0lcddzhqcsamRaSO7crHNsnkPfpujYhW5hQZ4R7F2XnB+fKP2J362fPZHj/hhmyXtqlZAMx0qr4iIgYcRNzWdvfNTkbfdflpcpWyb8ogVZ4ozrafjlsgfvr6BcGk1j0XSHMZ0Z4JMWyWrfBXPVjjZl4pjcVRK9C8zGVcFUFNylgbKhRQgBpfbBvyJIlgB47w1xoGWrp0fSZAAAA1EGem0URLX8AAFmwQPs+Pr5fxJnWFRMTiIdX0heCdhxHSllx1OCtX7FZVD4bFLYQ4DsLUuJ7US+jAPrpdO6CHwEnyWEOhNfdBKHdSdusVOQ70cVsbe8ObxB6gCVci2t8/1fArCsNw7wheUNVY3vhUQ4nlKrdtU89XekGKntbIbovEXOjCmHqtGc3+QlUAHHkPyddedKtZDqVT1Hf4UR9VHjozqjBlCO+yMfY0g8CkUFpYCA84qGpDmiO6jAHaGctgNgv3uSBw78Oz7uWi7Psu/hqf7eXAAAAxAGevGpJ/wAAaJoCAtAguj/sAeFGl0HchUto8wCLyr46bqZeNlK7QoHSlV5d/ZdCzsJXEpdE459raJqEbHVPxOblmbuSjdK71Y2WSVuuOLnGkqfKstEA+0angQ4et8jmEpm7EsxpjGRy1JTH6Fq56DwXgfZZf/9+ck6jDyztYpsrd6W9wHq7mnPLDSYwno8RtO4f4lIMxzb8fBr/Y5b/mJ7xDUoRHNPRz8j0Pt74xgddWWwrVy2fXoGHXaJT1sOgHzSDgEEAAAGIQZq+SahBbJlMD//kQAAA7Gl4jVGc0J0DRo8exDiX36yOx+Age6L+eSXeJt7ZImn+1GKgOLGI7mzsxadXQ7vR43xnefh3tkUaymKWCjGtATCWbZ9MuyGdQISg+fFhQMAxS0IwBtIDgXLcc0VTbJIqnr/HPT3uferc8yn0rLa5sMlhCnk6Y42iO6jLoXWxubaa9ghLRJ4ALiZPSlrrJS90EwzRZkNBx64h5ZYdlHn1Nm/NTlCfRNrd5b+1HbbuHLaJYwjqfXI8hlxaUHNOPcsztrx1H8/JngDqRsXQnsmz2GwXAkrPDfCPCIHYYROIJlw0eXVCGc1TJ6NC/NVtwW82BM0oYD709tKmfbU8zMbXZedd7qkPtk+lbuqseggP20+UYD4mWASt7iq2hncuhocMVceUYAYAGABdZ94Soyh7emU37EqnywxXeNukkqCpfOYYBEcBBSdG3dtpHwPIF3HZElwj85Of3LgcFwAm6ccTG1ZeDoNaeXZEuE9OT8cMrm0vzRgd1poZvvAAAAdPbW9vdgAAAGxtdmhkAAAAAAAAAAAAAAAAAAAD6AAADF8AAQAAAQAAAAAAAAAAAAAAAAEAAAAAAAAAAAAAAAAAAAABAAAAAAAAAAAAAAAAAABAAAAAAAAAAAAAAAAAAAAAAAAAAAAAAAAAAAAAAAAAAgAABnl0cmFrAAAAXHRraGQAAAADAAAAAAAAAAAAAAABAAAAAAAADF8AAAAAAAAAAAAAAAAAAAAAAAEAAAAAAAAAAAAAAAAAAAABAAAAAAAAAAAAAAAAAABAAAAAAlgAAAGQAAAAAAAkZWR0cwAAABxlbHN0AAAAAAAAAAEAAAxfAAAEAAABAAAAAAXxbWRpYQAAACBtZGhkAAAAAAAAAAAAAAAAAAA8AAAAvgBVxAAAAAAALWhkbHIAAAAAAAAAAHZpZGUAAAAAAAAAAAAAAABWaWRlb0hhbmRsZXIAAAAFnG1pbmYAAAAUdm1oZAAAAAEAAAAAAAAAAAAAACRkaW5mAAAAHGRyZWYAAAAAAAAAAQAAAAx1cmwgAAAAAQAABVxzdGJsAAAAmHN0c2QAAAAAAAAAAQAAAIhhdmMxAAAAAAAAAAEAAAAAAAAAAAAAAAAAAAAAAlgBkABIAAAASAAAAAAAAAABAAAAAAAAAAAAAAAAAAAAAAAAAAAAAAAAAAAAAAAAAAAAGP//AAAAMmF2Y0MBZAAe/+EAGWdkAB6s2UCYM+XhAAADAAEAAAMAPA8WLZYBAAZo6+GyyLAAAAAYc3R0cwAAAAAAAAABAAAAXwAAAgAAAAAUc3RzcwAAAAAAAAABAAAAAQAAAtBjdHRzAAAAAAAAAFgAAAABAAAEAAAAAAEAAAoAAAAAAQAABAAAAAABAAAAAAAAAAEAAAIAAAAAAQAACAAAAAACAAACAAAAAAEAAAQAAAAAAQAACgAAAAABAAAEAAAAAAEAAAAAAAAAAQAAAgAAAAABAAAIAAAAAAIAAAIAAAAAAQAACAAAAAACAAACAAAAAAEAAAoAAAAAAQAABAAAAAABAAAAAAAAAAEAAAIAAAAAAQAABgAAAAABAAACAAAAAAEAAAgAAAAAAgAAAgAAAAABAAAEAAAAAAEAAAYAAAAAAQAAAgAAAAABAAAKAAAAAAEAAAQAAAAAAQAAAAAAAAABAAACAAAAAAEAAAoAAAAAAQAABAAAAAABAAAAAAAAAAEAAAIAAAAAAQAABAAAAAABAAAKAAAAAAEAAAQAAAAAAQAAAAAAAAABAAACAAAAAAEAAAoAAAAAAQAABAAAAAABAAAAAAAAAAEAAAIAAAAAAQAACgAAAAABAAAEAAAAAAEAAAAAAAAAAQAAAgAAAAABAAAKAAAAAAEAAAQAAAAAAQAAAAAAAAABAAACAAAAAAEAAAQAAAAAAQAABgAAAAABAAACAAAAAAEAAAoAAAAAAQAABAAAAAABAAAAAAAAAAEAAAIAAAAAAQAACAAAAAACAAACAAAAAAEAAAoAAAAAAQAABAAAAAABAAAAAAAAAAEAAAIAAAAAAQAACgAAAAABAAAEAAAAAAEAAAAAAAAAAQAAAgAAAAABAAAIAAAAAAIAAAIAAAAAAQAACgAAAAABAAAEAAAAAAEAAAAAAAAAAQAAAgAAAAABAAAGAAAAAAEAAAIAAAAAAQAABgAAAAABAAACAAAAAAEAAAYAAAAAAQAAAgAAAAABAAAKAAAAAAEAAAQAAAAAAQAAAAAAAAABAAACAAAAAAEAAAgAAAAAAgAAAgAAAAABAAAEAAAAABxzdHNjAAAAAAAAAAEAAAABAAAAXwAAAAEAAAGQc3RzegAAAAAAAAAAAAAAXwAABZEAAAFfAAAAvgAAAGsAAACEAAAAkgAAAMwAAACSAAABFAAAAQAAAAD6AAABPAAAAHAAAAFBAAAAeQAAAIgAAAILAAAAtwAAANcAAAEEAAAA9gAAAYMAAABnAAAA6gAAAGcAAAFxAAAAtAAAAKIAAAD6AAABFQAAASIAAAD4AAAAiQAAAGcAAABqAAACMwAAAQoAAACpAAAA6wAAANoAAADeAAAAmAAAAGUAAACIAAACRwAAAU4AAACyAAAA+gAAAN8AAADCAAAAaAAAAFQAAAIbAAAAxQAAAGMAAADDAAABIgAAAMEAAAGZAAABEwAAAJcAAABlAAAAhAAAAdwAAADaAAAAtwAAAPQAAACTAAABfwAAAIAAAAFCAAAAhgAAAHkAAADJAAAA8QAAAUwAAAFhAAABEgAAAIQAAABSAAAAeQAAAXkAAACIAAABiAAAAPgAAAC6AAABswAAAUEAAADGAAAAWwAAAGkAAAHBAAAA2AAAAMgAAAGMAAAAFHN0Y28AAAAAAAAAAQAAADAAAABidWR0YQAAAFptZXRhAAAAAAAAACFoZGxyAAAAAAAAAABtZGlyYXBwbAAAAAAAAAAAAAAAAC1pbHN0AAAAJal0b28AAAAdZGF0YQAAAAEAAAAATGF2ZjU3LjgzLjEwMA==\" type=\"video/mp4\"/>\n",
              "      This browser does not support the video tag.\n",
              "      </video></td></tr></table>"
            ]
          },
          "metadata": {}
        },
        {
          "output_type": "stream",
          "name": "stdout",
          "text": [
            "[10.0, 10.0, 10.0, 9.0, 9.0, 10.0, 9.0, 9.0, 10.0, 9.0]\n"
          ]
        }
      ]
    },
    {
      "cell_type": "code",
      "source": [
        "import tensorflow.keras as k\n",
        "import tensorflow.keras.layers as kl\n",
        "\n",
        "class DQNAgent():\n",
        "    def __init__(self, instincts, state_size, action_size, memory):        \n",
        "        self.state_size         = state_size\n",
        "        self.action_size        = action_size\n",
        "        self.memory             = memory\n",
        "        self.learning_rate      = 0.001\n",
        "        self.gamma              = 0.95              \n",
        "        self.brain              = self._build_model(instincts)\n",
        "\n",
        "    def _build_model(self, instincts):\n",
        "        # Neural Net for Deep-Q learning Model \n",
        "        inputs = k.Input(shape=(self.state_size,))\n",
        "        dense_in = instincts[0]\n",
        "        dense1 = instincts[1]\n",
        "        dense2 = instincts[2]\n",
        "        dense3 = instincts[3]\n",
        "        dense_out = instincts[4] # kl.Dense(self.action_size, activation='linear')\n",
        "\n",
        "        x = dense_in(inputs)\n",
        "        x1 = dense1(x)\n",
        "        x2 = dense2(x)\n",
        "        x3 = dense3(x)\n",
        "        x = kl.concatenate([x1, x2, x3])\n",
        "        outputs = dense_out(x)\n",
        "        model = k.Model(inputs=inputs, outputs=outputs)\n",
        "        model.compile(loss='mse', optimizer=k.optimizers.Adam(learning_rate=self.learning_rate))\n",
        "        return model\n",
        "\n",
        "    def save_model(self):\n",
        "            self.brain.save(self.weight_backup)\n",
        "            \n",
        "    def mem_usage(self):\n",
        "            return len(self.memory)/2000\n",
        "\n",
        "    def act(self, state): \n",
        "        #no need for random search anymore       \n",
        "        #if np.random.rand() <= .3:\n",
        "            #return random.randrange(self.action_size)\n",
        "        act_values = self.brain.predict(state)        \n",
        "        return np.argmax(act_values[0])\n",
        "\n",
        "    def remember(self, state, action, reward, next_state, done):\n",
        "        self.memory.append((state, action, reward, next_state, done))    \n",
        "\n",
        "    def replay(self, batch_size):\n",
        "        if len(self.memory) < batch_size:\n",
        "            return        \n",
        "        sample_batch = random.sample(self.memory, batch_size)\n",
        "        for state, action, reward, next_state, done in sample_batch:\n",
        "            target = reward\n",
        "            if not done:\n",
        "              target = reward + self.gamma * np.amax(self.brain.predict(next_state)[0])\n",
        "            target_f = self.brain.predict(state)\n",
        "            target_f[0][action] = target\n",
        "            self.brain.fit(state, target_f, epochs=1, verbose=0)\n",
        "        "
      ],
      "metadata": {
        "id": "x1kV68sVPGjW"
      },
      "execution_count": 62,
      "outputs": []
    },
    {
      "cell_type": "code",
      "source": [
        "state_size = env.observation_space.shape[0]\n",
        "action_size = env.action_space.n\n",
        "print(state_size, action_size)"
      ],
      "metadata": {
        "colab": {
          "base_uri": "https://localhost:8080/"
        },
        "id": "y8ZqeJQoEvsJ",
        "outputId": "2679b9f2-0276-4b56-d5e3-55d735ed496c"
      },
      "execution_count": 63,
      "outputs": [
        {
          "output_type": "stream",
          "name": "stdout",
          "text": [
            "8 4\n"
          ]
        }
      ]
    },
    {
      "cell_type": "code",
      "source": [
        "input_layers = [\n",
        "          kl.Dense(24, activation=\"relu\"),\n",
        "          kl.Dense(24, activation=\"relu\"),\n",
        "          kl.Dense(24, activation=\"relu\"),          \n",
        "]\n",
        "\n",
        "middle_layers = [\n",
        "          kl.Dense(8, activation=\"relu\"),\n",
        "          kl.Dense(8, activation=\"relu\"),\n",
        "          kl.Dense(8, activation=\"relu\"),               \n",
        "]\n",
        "\n",
        "output_layers = [\n",
        "          kl.Dense(action_size, activation=\"linear\"),\n",
        "          kl.Dense(action_size, activation=\"linear\"),\n",
        "          kl.Dense(action_size, activation=\"linear\"),          \n",
        "]\n",
        "\n",
        "state_size = env.observation_space.shape[0]\n",
        "action_size = env.action_space.n\n",
        "memory = deque(maxlen=2000)\n",
        "\n",
        "instincts = [\n",
        "             random.choice(input_layers),\n",
        "             random.choice(middle_layers), \n",
        "             random.choice(middle_layers),\n",
        "             random.choice(middle_layers),\n",
        "             random.choice(output_layers)\n",
        "             ]\n",
        "agent = DQNAgent(instincts, state_size, action_size, memory)"
      ],
      "metadata": {
        "id": "b7btGPXd6KVi"
      },
      "execution_count": 64,
      "outputs": []
    },
    {
      "cell_type": "code",
      "source": [
        "done = False\n",
        "\n",
        "for i in range(5):\n",
        "  rewards = 0\n",
        "  instincts = [random.choice(input_layers),\n",
        "               random.choice(middle_layers),\n",
        "               random.choice(middle_layers),\n",
        "               random.choice(middle_layers),\n",
        "               random.choice(output_layers)\n",
        "               ]\n",
        "  agent = DQNAgent(instincts, state_size, action_size, memory)  \n",
        "  state = env.reset()\n",
        "  state = np.reshape(state, [1, state_size])\n",
        "  done=False\n",
        "  while not done:    \n",
        "    action = agent.act(state)   \n",
        "    next_state, reward, done, _ = env.step(action) \n",
        "    rewards += reward   \n",
        "    next_state = np.reshape(next_state, [1, state_size])\n",
        "    agent.remember(state, action, reward, next_state, done)\n",
        "    state = next_state \n",
        "  agent.replay(32)    \n",
        "  print(rewards)"
      ],
      "metadata": {
        "colab": {
          "base_uri": "https://localhost:8080/"
        },
        "id": "dDIY9C8I63im",
        "outputId": "1b0780b6-d9a9-4c37-f0c4-607fcfaacc73"
      },
      "execution_count": 65,
      "outputs": [
        {
          "output_type": "stream",
          "name": "stdout",
          "text": [
            "-114.60003355548169\n",
            "-523.1273890915277\n",
            "-129.35058013052787\n",
            "-2556.198132513828\n",
            "-703.3459464809407\n"
          ]
        }
      ]
    },
    {
      "cell_type": "code",
      "source": [
        "frames = []\n",
        "state = env.reset()\n",
        "done = False\n",
        "while not done:  \n",
        "  state = np.reshape(state, [1, state_size])\n",
        "  action = agent.act(state)\n",
        "  next_state, reward, done, _ = env.step(action)  \n",
        "  state = next_state\n",
        "  fitness += reward\n",
        "  #frames.append(env.render(mode='rgb_array'))\n",
        "env.close()\n",
        "\n",
        "print(fitness)\n",
        "#mediapy.show_video(frames, fps=30)"
      ],
      "metadata": {
        "colab": {
          "base_uri": "https://localhost:8080/"
        },
        "id": "_A4EfUci_juk",
        "outputId": "9e55ce1c-ee60-4d4c-e9a6-e57da3d4ab65"
      },
      "execution_count": 66,
      "outputs": [
        {
          "output_type": "stream",
          "name": "stdout",
          "text": [
            "-1867.653082091376\n"
          ]
        }
      ]
    },
    {
      "cell_type": "code",
      "source": [
        "#@title Create the Environments \"CartPole-v1\", \"Acrobot-v1\", \"MountainCar-v0\", \"LunarLander-v2\"\n",
        "environments = [\n",
        "                #gym.make(\"MountainCar-v0\"),\n",
        "                gym.make(\"CartPole-v1\"),\n",
        "                #gym.make(\"Acrobot-v1\"),\n",
        "                gym.make(\"LunarLander-v2\"),\n",
        "                ]\n",
        "print(str(environments[0]))"
      ],
      "metadata": {
        "colab": {
          "base_uri": "https://localhost:8080/"
        },
        "id": "j8Y8jRIy0W2S",
        "outputId": "b120213d-4e6b-4692-c133-13c27417ec25"
      },
      "execution_count": 68,
      "outputs": [
        {
          "output_type": "stream",
          "name": "stdout",
          "text": [
            "<TimeLimit<CartPoleEnv<CartPole-v1>>>\n"
          ]
        }
      ]
    },
    {
      "cell_type": "code",
      "source": [
        "#@title Simulate over all environments\n",
        "middle_layers = [\n",
        "          kl.Dense(8, activation=\"relu\"),\n",
        "          kl.Dense(8, activation=\"relu\"),\n",
        "          kl.Dense(8, activation=\"relu\"), \n",
        "          kl.Dense(8, activation=\"relu\"),\n",
        "          kl.Dense(8, activation=\"relu\"),\n",
        "          kl.Dense(8, activation=\"relu\"),                \n",
        "]\n",
        "\n",
        "input_layers = [kl.Dense(24, activation=\"relu\") for e in environments]\n",
        "output_layers = [kl.Dense(e.action_space.n, activation=\"linear\") for e in environments]\n",
        "memories = [ deque(maxlen=2000) for e in environments]            \n",
        "\n",
        "for i in range(3):\n",
        "  total = 0\n",
        "  for i, env in enumerate(environments):\n",
        "    rewards = 0\n",
        "    instincts = [input_layers[i], \n",
        "                 random.choice(middle_layers),\n",
        "                 random.choice(middle_layers),\n",
        "                 random.choice(middle_layers),\n",
        "                 output_layers[i],\n",
        "                 ]\n",
        "    state_size = env.observation_space.shape[0]\n",
        "    action_size = env.action_space.n\n",
        "    agent = DQNAgent(instincts, state_size, action_size, memories[i])  \n",
        "    state = env.reset()\n",
        "    state = np.reshape(state, [1, state_size])\n",
        "    done=False\n",
        "    while not done:    \n",
        "      action = agent.act(state)   \n",
        "      next_state, reward, done, _ = env.step(action) \n",
        "      rewards += reward   \n",
        "      next_state = np.reshape(next_state, [1, state_size])\n",
        "      agent.remember(state, action, reward, next_state, done)\n",
        "      state = next_state \n",
        "    agent.replay(32) \n",
        "    total += rewards   \n",
        "  print(total/len(environments))"
      ],
      "metadata": {
        "colab": {
          "base_uri": "https://localhost:8080/"
        },
        "id": "8DDXDgEtJHiZ",
        "outputId": "3e6a176e-d5db-4239-ba91-0c70ab799cfa"
      },
      "execution_count": 69,
      "outputs": [
        {
          "output_type": "stream",
          "name": "stdout",
          "text": [
            "-372.00228252323103\n",
            "-166.98226534651968\n",
            "-1657.0538473574677\n"
          ]
        }
      ]
    },
    {
      "cell_type": "code",
      "source": [
        "#@title Define the base gene sequence\n",
        "ENVIRONMENTS = len(environments)\n",
        "\n",
        "LAYERS = [\n",
        "          kl.Dense(8, activation=\"relu\"),\n",
        "          kl.Dense(8, activation=\"relu\"),\n",
        "          kl.Dense(8, activation=\"relu\"),\n",
        "          kl.Dense(8, activation=\"relu\"),                           \n",
        "]\n",
        "\n",
        "input_layers = [kl.Dense(24, activation=\"relu\") for e in environments]\n",
        "output_layers = [kl.Dense(e.action_space.n, activation=\"linear\") for e in environments]\n",
        "memories = [ deque(maxlen=2000) for e in environments] \n",
        "\n",
        "def create_offspring():\n",
        "  individual = []\n",
        "  for e in environments:\n",
        "    individual.append(random.uniform(0., 1.))\n",
        "    individual.append(random.uniform(0., 1.))\n",
        "    individual.append(random.uniform(0., 1.))  \n",
        "  return individual\n",
        "\n",
        "individual = create_offspring()\n",
        "print(individual)"
      ],
      "metadata": {
        "colab": {
          "base_uri": "https://localhost:8080/"
        },
        "id": "XMZx_-6x0CEh",
        "outputId": "fe2bb26b-6103-40cf-f0a9-56f226f58793"
      },
      "execution_count": 70,
      "outputs": [
        {
          "output_type": "stream",
          "name": "stdout",
          "text": [
            "[0.03845566253792376, 0.028797214902520074, 0.09473298188859736, 0.8399233710532628, 0.21627573356577445, 0.4192286655351187]\n"
          ]
        }
      ]
    },
    {
      "cell_type": "code",
      "source": [
        "#@title Setting up the Creator\n",
        "creator.create(\"FitnessMax\", base.Fitness, weights=(1.0,))\n",
        "creator.create(\"Individual\", list, fitness=creator.FitnessMax)"
      ],
      "metadata": {
        "colab": {
          "base_uri": "https://localhost:8080/"
        },
        "id": "LLvhFNHQyL9O",
        "outputId": "cbd7c3a8-512e-4330-a2a3-bc4b5b8c2015"
      },
      "execution_count": 71,
      "outputs": [
        {
          "output_type": "stream",
          "name": "stderr",
          "text": [
            "/usr/local/lib/python3.7/dist-packages/deap/creator.py:141: RuntimeWarning: A class named 'FitnessMax' has already been created and it will be overwritten. Consider deleting previous creation of that class or rename it.\n",
            "  RuntimeWarning)\n",
            "/usr/local/lib/python3.7/dist-packages/deap/creator.py:141: RuntimeWarning: A class named 'Individual' has already been created and it will be overwritten. Consider deleting previous creation of that class or rename it.\n",
            "  RuntimeWarning)\n"
          ]
        }
      ]
    },
    {
      "cell_type": "code",
      "source": [
        "#@title Create Individual and Population\n",
        "NDIM = len(LAYERS)\n",
        "\n",
        "toolbox = base.Toolbox()\n",
        "toolbox.register(\"network\", create_offspring)\n",
        "toolbox.register(\"individual\", tools.initIterate, creator.Individual, toolbox.network)\n",
        "toolbox.register(\"population\", tools.initRepeat, list, toolbox.individual)\n",
        "\n",
        "toolbox.register(\"mate\", tools.cxTwoPoint)\n",
        "toolbox.register(\"mutate\", tools.mutGaussian, mu=0.0, sigma=1, indpb=1.0/NDIM)\n",
        "toolbox.register(\"select\", tools.selTournament, tournsize=3)"
      ],
      "metadata": {
        "id": "AQ5E1q8ly2hU"
      },
      "execution_count": 72,
      "outputs": []
    },
    {
      "cell_type": "code",
      "source": [
        "def clamp(minv, maxv, v):\n",
        "  return min(max(v, minv), maxv)\n",
        "\n",
        "def convert_layer(layer):\n",
        "  return clamp(0, len(LAYERS)-1, int(layer * len(LAYERS)))\n",
        "\n",
        "print(convert_layer(.1))\n",
        "print(convert_layer(.3))\n",
        "print(convert_layer(.5))\n",
        "print(convert_layer(.7))\n",
        "print(convert_layer(.9))"
      ],
      "metadata": {
        "colab": {
          "base_uri": "https://localhost:8080/"
        },
        "id": "SgD3J_f-UG6n",
        "outputId": "14743bf6-8416-4550-e360-f8f3a17149cb"
      },
      "execution_count": 73,
      "outputs": [
        {
          "output_type": "stream",
          "name": "stdout",
          "text": [
            "0\n",
            "1\n",
            "2\n",
            "2\n",
            "3\n"
          ]
        }
      ]
    },
    {
      "cell_type": "code",
      "source": [
        "#@title Create and Register Evaluate Function\n",
        "#environment_max_rewards = [-1000 for e in environments]\n",
        "input_layers = [kl.Dense(24, activation=\"relu\") for e in environments]\n",
        "output_layers = [kl.Dense(e.action_space.n, activation=\"linear\") for e in environments]\n",
        "memories = [ deque(maxlen=20000) for e in environments]  \n",
        "\n",
        "def evaluate(individual, train=False):  \n",
        "  total = 0\n",
        "  for i, env in enumerate(environments):   \n",
        "    rewards = 0    \n",
        "    layer1 = convert_layer(individual[i*3])\n",
        "    layer2 = convert_layer(individual[i*3+1])    \n",
        "    layer3 = convert_layer(individual[i*3+2])  \n",
        "\n",
        "    instincts = [input_layers[i],\n",
        "                 LAYERS[layer1],\n",
        "                 LAYERS[layer2],\n",
        "                 LAYERS[layer3],\n",
        "                 output_layers[i],\n",
        "                 ]\n",
        "    state_size = env.observation_space.shape[0]\n",
        "    action_size = env.action_space.n\n",
        "    agent = DQNAgent(instincts, state_size, action_size, memories[i])  \n",
        "    state = env.reset()\n",
        "    state = np.reshape(state, [1, state_size])\n",
        "\n",
        "    done=False\n",
        "    while not done:    \n",
        "      action = agent.act(state)   \n",
        "      next_state, reward, done, _ = env.step(action) \n",
        "      rewards += reward   \n",
        "      next_state = np.reshape(next_state, [1, state_size])\n",
        "      agent.remember(state, action, reward, next_state, done)\n",
        "      state = next_state    \n",
        "    total += rewards \n",
        "    if train:\n",
        "      #only train if the agent is the best      \n",
        "      agent.replay(32)\n",
        "    \n",
        "  print(total/len(environments))\n",
        "  return total/len(environments),\n",
        "\n",
        "toolbox.register(\"evaluate\", evaluate)   "
      ],
      "metadata": {
        "id": "92nfzNTTQlWu"
      },
      "execution_count": 85,
      "outputs": []
    },
    {
      "cell_type": "code",
      "source": [
        "#@title Setup Evolution\n",
        "MU = 5 #@param {type:\"slider\", min:5, max:1000, step:5}\n",
        "NGEN = 1000 #@param {type:\"slider\", min:5, max:1000, step:1}\n",
        "RGEN = 1 #@param {type:\"slider\", min:1, max:100, step:1}\n",
        "CXPB = .6\n",
        "MUTPB = .3\n",
        "\n",
        "random.seed(64)\n",
        "\n",
        "pop = toolbox.population(n=MU)\n",
        "hof = tools.HallOfFame(1)\n",
        "stats = tools.Statistics(lambda ind: ind.fitness.values)\n",
        "stats.register(\"avg\", np.mean)\n",
        "stats.register(\"std\", np.std)\n",
        "stats.register(\"min\", np.min)\n",
        "stats.register(\"max\", np.max)"
      ],
      "metadata": {
        "id": "TkP_2nWWPwev"
      },
      "execution_count": 87,
      "outputs": []
    },
    {
      "cell_type": "code",
      "source": [
        "best = None\n",
        "groups = { \"fitness\" : {\"min\", \"max\"}}\n",
        "plotlosses = PlotLosses(groups=groups)\n",
        "\n",
        "for g in range(NGEN):\n",
        "  pop, logbook = algorithms.eaSimple(pop, toolbox, \n",
        "            cxpb=CXPB, mutpb=MUTPB, ngen=RGEN, stats=stats, halloffame=hof, verbose=False)\n",
        "  best = hof[0] \n",
        "  best_fit = evaluate(best, train=True) \n",
        "        \n",
        "  for l in logbook:\n",
        "    plotlosses.update({'max': l[\"max\"], 'min': l[\"min\"]})    \n",
        "  plotlosses.send()  # draw, update logs, etc\n",
        "  print(f\"Gen ({(g+1)*RGEN}) Best Fitness ({best_fit})\")"
      ],
      "metadata": {
        "colab": {
          "base_uri": "https://localhost:8080/",
          "height": 689
        },
        "id": "B6vJQ6sDRfhE",
        "outputId": "a5c440e5-b6aa-48d7-f30e-2d604978bc2c"
      },
      "execution_count": null,
      "outputs": [
        {
          "output_type": "display_data",
          "data": {
            "text/plain": [
              "<Figure size 864x576 with 2 Axes>"
            ],
            "image/png": "[encoded data removed]"
          },
          "metadata": {
            "needs_background": "light"
          }
        },
        {
          "output_type": "stream",
          "name": "stdout",
          "text": [
            "fitness\n",
            "\tmax              \t (min:  -42.364, max:  124.727, cur:   72.857)\n",
            "\tmin              \t (min: -1155.257, max:   -1.862, cur:  -64.080)\n",
            "Gen (102) Best Fitness ((-57.133287809951526,))\n",
            "-50.358696611826126\n",
            "108.80536639192476\n"
          ]
        }
      ]
    },
    {
      "cell_type": "code",
      "source": [
        "fitness = 0\n",
        "frames = []\n",
        "\n",
        "state = env.reset()\n",
        "done = False\n",
        "while not done:  \n",
        "  state = np.reshape(state, [1, state_size])\n",
        "  action = agent.act(state)\n",
        "  next_state, reward, done, _ = env.step(action)  \n",
        "  state = next_state\n",
        "  fitness += reward\n",
        "  frames.append(env.render(mode='rgb_array'))\n",
        "env.close()\n",
        "\n",
        "print(fitness)\n",
        "mediapy.show_video(frames, fps=30)"
      ],
      "metadata": {
        "id": "L5Mm0dwAfmlT"
      },
      "execution_count": null,
      "outputs": []
    }
  ]
}