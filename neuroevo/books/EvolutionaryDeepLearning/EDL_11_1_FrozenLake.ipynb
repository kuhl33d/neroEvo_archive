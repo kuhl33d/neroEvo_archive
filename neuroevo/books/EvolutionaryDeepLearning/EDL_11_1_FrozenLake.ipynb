{
  "nbformat": 4,
  "nbformat_minor": 0,
  "metadata": {
    "colab": {
      "name": "EDL_11_1_FrozenLake.ipynb",
      "provenance": [],
      "collapsed_sections": [],
      "include_colab_link": true
    },
    "kernelspec": {
      "name": "python3",
      "display_name": "Python 3"
    }
  },
  "cells": [
    {
      "cell_type": "markdown",
      "metadata": {
        "id": "view-in-github",
        "colab_type": "text"
      },
      "source": [
        "<a href=\"https://colab.research.google.com/github/cxbxmxcx/EvolutionaryDeepLearning/blob/main/EDL_11_1_FrozenLake.ipynb\" target=\"_parent\"><img src=\"https://colab.research.google.com/assets/colab-badge.svg\" alt=\"Open In Colab\"/></a>"
      ]
    },
    {
      "metadata": {
        "id": "gxxpHDIs_lvg",
        "colab": {
          "base_uri": "https://localhost:8080/"
        },
        "outputId": "71ebc1d1-ec04-4eab-907c-3e358eb29b6b"
      },
      "cell_type": "code",
      "source": [
        "!pip install gym"
      ],
      "execution_count": null,
      "outputs": [
        {
          "output_type": "stream",
          "name": "stdout",
          "text": [
            "Looking in indexes: https://pypi.org/simple, https://us-python.pkg.dev/colab-wheels/public/simple/\n",
            "Requirement already satisfied: gym in /usr/local/lib/python3.7/dist-packages (0.17.3)\n",
            "Requirement already satisfied: numpy>=1.10.4 in /usr/local/lib/python3.7/dist-packages (from gym) (1.21.6)\n",
            "Requirement already satisfied: scipy in /usr/local/lib/python3.7/dist-packages (from gym) (1.4.1)\n",
            "Requirement already satisfied: pyglet<=1.5.0,>=1.4.0 in /usr/local/lib/python3.7/dist-packages (from gym) (1.5.0)\n",
            "Requirement already satisfied: cloudpickle<1.7.0,>=1.2.0 in /usr/local/lib/python3.7/dist-packages (from gym) (1.3.0)\n",
            "Requirement already satisfied: future in /usr/local/lib/python3.7/dist-packages (from pyglet<=1.5.0,>=1.4.0->gym) (0.16.0)\n"
          ]
        }
      ]
    },
    {
      "metadata": {
        "id": "oU8zRXv8QHlm"
      },
      "cell_type": "code",
      "source": [
        "#@title Imports\n",
        "import numpy as np\n",
        "import gym\n",
        "import random"
      ],
      "execution_count": null,
      "outputs": []
    },
    {
      "metadata": {
        "id": "mh9jBR_cQ5_a"
      },
      "cell_type": "code",
      "source": [
        "#@title Create the Environment\n",
        "env = gym.make(\"FrozenLake-v0\")"
      ],
      "execution_count": null,
      "outputs": []
    },
    {
      "metadata": {
        "id": "Uc0xDVd_Q-C8",
        "colab": {
          "base_uri": "https://localhost:8080/"
        },
        "outputId": "ff8f1d35-f4d0-4bc7-98f2-e4718458fa06"
      },
      "cell_type": "code",
      "source": [
        "#title Get Action/State sizes\n",
        "action_size = env.action_space.n\n",
        "state_size = env.observation_space.n\n",
        "print(action_size, state_size)"
      ],
      "execution_count": null,
      "outputs": [
        {
          "output_type": "stream",
          "name": "stdout",
          "text": [
            "4 16\n"
          ]
        }
      ]
    },
    {
      "metadata": {
        "id": "17XBPCecAsZG",
        "colab": {
          "base_uri": "https://localhost:8080/"
        },
        "outputId": "a211a862-c994-4f96-9368-a50507ad8e73"
      },
      "cell_type": "code",
      "source": [
        "# Build Q table\n",
        "Q = np.zeros((state_size, action_size))\n",
        "print(Q)"
      ],
      "execution_count": null,
      "outputs": [
        {
          "output_type": "stream",
          "name": "stdout",
          "text": [
            "[[0. 0. 0. 0.]\n",
            " [0. 0. 0. 0.]\n",
            " [0. 0. 0. 0.]\n",
            " [0. 0. 0. 0.]\n",
            " [0. 0. 0. 0.]\n",
            " [0. 0. 0. 0.]\n",
            " [0. 0. 0. 0.]\n",
            " [0. 0. 0. 0.]\n",
            " [0. 0. 0. 0.]\n",
            " [0. 0. 0. 0.]\n",
            " [0. 0. 0. 0.]\n",
            " [0. 0. 0. 0.]\n",
            " [0. 0. 0. 0.]\n",
            " [0. 0. 0. 0.]\n",
            " [0. 0. 0. 0.]\n",
            " [0. 0. 0. 0.]]\n"
          ]
        }
      ]
    },
    {
      "metadata": {
        "id": "FJhPxx7UAunE"
      },
      "cell_type": "code",
      "source": [
        "#@title Hyperparameters\n",
        "total_episodes = 20000       # Total episodes\n",
        "learning_rate = 0.7          # Learning rate\n",
        "max_steps = 99               # Max steps per episode\n",
        "gamma = 0.95                 # Discounting rate\n",
        "\n",
        "# Exploration parameters\n",
        "epsilon = 1.0                 # Exploration rate\n",
        "max_epsilon = 1.0             # Exploration probability at start\n",
        "min_epsilon = 0.01            # Minimum exploration probability \n",
        "decay_rate = 0.005            # Exponential decay rate for exploration prob"
      ],
      "execution_count": null,
      "outputs": []
    },
    {
      "cell_type": "code",
      "source": [
        "def choose_action(state):\n",
        "  if random.uniform(0, 1) > epsilon:\n",
        "    return np.argmax(Q[state,:])  \n",
        "  else:\n",
        "    return env.action_space.sample()"
      ],
      "metadata": {
        "id": "-DQXuEJfrc8B"
      },
      "execution_count": null,
      "outputs": []
    },
    {
      "cell_type": "code",
      "source": [
        "#@title Learn\n",
        "def learn(reward, state, action, new_state):\n",
        "  # Update Q(s,a):= Q(s,a) + lr [R(s,a) + gamma * max Q(s',a') - Q(s,a)]\n",
        "  # qtable[new_state,:] : all the actions we can take from new state\n",
        "  Q[state, action] = Q[state, action] + learning_rate * (reward + gamma * np.max(Q[new_state, :]) - Q[state, action])"
      ],
      "metadata": {
        "id": "Du5nr26gr8Qe"
      },
      "execution_count": null,
      "outputs": []
    },
    {
      "metadata": {
        "id": "5Dqqo_8LA5De",
        "colab": {
          "base_uri": "https://localhost:8080/"
        },
        "outputId": "44d7c68f-89ff-4c56-f23a-0050e8396e8b"
      },
      "cell_type": "code",
      "source": [
        "#@title Train the Agent\n",
        "# List of rewards\n",
        "rewards = []\n",
        "epsilon = 1.0\n",
        "\n",
        "# 2 For life or until learning is stopped\n",
        "for episode in range(total_episodes):\n",
        "    # Reset the environment\n",
        "    state = env.reset()\n",
        "    step = 0\n",
        "    done = False\n",
        "    total_rewards = 0\n",
        "    \n",
        "    for step in range(max_steps):  \n",
        "        action = choose_action(state)    \n",
        "\n",
        "        #excute the action\n",
        "        new_state, reward, done, info = env.step(action)\n",
        "\n",
        "        learn(reward, state, action, new_state)\n",
        "        \n",
        "        total_rewards += reward        \n",
        "        # Our new state is state\n",
        "        state = new_state\n",
        "        \n",
        "        # If done (if we're dead) : finish episode\n",
        "        if done == True: \n",
        "            break\n",
        "\n",
        "    # Reduce epsilon (because we need less and less exploration)\n",
        "    epsilon = min_epsilon + (max_epsilon - min_epsilon)*np.exp(-decay_rate*episode) \n",
        "    rewards.append(total_rewards)\n",
        "    \n",
        "\n",
        "print (\"Score over time: \" +  str(sum(rewards)/total_episodes))\n",
        "print(Q)"
      ],
      "execution_count": null,
      "outputs": [
        {
          "output_type": "stream",
          "name": "stdout",
          "text": [
            "Score over time: 0.4985\n",
            "[[1.93032136e-01 8.87165050e-02 3.40922159e-02 8.70720778e-02]\n",
            " [1.48896402e-02 2.29885947e-02 7.60054976e-03 8.47165913e-02]\n",
            " [5.59352024e-02 1.01959480e-02 7.90658835e-03 6.46472538e-02]\n",
            " [5.31031324e-03 1.72618144e-03 4.36539506e-03 5.49684168e-02]\n",
            " [2.89124812e-01 8.58418603e-02 2.57275211e-02 1.09284859e-01]\n",
            " [0.00000000e+00 0.00000000e+00 0.00000000e+00 0.00000000e+00]\n",
            " [1.79260048e-03 3.48226355e-04 3.58044111e-02 7.87560603e-04]\n",
            " [0.00000000e+00 0.00000000e+00 0.00000000e+00 0.00000000e+00]\n",
            " [1.02886671e-01 2.03142159e-02 3.54334835e-02 3.73245360e-01]\n",
            " [1.66879406e-02 5.78982746e-01 2.27941089e-02 2.11243714e-02]\n",
            " [8.26637922e-01 8.73569735e-03 6.83932886e-03 1.61863538e-03]\n",
            " [0.00000000e+00 0.00000000e+00 0.00000000e+00 0.00000000e+00]\n",
            " [0.00000000e+00 0.00000000e+00 0.00000000e+00 0.00000000e+00]\n",
            " [1.27066414e-01 1.43113433e-01 8.27926107e-01 9.21551202e-02]\n",
            " [1.10208411e-01 9.83905614e-01 2.99359344e-01 2.56528839e-01]\n",
            " [0.00000000e+00 0.00000000e+00 0.00000000e+00 0.00000000e+00]]\n"
          ]
        }
      ]
    },
    {
      "metadata": {
        "id": "Bt8UsREaBNkJ",
        "colab": {
          "base_uri": "https://localhost:8080/"
        },
        "outputId": "37ee982d-6a32-4723-c18d-0d686fd112b5"
      },
      "cell_type": "code",
      "source": [
        "#@title Run the agent\n",
        "env.reset()\n",
        "\n",
        "for episode in range(5):\n",
        "    state = env.reset()\n",
        "    steps = 0\n",
        "    done = False\n",
        "    print(\"****************************************************\")\n",
        "    print(\"EPISODE \", episode)\n",
        "\n",
        "    for step in range(max_steps):\n",
        "        \n",
        "        # Take the action (index) that have the maximum expected future reward given that state\n",
        "        action = np.argmax(Q[state,:])\n",
        "        \n",
        "        new_state, reward, done, info = env.step(action)\n",
        "        \n",
        "        if done:\n",
        "            # Here, we decide to only print the last state (to see if our agent is on the goal or fall into an hole)\n",
        "            env.render()\n",
        "            if new_state == 15:\n",
        "                print(\"Goal reached 🏆\")\n",
        "            else:\n",
        "                print(\"Aaaah ☠️\")\n",
        "            \n",
        "            # We print the number of step it took.\n",
        "            print(\"Number of steps\", step)\n",
        "            \n",
        "            break\n",
        "        state = new_state\n",
        "env.close()"
      ],
      "execution_count": null,
      "outputs": [
        {
          "output_type": "stream",
          "name": "stdout",
          "text": [
            "****************************************************\n",
            "EPISODE  0\n",
            "  (Down)\n",
            "SFFF\n",
            "FHFH\n",
            "FFFH\n",
            "HFF\u001b[41mG\u001b[0m\n",
            "Goal reached 🏆\n",
            "Number of steps 24\n",
            "****************************************************\n",
            "EPISODE  1\n",
            "  (Down)\n",
            "SFFF\n",
            "FHFH\n",
            "FFFH\n",
            "HFF\u001b[41mG\u001b[0m\n",
            "Goal reached 🏆\n",
            "Number of steps 31\n",
            "****************************************************\n",
            "EPISODE  2\n",
            "  (Down)\n",
            "SFFF\n",
            "FHFH\n",
            "FFFH\n",
            "HFF\u001b[41mG\u001b[0m\n",
            "Goal reached 🏆\n",
            "Number of steps 25\n",
            "****************************************************\n",
            "EPISODE  3\n",
            "  (Down)\n",
            "SFFF\n",
            "FHFH\n",
            "FFFH\n",
            "HFF\u001b[41mG\u001b[0m\n",
            "Goal reached 🏆\n",
            "Number of steps 92\n",
            "****************************************************\n",
            "EPISODE  4\n",
            "  (Down)\n",
            "SFFF\n",
            "FHFH\n",
            "FFFH\n",
            "HFF\u001b[41mG\u001b[0m\n",
            "Goal reached 🏆\n",
            "Number of steps 6\n"
          ]
        }
      ]
    }
  ]
}