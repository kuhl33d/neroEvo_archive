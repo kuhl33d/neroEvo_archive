{
  "nbformat": 4,
  "nbformat_minor": 0,
  "metadata": {
    "colab": {
      "name": "EDL_2_2_Simulating_Life.ipynb",
      "provenance": [],
      "collapsed_sections": [],
      "authorship_tag": "ABX9TyM4yg4pYpH+T3kUDYw597mP",
      "include_colab_link": true
    },
    "kernelspec": {
      "name": "python3",
      "display_name": "Python 3"
    },
    "language_info": {
      "name": "python"
    }
  },
  "cells": [
    {
      "cell_type": "markdown",
      "metadata": {
        "id": "view-in-github",
        "colab_type": "text"
      },
      "source": [
        "<a href=\"https://colab.research.google.com/github/cxbxmxcx/EvolutionaryDeepLearning/blob/main/EDL_2_2_Simulating_Life.ipynb\" target=\"_parent\"><img src=\"https://colab.research.google.com/assets/colab-badge.svg\" alt=\"Open In Colab\"/></a>"
      ]
    },
    {
      "cell_type": "code",
      "metadata": {
        "id": "Fhzb2-auwAzl"
      },
      "source": [
        "import random\n",
        "import time\n",
        "import matplotlib.pyplot as plt\n",
        "from IPython.display import clear_output"
      ],
      "execution_count": null,
      "outputs": []
    },
    {
      "cell_type": "code",
      "metadata": {
        "colab": {
          "base_uri": "https://localhost:8080/"
        },
        "id": "UCWWgjhDSFKY",
        "outputId": "f380ca28-ed95-487a-a159-77ff902e3cb8"
      },
      "source": [
        "def create_cell():\n",
        "  return dict(health = random.randint(1, 100))                     \n",
        "\n",
        "def birth(offspring):\n",
        "  return [create_cell() for i in range(offspring)]\n",
        "\n",
        "cells = birth(10)\n",
        "print(cells)"
      ],
      "execution_count": null,
      "outputs": [
        {
          "output_type": "stream",
          "name": "stdout",
          "text": [
            "[{'health': 90}, {'health': 100}, {'health': 44}, {'health': 79}, {'health': 39}, {'health': 14}, {'health': 57}, {'health': 70}, {'health': 18}, {'health': 53}]\n"
          ]
        }
      ]
    },
    {
      "cell_type": "code",
      "metadata": {
        "id": "ViAjsf6PuxFk"
      },
      "source": [
        "RPRD_RATE = 25\n",
        "DEATH_RATE = 25\n",
        "  \n",
        "def reproduce(cells):\n",
        "  return [create_cell() for cell in cells if random.randint(1, 100) < RPRD_RATE]  \n",
        "\n",
        "def death(cells):\n",
        "  return [cell for cell in cells if random.randint(1, 100) > DEATH_RATE ]\n",
        "\n",
        "def run_generation(cells):\n",
        "  cells.extend(reproduce(cells))\n",
        "  return death(cells)"
      ],
      "execution_count": null,
      "outputs": []
    },
    {
      "cell_type": "code",
      "metadata": {
        "colab": {
          "base_uri": "https://localhost:8080/",
          "height": 265
        },
        "cellView": "form",
        "id": "IL8S79ewzSHT",
        "outputId": "b4d53014-4115-4404-87a3-0f9a2e7742f4"
      },
      "source": [
        "#@title Simulate the Cells Population Growth\n",
        "generations = 10 #@param {type:\"slider\", min:1, max:25, step:1}\n",
        "initial_offspring = 10 #@param {type:\"slider\", min:10, max:1000, step:1}\n",
        "reproduction_rate = 50 #@param {type:\"slider\", min:1, max:100, step:1}\n",
        "death_rate = 25 #@param {type:\"slider\", min:1, max:100, step:1}\n",
        "\n",
        "RPRD_RATE = reproduction_rate\n",
        "DEATH_RATE = death_rate\n",
        "cells = birth(initial_offspring)\n",
        "\n",
        "history = []\n",
        "for i in range(generations):  \n",
        "  cells = run_generation(cells)\n",
        "  history.append(len(cells))  \n",
        "  clear_output()\n",
        "  plt.plot(history)\n",
        "  plt.show()\n",
        "  time.sleep(1)\n",
        "  "
      ],
      "execution_count": null,
      "outputs": [
        {
          "output_type": "display_data",
          "data": {
            "image/png": "[encoded data removed]",
            "text/plain": [
              "<Figure size 432x288 with 1 Axes>"
            ]
          },
          "metadata": {
            "needs_background": "light"
          }
        }
      ]
    }
  ]
}